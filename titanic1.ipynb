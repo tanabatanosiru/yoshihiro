{
  "nbformat": 4,
  "nbformat_minor": 0,
  "metadata": {
    "colab": {
      "name": "Untitled14.ipynb",
      "provenance": [],
      "collapsed_sections": []
    },
    "kernelspec": {
      "name": "python3",
      "display_name": "Python 3"
    }
  },
  "cells": [
    {
      "cell_type": "code",
      "metadata": {
        "id": "1ugiS6VfnGu-",
        "outputId": "0e8ec46b-5d3d-485c-bcef-f364b11f6e1a",
        "colab": {
          "base_uri": "https://localhost:8080/",
          "height": 34
        }
      },
      "source": [
        "from google.colab import drive\n",
        "drive.mount('/content/drive')"
      ],
      "execution_count": null,
      "outputs": [
        {
          "output_type": "stream",
          "text": [
            "Mounted at /content/drive\n"
          ],
          "name": "stdout"
        }
      ]
    },
    {
      "cell_type": "code",
      "metadata": {
        "id": "R0w9RNtKn499",
        "outputId": "44c6bde7-58f0-4e04-dcc4-a4b944d56b65",
        "colab": {
          "base_uri": "https://localhost:8080/",
          "height": 1000
        }
      },
      "source": [
        "import csv\n",
        "\n",
        "csvfile = open('/content/drive/My Drive/train.csv')\n",
        "reader = csv.DictReader(csvfile)\n",
        "\n",
        "for row in reader:\n",
        " print(row)"
      ],
      "execution_count": null,
      "outputs": [
        {
          "output_type": "stream",
          "text": [
            "OrderedDict([('PassengerId', '1'), ('Perished', '1'), ('Pclass', '3'), ('Name', 'Braund, Mr. Owen Harris'), ('Sex', 'male'), ('Age', '22.0'), ('SibSp', '1'), ('Parch', '0'), ('Ticket', 'A/5 21171'), ('Fare', '7.25'), ('Cabin', ''), ('Embarked', 'S')])\n",
            "OrderedDict([('PassengerId', '2'), ('Perished', '0'), ('Pclass', '1'), ('Name', 'Cumings, Mrs. John Bradley (Florence Briggs Thayer)'), ('Sex', 'female'), ('Age', '38.0'), ('SibSp', '1'), ('Parch', '0'), ('Ticket', 'PC 17599'), ('Fare', '71.2833'), ('Cabin', 'C85'), ('Embarked', 'C')])\n",
            "OrderedDict([('PassengerId', '3'), ('Perished', '0'), ('Pclass', '3'), ('Name', 'Heikkinen, Miss. Laina'), ('Sex', 'female'), ('Age', '26.0'), ('SibSp', '0'), ('Parch', '0'), ('Ticket', 'STON/O2. 3101282'), ('Fare', '7.925'), ('Cabin', ''), ('Embarked', 'S')])\n",
            "OrderedDict([('PassengerId', '4'), ('Perished', '0'), ('Pclass', '1'), ('Name', 'Futrelle, Mrs. Jacques Heath (Lily May Peel)'), ('Sex', 'female'), ('Age', '35.0'), ('SibSp', '1'), ('Parch', '0'), ('Ticket', '113803'), ('Fare', '53.1'), ('Cabin', 'C123'), ('Embarked', 'S')])\n",
            "OrderedDict([('PassengerId', '5'), ('Perished', '1'), ('Pclass', '3'), ('Name', 'Allen, Mr. William Henry'), ('Sex', 'male'), ('Age', '35.0'), ('SibSp', '0'), ('Parch', '0'), ('Ticket', '373450'), ('Fare', '8.05'), ('Cabin', ''), ('Embarked', 'S')])\n",
            "OrderedDict([('PassengerId', '6'), ('Perished', '1'), ('Pclass', '3'), ('Name', 'Moran, Mr. James'), ('Sex', 'male'), ('Age', ''), ('SibSp', '0'), ('Parch', '0'), ('Ticket', '330877'), ('Fare', '8.4583'), ('Cabin', ''), ('Embarked', 'Q')])\n",
            "OrderedDict([('PassengerId', '7'), ('Perished', '1'), ('Pclass', '1'), ('Name', 'McCarthy, Mr. Timothy J'), ('Sex', 'male'), ('Age', '54.0'), ('SibSp', '0'), ('Parch', '0'), ('Ticket', '17463'), ('Fare', '51.8625'), ('Cabin', 'E46'), ('Embarked', 'S')])\n",
            "OrderedDict([('PassengerId', '8'), ('Perished', '1'), ('Pclass', '3'), ('Name', 'Palsson, Master. Gosta Leonard'), ('Sex', 'male'), ('Age', '2.0'), ('SibSp', '3'), ('Parch', '1'), ('Ticket', '349909'), ('Fare', '21.075'), ('Cabin', ''), ('Embarked', 'S')])\n",
            "OrderedDict([('PassengerId', '9'), ('Perished', '0'), ('Pclass', '3'), ('Name', 'Johnson, Mrs. Oscar W (Elisabeth Vilhelmina Berg)'), ('Sex', 'female'), ('Age', '27.0'), ('SibSp', '0'), ('Parch', '2'), ('Ticket', '347742'), ('Fare', '11.1333'), ('Cabin', ''), ('Embarked', 'S')])\n",
            "OrderedDict([('PassengerId', '10'), ('Perished', '0'), ('Pclass', '2'), ('Name', 'Nasser, Mrs. Nicholas (Adele Achem)'), ('Sex', 'female'), ('Age', '14.0'), ('SibSp', '1'), ('Parch', '0'), ('Ticket', '237736'), ('Fare', '30.0708'), ('Cabin', ''), ('Embarked', 'C')])\n",
            "OrderedDict([('PassengerId', '11'), ('Perished', '0'), ('Pclass', '3'), ('Name', 'Sandstrom, Miss. Marguerite Rut'), ('Sex', 'female'), ('Age', '4.0'), ('SibSp', '1'), ('Parch', '1'), ('Ticket', 'PP 9549'), ('Fare', '16.7'), ('Cabin', 'G6'), ('Embarked', 'S')])\n",
            "OrderedDict([('PassengerId', '12'), ('Perished', '0'), ('Pclass', '1'), ('Name', 'Bonnell, Miss. Elizabeth'), ('Sex', 'female'), ('Age', '58.0'), ('SibSp', '0'), ('Parch', '0'), ('Ticket', '113783'), ('Fare', '26.55'), ('Cabin', 'C103'), ('Embarked', 'S')])\n",
            "OrderedDict([('PassengerId', '13'), ('Perished', '1'), ('Pclass', '3'), ('Name', 'Saundercock, Mr. William Henry'), ('Sex', 'male'), ('Age', '20.0'), ('SibSp', '0'), ('Parch', '0'), ('Ticket', 'A/5. 2151'), ('Fare', '8.05'), ('Cabin', ''), ('Embarked', 'S')])\n",
            "OrderedDict([('PassengerId', '14'), ('Perished', '1'), ('Pclass', '3'), ('Name', 'Andersson, Mr. Anders Johan'), ('Sex', 'male'), ('Age', '39.0'), ('SibSp', '1'), ('Parch', '5'), ('Ticket', '347082'), ('Fare', '31.275'), ('Cabin', ''), ('Embarked', 'S')])\n",
            "OrderedDict([('PassengerId', '15'), ('Perished', '1'), ('Pclass', '3'), ('Name', 'Vestrom, Miss. Hulda Amanda Adolfina'), ('Sex', 'female'), ('Age', '14.0'), ('SibSp', '0'), ('Parch', '0'), ('Ticket', '350406'), ('Fare', '7.8542'), ('Cabin', ''), ('Embarked', 'S')])\n",
            "OrderedDict([('PassengerId', '16'), ('Perished', '0'), ('Pclass', '2'), ('Name', 'Hewlett, Mrs. (Mary D Kingcome) '), ('Sex', 'female'), ('Age', '55.0'), ('SibSp', '0'), ('Parch', '0'), ('Ticket', '248706'), ('Fare', '16.0'), ('Cabin', ''), ('Embarked', 'S')])\n",
            "OrderedDict([('PassengerId', '17'), ('Perished', '1'), ('Pclass', '3'), ('Name', 'Rice, Master. Eugene'), ('Sex', 'male'), ('Age', '2.0'), ('SibSp', '4'), ('Parch', '1'), ('Ticket', '382652'), ('Fare', '29.125'), ('Cabin', ''), ('Embarked', 'Q')])\n",
            "OrderedDict([('PassengerId', '18'), ('Perished', '0'), ('Pclass', '2'), ('Name', 'Williams, Mr. Charles Eugene'), ('Sex', 'male'), ('Age', ''), ('SibSp', '0'), ('Parch', '0'), ('Ticket', '244373'), ('Fare', '13.0'), ('Cabin', ''), ('Embarked', 'S')])\n",
            "OrderedDict([('PassengerId', '19'), ('Perished', '1'), ('Pclass', '3'), ('Name', 'Vander Planke, Mrs. Julius (Emelia Maria Vandemoortele)'), ('Sex', 'female'), ('Age', '31.0'), ('SibSp', '1'), ('Parch', '0'), ('Ticket', '345763'), ('Fare', '18.0'), ('Cabin', ''), ('Embarked', 'S')])\n",
            "OrderedDict([('PassengerId', '20'), ('Perished', '0'), ('Pclass', '3'), ('Name', 'Masselmani, Mrs. Fatima'), ('Sex', 'female'), ('Age', ''), ('SibSp', '0'), ('Parch', '0'), ('Ticket', '2649'), ('Fare', '7.225'), ('Cabin', ''), ('Embarked', 'C')])\n",
            "OrderedDict([('PassengerId', '21'), ('Perished', '1'), ('Pclass', '2'), ('Name', 'Fynney, Mr. Joseph J'), ('Sex', 'male'), ('Age', '35.0'), ('SibSp', '0'), ('Parch', '0'), ('Ticket', '239865'), ('Fare', '26.0'), ('Cabin', ''), ('Embarked', 'S')])\n",
            "OrderedDict([('PassengerId', '22'), ('Perished', '0'), ('Pclass', '2'), ('Name', 'Beesley, Mr. Lawrence'), ('Sex', 'male'), ('Age', '34.0'), ('SibSp', '0'), ('Parch', '0'), ('Ticket', '248698'), ('Fare', '13.0'), ('Cabin', 'D56'), ('Embarked', 'S')])\n",
            "OrderedDict([('PassengerId', '23'), ('Perished', '0'), ('Pclass', '3'), ('Name', 'McGowan, Miss. Anna \"Annie\"'), ('Sex', 'female'), ('Age', '15.0'), ('SibSp', '0'), ('Parch', '0'), ('Ticket', '330923'), ('Fare', '8.0292'), ('Cabin', ''), ('Embarked', 'Q')])\n",
            "OrderedDict([('PassengerId', '24'), ('Perished', '0'), ('Pclass', '1'), ('Name', 'Sloper, Mr. William Thompson'), ('Sex', 'male'), ('Age', '28.0'), ('SibSp', '0'), ('Parch', '0'), ('Ticket', '113788'), ('Fare', '35.5'), ('Cabin', 'A6'), ('Embarked', 'S')])\n",
            "OrderedDict([('PassengerId', '25'), ('Perished', '1'), ('Pclass', '3'), ('Name', 'Palsson, Miss. Torborg Danira'), ('Sex', 'female'), ('Age', '8.0'), ('SibSp', '3'), ('Parch', '1'), ('Ticket', '349909'), ('Fare', '21.075'), ('Cabin', ''), ('Embarked', 'S')])\n",
            "OrderedDict([('PassengerId', '26'), ('Perished', '0'), ('Pclass', '3'), ('Name', 'Asplund, Mrs. Carl Oscar (Selma Augusta Emilia Johansson)'), ('Sex', 'female'), ('Age', '38.0'), ('SibSp', '1'), ('Parch', '5'), ('Ticket', '347077'), ('Fare', '31.3875'), ('Cabin', ''), ('Embarked', 'S')])\n",
            "OrderedDict([('PassengerId', '27'), ('Perished', '1'), ('Pclass', '3'), ('Name', 'Emir, Mr. Farred Chehab'), ('Sex', 'male'), ('Age', ''), ('SibSp', '0'), ('Parch', '0'), ('Ticket', '2631'), ('Fare', '7.225'), ('Cabin', ''), ('Embarked', 'C')])\n",
            "OrderedDict([('PassengerId', '28'), ('Perished', '1'), ('Pclass', '1'), ('Name', 'Fortune, Mr. Charles Alexander'), ('Sex', 'male'), ('Age', '19.0'), ('SibSp', '3'), ('Parch', '2'), ('Ticket', '19950'), ('Fare', '263.0'), ('Cabin', 'C23 C25 C27'), ('Embarked', 'S')])\n",
            "OrderedDict([('PassengerId', '29'), ('Perished', '0'), ('Pclass', '3'), ('Name', 'O\\'Dwyer, Miss. Ellen \"Nellie\"'), ('Sex', 'female'), ('Age', ''), ('SibSp', '0'), ('Parch', '0'), ('Ticket', '330959'), ('Fare', '7.8792'), ('Cabin', ''), ('Embarked', 'Q')])\n",
            "OrderedDict([('PassengerId', '30'), ('Perished', '1'), ('Pclass', '3'), ('Name', 'Todoroff, Mr. Lalio'), ('Sex', 'male'), ('Age', ''), ('SibSp', '0'), ('Parch', '0'), ('Ticket', '349216'), ('Fare', '7.8958'), ('Cabin', ''), ('Embarked', 'S')])\n",
            "OrderedDict([('PassengerId', '31'), ('Perished', '1'), ('Pclass', '1'), ('Name', 'Uruchurtu, Don. Manuel E'), ('Sex', 'male'), ('Age', '40.0'), ('SibSp', '0'), ('Parch', '0'), ('Ticket', 'PC 17601'), ('Fare', '27.7208'), ('Cabin', ''), ('Embarked', 'C')])\n",
            "OrderedDict([('PassengerId', '32'), ('Perished', '0'), ('Pclass', '1'), ('Name', 'Spencer, Mrs. William Augustus (Marie Eugenie)'), ('Sex', 'female'), ('Age', ''), ('SibSp', '1'), ('Parch', '0'), ('Ticket', 'PC 17569'), ('Fare', '146.5208'), ('Cabin', 'B78'), ('Embarked', 'C')])\n",
            "OrderedDict([('PassengerId', '33'), ('Perished', '0'), ('Pclass', '3'), ('Name', 'Glynn, Miss. Mary Agatha'), ('Sex', 'female'), ('Age', ''), ('SibSp', '0'), ('Parch', '0'), ('Ticket', '335677'), ('Fare', '7.75'), ('Cabin', ''), ('Embarked', 'Q')])\n",
            "OrderedDict([('PassengerId', '34'), ('Perished', '1'), ('Pclass', '2'), ('Name', 'Wheadon, Mr. Edward H'), ('Sex', 'male'), ('Age', '66.0'), ('SibSp', '0'), ('Parch', '0'), ('Ticket', 'C.A. 24579'), ('Fare', '10.5'), ('Cabin', ''), ('Embarked', 'S')])\n",
            "OrderedDict([('PassengerId', '35'), ('Perished', '1'), ('Pclass', '1'), ('Name', 'Meyer, Mr. Edgar Joseph'), ('Sex', 'male'), ('Age', '28.0'), ('SibSp', '1'), ('Parch', '0'), ('Ticket', 'PC 17604'), ('Fare', '82.1708'), ('Cabin', ''), ('Embarked', 'C')])\n",
            "OrderedDict([('PassengerId', '36'), ('Perished', '1'), ('Pclass', '1'), ('Name', 'Holverson, Mr. Alexander Oskar'), ('Sex', 'male'), ('Age', '42.0'), ('SibSp', '1'), ('Parch', '0'), ('Ticket', '113789'), ('Fare', '52.0'), ('Cabin', ''), ('Embarked', 'S')])\n",
            "OrderedDict([('PassengerId', '37'), ('Perished', '0'), ('Pclass', '3'), ('Name', 'Mamee, Mr. Hanna'), ('Sex', 'male'), ('Age', ''), ('SibSp', '0'), ('Parch', '0'), ('Ticket', '2677'), ('Fare', '7.2292'), ('Cabin', ''), ('Embarked', 'C')])\n",
            "OrderedDict([('PassengerId', '38'), ('Perished', '1'), ('Pclass', '3'), ('Name', 'Cann, Mr. Ernest Charles'), ('Sex', 'male'), ('Age', '21.0'), ('SibSp', '0'), ('Parch', '0'), ('Ticket', 'A./5. 2152'), ('Fare', '8.05'), ('Cabin', ''), ('Embarked', 'S')])\n",
            "OrderedDict([('PassengerId', '39'), ('Perished', '1'), ('Pclass', '3'), ('Name', 'Vander Planke, Miss. Augusta Maria'), ('Sex', 'female'), ('Age', '18.0'), ('SibSp', '2'), ('Parch', '0'), ('Ticket', '345764'), ('Fare', '18.0'), ('Cabin', ''), ('Embarked', 'S')])\n",
            "OrderedDict([('PassengerId', '40'), ('Perished', '0'), ('Pclass', '3'), ('Name', 'Nicola-Yarred, Miss. Jamila'), ('Sex', 'female'), ('Age', '14.0'), ('SibSp', '1'), ('Parch', '0'), ('Ticket', '2651'), ('Fare', '11.2417'), ('Cabin', ''), ('Embarked', 'C')])\n",
            "OrderedDict([('PassengerId', '41'), ('Perished', '1'), ('Pclass', '3'), ('Name', 'Ahlin, Mrs. Johan (Johanna Persdotter Larsson)'), ('Sex', 'female'), ('Age', '40.0'), ('SibSp', '1'), ('Parch', '0'), ('Ticket', '7546'), ('Fare', '9.475'), ('Cabin', ''), ('Embarked', 'S')])\n",
            "OrderedDict([('PassengerId', '42'), ('Perished', '1'), ('Pclass', '2'), ('Name', 'Turpin, Mrs. William John Robert (Dorothy Ann Wonnacott)'), ('Sex', 'female'), ('Age', '27.0'), ('SibSp', '1'), ('Parch', '0'), ('Ticket', '11668'), ('Fare', '21.0'), ('Cabin', ''), ('Embarked', 'S')])\n",
            "OrderedDict([('PassengerId', '43'), ('Perished', '1'), ('Pclass', '3'), ('Name', 'Kraeff, Mr. Theodor'), ('Sex', 'male'), ('Age', ''), ('SibSp', '0'), ('Parch', '0'), ('Ticket', '349253'), ('Fare', '7.8958'), ('Cabin', ''), ('Embarked', 'C')])\n",
            "OrderedDict([('PassengerId', '44'), ('Perished', '0'), ('Pclass', '2'), ('Name', 'Laroche, Miss. Simonne Marie Anne Andree'), ('Sex', 'female'), ('Age', '3.0'), ('SibSp', '1'), ('Parch', '2'), ('Ticket', 'SC/Paris 2123'), ('Fare', '41.5792'), ('Cabin', ''), ('Embarked', 'C')])\n",
            "OrderedDict([('PassengerId', '45'), ('Perished', '0'), ('Pclass', '3'), ('Name', 'Devaney, Miss. Margaret Delia'), ('Sex', 'female'), ('Age', '19.0'), ('SibSp', '0'), ('Parch', '0'), ('Ticket', '330958'), ('Fare', '7.8792'), ('Cabin', ''), ('Embarked', 'Q')])\n",
            "OrderedDict([('PassengerId', '46'), ('Perished', '1'), ('Pclass', '3'), ('Name', 'Rogers, Mr. William John'), ('Sex', 'male'), ('Age', ''), ('SibSp', '0'), ('Parch', '0'), ('Ticket', 'S.C./A.4. 23567'), ('Fare', '8.05'), ('Cabin', ''), ('Embarked', 'S')])\n",
            "OrderedDict([('PassengerId', '47'), ('Perished', '1'), ('Pclass', '3'), ('Name', 'Lennon, Mr. Denis'), ('Sex', 'male'), ('Age', ''), ('SibSp', '1'), ('Parch', '0'), ('Ticket', '370371'), ('Fare', '15.5'), ('Cabin', ''), ('Embarked', 'Q')])\n",
            "OrderedDict([('PassengerId', '48'), ('Perished', '0'), ('Pclass', '3'), ('Name', \"O'Driscoll, Miss. Bridget\"), ('Sex', 'female'), ('Age', ''), ('SibSp', '0'), ('Parch', '0'), ('Ticket', '14311'), ('Fare', '7.75'), ('Cabin', ''), ('Embarked', 'Q')])\n",
            "OrderedDict([('PassengerId', '49'), ('Perished', '1'), ('Pclass', '3'), ('Name', 'Samaan, Mr. Youssef'), ('Sex', 'male'), ('Age', ''), ('SibSp', '2'), ('Parch', '0'), ('Ticket', '2662'), ('Fare', '21.6792'), ('Cabin', ''), ('Embarked', 'C')])\n",
            "OrderedDict([('PassengerId', '50'), ('Perished', '1'), ('Pclass', '3'), ('Name', 'Arnold-Franchi, Mrs. Josef (Josefine Franchi)'), ('Sex', 'female'), ('Age', '18.0'), ('SibSp', '1'), ('Parch', '0'), ('Ticket', '349237'), ('Fare', '17.8'), ('Cabin', ''), ('Embarked', 'S')])\n",
            "OrderedDict([('PassengerId', '51'), ('Perished', '1'), ('Pclass', '3'), ('Name', 'Panula, Master. Juha Niilo'), ('Sex', 'male'), ('Age', '7.0'), ('SibSp', '4'), ('Parch', '1'), ('Ticket', '3101295'), ('Fare', '39.6875'), ('Cabin', ''), ('Embarked', 'S')])\n",
            "OrderedDict([('PassengerId', '52'), ('Perished', '1'), ('Pclass', '3'), ('Name', 'Nosworthy, Mr. Richard Cater'), ('Sex', 'male'), ('Age', '21.0'), ('SibSp', '0'), ('Parch', '0'), ('Ticket', 'A/4. 39886'), ('Fare', '7.8'), ('Cabin', ''), ('Embarked', 'S')])\n",
            "OrderedDict([('PassengerId', '53'), ('Perished', '0'), ('Pclass', '1'), ('Name', 'Harper, Mrs. Henry Sleeper (Myna Haxtun)'), ('Sex', 'female'), ('Age', '49.0'), ('SibSp', '1'), ('Parch', '0'), ('Ticket', 'PC 17572'), ('Fare', '76.7292'), ('Cabin', 'D33'), ('Embarked', 'C')])\n",
            "OrderedDict([('PassengerId', '54'), ('Perished', '0'), ('Pclass', '2'), ('Name', 'Faunthorpe, Mrs. Lizzie (Elizabeth Anne Wilkinson)'), ('Sex', 'female'), ('Age', '29.0'), ('SibSp', '1'), ('Parch', '0'), ('Ticket', '2926'), ('Fare', '26.0'), ('Cabin', ''), ('Embarked', 'S')])\n",
            "OrderedDict([('PassengerId', '55'), ('Perished', '1'), ('Pclass', '1'), ('Name', 'Ostby, Mr. Engelhart Cornelius'), ('Sex', 'male'), ('Age', '65.0'), ('SibSp', '0'), ('Parch', '1'), ('Ticket', '113509'), ('Fare', '61.9792'), ('Cabin', 'B30'), ('Embarked', 'C')])\n",
            "OrderedDict([('PassengerId', '56'), ('Perished', '0'), ('Pclass', '1'), ('Name', 'Woolner, Mr. Hugh'), ('Sex', 'male'), ('Age', ''), ('SibSp', '0'), ('Parch', '0'), ('Ticket', '19947'), ('Fare', '35.5'), ('Cabin', 'C52'), ('Embarked', 'S')])\n",
            "OrderedDict([('PassengerId', '57'), ('Perished', '0'), ('Pclass', '2'), ('Name', 'Rugg, Miss. Emily'), ('Sex', 'female'), ('Age', '21.0'), ('SibSp', '0'), ('Parch', '0'), ('Ticket', 'C.A. 31026'), ('Fare', '10.5'), ('Cabin', ''), ('Embarked', 'S')])\n",
            "OrderedDict([('PassengerId', '58'), ('Perished', '1'), ('Pclass', '3'), ('Name', 'Novel, Mr. Mansouer'), ('Sex', 'male'), ('Age', '28.5'), ('SibSp', '0'), ('Parch', '0'), ('Ticket', '2697'), ('Fare', '7.2292'), ('Cabin', ''), ('Embarked', 'C')])\n",
            "OrderedDict([('PassengerId', '59'), ('Perished', '0'), ('Pclass', '2'), ('Name', 'West, Miss. Constance Mirium'), ('Sex', 'female'), ('Age', '5.0'), ('SibSp', '1'), ('Parch', '2'), ('Ticket', 'C.A. 34651'), ('Fare', '27.75'), ('Cabin', ''), ('Embarked', 'S')])\n",
            "OrderedDict([('PassengerId', '60'), ('Perished', '1'), ('Pclass', '3'), ('Name', 'Goodwin, Master. William Frederick'), ('Sex', 'male'), ('Age', '11.0'), ('SibSp', '5'), ('Parch', '2'), ('Ticket', 'CA 2144'), ('Fare', '46.9'), ('Cabin', ''), ('Embarked', 'S')])\n",
            "OrderedDict([('PassengerId', '61'), ('Perished', '1'), ('Pclass', '3'), ('Name', 'Sirayanian, Mr. Orsen'), ('Sex', 'male'), ('Age', '22.0'), ('SibSp', '0'), ('Parch', '0'), ('Ticket', '2669'), ('Fare', '7.2292'), ('Cabin', ''), ('Embarked', 'C')])\n",
            "OrderedDict([('PassengerId', '62'), ('Perished', '0'), ('Pclass', '1'), ('Name', 'Icard, Miss. Amelie'), ('Sex', 'female'), ('Age', '38.0'), ('SibSp', '0'), ('Parch', '0'), ('Ticket', '113572'), ('Fare', '80.0'), ('Cabin', 'B28'), ('Embarked', '')])\n",
            "OrderedDict([('PassengerId', '63'), ('Perished', '1'), ('Pclass', '1'), ('Name', 'Harris, Mr. Henry Birkhardt'), ('Sex', 'male'), ('Age', '45.0'), ('SibSp', '1'), ('Parch', '0'), ('Ticket', '36973'), ('Fare', '83.475'), ('Cabin', 'C83'), ('Embarked', 'S')])\n",
            "OrderedDict([('PassengerId', '64'), ('Perished', '1'), ('Pclass', '3'), ('Name', 'Skoog, Master. Harald'), ('Sex', 'male'), ('Age', '4.0'), ('SibSp', '3'), ('Parch', '2'), ('Ticket', '347088'), ('Fare', '27.9'), ('Cabin', ''), ('Embarked', 'S')])\n",
            "OrderedDict([('PassengerId', '65'), ('Perished', '1'), ('Pclass', '1'), ('Name', 'Stewart, Mr. Albert A'), ('Sex', 'male'), ('Age', ''), ('SibSp', '0'), ('Parch', '0'), ('Ticket', 'PC 17605'), ('Fare', '27.7208'), ('Cabin', ''), ('Embarked', 'C')])\n",
            "OrderedDict([('PassengerId', '66'), ('Perished', '0'), ('Pclass', '3'), ('Name', 'Moubarek, Master. Gerios'), ('Sex', 'male'), ('Age', ''), ('SibSp', '1'), ('Parch', '1'), ('Ticket', '2661'), ('Fare', '15.2458'), ('Cabin', ''), ('Embarked', 'C')])\n",
            "OrderedDict([('PassengerId', '67'), ('Perished', '0'), ('Pclass', '2'), ('Name', 'Nye, Mrs. (Elizabeth Ramell)'), ('Sex', 'female'), ('Age', '29.0'), ('SibSp', '0'), ('Parch', '0'), ('Ticket', 'C.A. 29395'), ('Fare', '10.5'), ('Cabin', 'F33'), ('Embarked', 'S')])\n",
            "OrderedDict([('PassengerId', '68'), ('Perished', '1'), ('Pclass', '3'), ('Name', 'Crease, Mr. Ernest James'), ('Sex', 'male'), ('Age', '19.0'), ('SibSp', '0'), ('Parch', '0'), ('Ticket', 'S.P. 3464'), ('Fare', '8.1583'), ('Cabin', ''), ('Embarked', 'S')])\n",
            "OrderedDict([('PassengerId', '69'), ('Perished', '0'), ('Pclass', '3'), ('Name', 'Andersson, Miss. Erna Alexandra'), ('Sex', 'female'), ('Age', '17.0'), ('SibSp', '4'), ('Parch', '2'), ('Ticket', '3101281'), ('Fare', '7.925'), ('Cabin', ''), ('Embarked', 'S')])\n",
            "OrderedDict([('PassengerId', '70'), ('Perished', '1'), ('Pclass', '3'), ('Name', 'Kink, Mr. Vincenz'), ('Sex', 'male'), ('Age', '26.0'), ('SibSp', '2'), ('Parch', '0'), ('Ticket', '315151'), ('Fare', '8.6625'), ('Cabin', ''), ('Embarked', 'S')])\n",
            "OrderedDict([('PassengerId', '71'), ('Perished', '1'), ('Pclass', '2'), ('Name', 'Jenkin, Mr. Stephen Curnow'), ('Sex', 'male'), ('Age', '32.0'), ('SibSp', '0'), ('Parch', '0'), ('Ticket', 'C.A. 33111'), ('Fare', '10.5'), ('Cabin', ''), ('Embarked', 'S')])\n",
            "OrderedDict([('PassengerId', '72'), ('Perished', '1'), ('Pclass', '3'), ('Name', 'Goodwin, Miss. Lillian Amy'), ('Sex', 'female'), ('Age', '16.0'), ('SibSp', '5'), ('Parch', '2'), ('Ticket', 'CA 2144'), ('Fare', '46.9'), ('Cabin', ''), ('Embarked', 'S')])\n",
            "OrderedDict([('PassengerId', '73'), ('Perished', '1'), ('Pclass', '2'), ('Name', 'Hood, Mr. Ambrose Jr'), ('Sex', 'male'), ('Age', '21.0'), ('SibSp', '0'), ('Parch', '0'), ('Ticket', 'S.O.C. 14879'), ('Fare', '73.5'), ('Cabin', ''), ('Embarked', 'S')])\n",
            "OrderedDict([('PassengerId', '74'), ('Perished', '1'), ('Pclass', '3'), ('Name', 'Chronopoulos, Mr. Apostolos'), ('Sex', 'male'), ('Age', '26.0'), ('SibSp', '1'), ('Parch', '0'), ('Ticket', '2680'), ('Fare', '14.4542'), ('Cabin', ''), ('Embarked', 'C')])\n",
            "OrderedDict([('PassengerId', '75'), ('Perished', '0'), ('Pclass', '3'), ('Name', 'Bing, Mr. Lee'), ('Sex', 'male'), ('Age', '32.0'), ('SibSp', '0'), ('Parch', '0'), ('Ticket', '1601'), ('Fare', '56.4958'), ('Cabin', ''), ('Embarked', 'S')])\n",
            "OrderedDict([('PassengerId', '76'), ('Perished', '1'), ('Pclass', '3'), ('Name', 'Moen, Mr. Sigurd Hansen'), ('Sex', 'male'), ('Age', '25.0'), ('SibSp', '0'), ('Parch', '0'), ('Ticket', '348123'), ('Fare', '7.65'), ('Cabin', 'F G73'), ('Embarked', 'S')])\n",
            "OrderedDict([('PassengerId', '77'), ('Perished', '1'), ('Pclass', '3'), ('Name', 'Staneff, Mr. Ivan'), ('Sex', 'male'), ('Age', ''), ('SibSp', '0'), ('Parch', '0'), ('Ticket', '349208'), ('Fare', '7.8958'), ('Cabin', ''), ('Embarked', 'S')])\n",
            "OrderedDict([('PassengerId', '78'), ('Perished', '1'), ('Pclass', '3'), ('Name', 'Moutal, Mr. Rahamin Haim'), ('Sex', 'male'), ('Age', ''), ('SibSp', '0'), ('Parch', '0'), ('Ticket', '374746'), ('Fare', '8.05'), ('Cabin', ''), ('Embarked', 'S')])\n",
            "OrderedDict([('PassengerId', '79'), ('Perished', '0'), ('Pclass', '2'), ('Name', 'Caldwell, Master. Alden Gates'), ('Sex', 'male'), ('Age', '0.83'), ('SibSp', '0'), ('Parch', '2'), ('Ticket', '248738'), ('Fare', '29.0'), ('Cabin', ''), ('Embarked', 'S')])\n",
            "OrderedDict([('PassengerId', '80'), ('Perished', '0'), ('Pclass', '3'), ('Name', 'Dowdell, Miss. Elizabeth'), ('Sex', 'female'), ('Age', '30.0'), ('SibSp', '0'), ('Parch', '0'), ('Ticket', '364516'), ('Fare', '12.475'), ('Cabin', ''), ('Embarked', 'S')])\n",
            "OrderedDict([('PassengerId', '81'), ('Perished', '1'), ('Pclass', '3'), ('Name', 'Waelens, Mr. Achille'), ('Sex', 'male'), ('Age', '22.0'), ('SibSp', '0'), ('Parch', '0'), ('Ticket', '345767'), ('Fare', '9.0'), ('Cabin', ''), ('Embarked', 'S')])\n",
            "OrderedDict([('PassengerId', '82'), ('Perished', '0'), ('Pclass', '3'), ('Name', 'Sheerlinck, Mr. Jan Baptist'), ('Sex', 'male'), ('Age', '29.0'), ('SibSp', '0'), ('Parch', '0'), ('Ticket', '345779'), ('Fare', '9.5'), ('Cabin', ''), ('Embarked', 'S')])\n",
            "OrderedDict([('PassengerId', '83'), ('Perished', '0'), ('Pclass', '3'), ('Name', 'McDermott, Miss. Brigdet Delia'), ('Sex', 'female'), ('Age', ''), ('SibSp', '0'), ('Parch', '0'), ('Ticket', '330932'), ('Fare', '7.7875'), ('Cabin', ''), ('Embarked', 'Q')])\n",
            "OrderedDict([('PassengerId', '84'), ('Perished', '1'), ('Pclass', '1'), ('Name', 'Carrau, Mr. Francisco M'), ('Sex', 'male'), ('Age', '28.0'), ('SibSp', '0'), ('Parch', '0'), ('Ticket', '113059'), ('Fare', '47.1'), ('Cabin', ''), ('Embarked', 'S')])\n",
            "OrderedDict([('PassengerId', '85'), ('Perished', '0'), ('Pclass', '2'), ('Name', 'Ilett, Miss. Bertha'), ('Sex', 'female'), ('Age', '17.0'), ('SibSp', '0'), ('Parch', '0'), ('Ticket', 'SO/C 14885'), ('Fare', '10.5'), ('Cabin', ''), ('Embarked', 'S')])\n",
            "OrderedDict([('PassengerId', '86'), ('Perished', '0'), ('Pclass', '3'), ('Name', 'Backstrom, Mrs. Karl Alfred (Maria Mathilda Gustafsson)'), ('Sex', 'female'), ('Age', '33.0'), ('SibSp', '3'), ('Parch', '0'), ('Ticket', '3101278'), ('Fare', '15.85'), ('Cabin', ''), ('Embarked', 'S')])\n",
            "OrderedDict([('PassengerId', '87'), ('Perished', '1'), ('Pclass', '3'), ('Name', 'Ford, Mr. William Neal'), ('Sex', 'male'), ('Age', '16.0'), ('SibSp', '1'), ('Parch', '3'), ('Ticket', 'W./C. 6608'), ('Fare', '34.375'), ('Cabin', ''), ('Embarked', 'S')])\n",
            "OrderedDict([('PassengerId', '88'), ('Perished', '1'), ('Pclass', '3'), ('Name', 'Slocovski, Mr. Selman Francis'), ('Sex', 'male'), ('Age', ''), ('SibSp', '0'), ('Parch', '0'), ('Ticket', 'SOTON/OQ 392086'), ('Fare', '8.05'), ('Cabin', ''), ('Embarked', 'S')])\n",
            "OrderedDict([('PassengerId', '89'), ('Perished', '0'), ('Pclass', '1'), ('Name', 'Fortune, Miss. Mabel Helen'), ('Sex', 'female'), ('Age', '23.0'), ('SibSp', '3'), ('Parch', '2'), ('Ticket', '19950'), ('Fare', '263.0'), ('Cabin', 'C23 C25 C27'), ('Embarked', 'S')])\n",
            "OrderedDict([('PassengerId', '90'), ('Perished', '1'), ('Pclass', '3'), ('Name', 'Celotti, Mr. Francesco'), ('Sex', 'male'), ('Age', '24.0'), ('SibSp', '0'), ('Parch', '0'), ('Ticket', '343275'), ('Fare', '8.05'), ('Cabin', ''), ('Embarked', 'S')])\n",
            "OrderedDict([('PassengerId', '91'), ('Perished', '1'), ('Pclass', '3'), ('Name', 'Christmann, Mr. Emil'), ('Sex', 'male'), ('Age', '29.0'), ('SibSp', '0'), ('Parch', '0'), ('Ticket', '343276'), ('Fare', '8.05'), ('Cabin', ''), ('Embarked', 'S')])\n",
            "OrderedDict([('PassengerId', '92'), ('Perished', '1'), ('Pclass', '3'), ('Name', 'Andreasson, Mr. Paul Edvin'), ('Sex', 'male'), ('Age', '20.0'), ('SibSp', '0'), ('Parch', '0'), ('Ticket', '347466'), ('Fare', '7.8542'), ('Cabin', ''), ('Embarked', 'S')])\n",
            "OrderedDict([('PassengerId', '93'), ('Perished', '1'), ('Pclass', '1'), ('Name', 'Chaffee, Mr. Herbert Fuller'), ('Sex', 'male'), ('Age', '46.0'), ('SibSp', '1'), ('Parch', '0'), ('Ticket', 'W.E.P. 5734'), ('Fare', '61.175'), ('Cabin', 'E31'), ('Embarked', 'S')])\n",
            "OrderedDict([('PassengerId', '94'), ('Perished', '1'), ('Pclass', '3'), ('Name', 'Dean, Mr. Bertram Frank'), ('Sex', 'male'), ('Age', '26.0'), ('SibSp', '1'), ('Parch', '2'), ('Ticket', 'C.A. 2315'), ('Fare', '20.575'), ('Cabin', ''), ('Embarked', 'S')])\n",
            "OrderedDict([('PassengerId', '95'), ('Perished', '1'), ('Pclass', '3'), ('Name', 'Coxon, Mr. Daniel'), ('Sex', 'male'), ('Age', '59.0'), ('SibSp', '0'), ('Parch', '0'), ('Ticket', '364500'), ('Fare', '7.25'), ('Cabin', ''), ('Embarked', 'S')])\n",
            "OrderedDict([('PassengerId', '96'), ('Perished', '1'), ('Pclass', '3'), ('Name', 'Shorney, Mr. Charles Joseph'), ('Sex', 'male'), ('Age', ''), ('SibSp', '0'), ('Parch', '0'), ('Ticket', '374910'), ('Fare', '8.05'), ('Cabin', ''), ('Embarked', 'S')])\n",
            "OrderedDict([('PassengerId', '97'), ('Perished', '1'), ('Pclass', '1'), ('Name', 'Goldschmidt, Mr. George B'), ('Sex', 'male'), ('Age', '71.0'), ('SibSp', '0'), ('Parch', '0'), ('Ticket', 'PC 17754'), ('Fare', '34.6542'), ('Cabin', 'A5'), ('Embarked', 'C')])\n",
            "OrderedDict([('PassengerId', '98'), ('Perished', '0'), ('Pclass', '1'), ('Name', 'Greenfield, Mr. William Bertram'), ('Sex', 'male'), ('Age', '23.0'), ('SibSp', '0'), ('Parch', '1'), ('Ticket', 'PC 17759'), ('Fare', '63.3583'), ('Cabin', 'D10 D12'), ('Embarked', 'C')])\n",
            "OrderedDict([('PassengerId', '99'), ('Perished', '0'), ('Pclass', '2'), ('Name', 'Doling, Mrs. John T (Ada Julia Bone)'), ('Sex', 'female'), ('Age', '34.0'), ('SibSp', '0'), ('Parch', '1'), ('Ticket', '231919'), ('Fare', '23.0'), ('Cabin', ''), ('Embarked', 'S')])\n",
            "OrderedDict([('PassengerId', '100'), ('Perished', '1'), ('Pclass', '2'), ('Name', 'Kantor, Mr. Sinai'), ('Sex', 'male'), ('Age', '34.0'), ('SibSp', '1'), ('Parch', '0'), ('Ticket', '244367'), ('Fare', '26.0'), ('Cabin', ''), ('Embarked', 'S')])\n",
            "OrderedDict([('PassengerId', '101'), ('Perished', '1'), ('Pclass', '3'), ('Name', 'Petranec, Miss. Matilda'), ('Sex', 'female'), ('Age', '28.0'), ('SibSp', '0'), ('Parch', '0'), ('Ticket', '349245'), ('Fare', '7.8958'), ('Cabin', ''), ('Embarked', 'S')])\n",
            "OrderedDict([('PassengerId', '102'), ('Perished', '1'), ('Pclass', '3'), ('Name', 'Petroff, Mr. Pastcho (\"Pentcho\")'), ('Sex', 'male'), ('Age', ''), ('SibSp', '0'), ('Parch', '0'), ('Ticket', '349215'), ('Fare', '7.8958'), ('Cabin', ''), ('Embarked', 'S')])\n",
            "OrderedDict([('PassengerId', '103'), ('Perished', '1'), ('Pclass', '1'), ('Name', 'White, Mr. Richard Frasar'), ('Sex', 'male'), ('Age', '21.0'), ('SibSp', '0'), ('Parch', '1'), ('Ticket', '35281'), ('Fare', '77.2875'), ('Cabin', 'D26'), ('Embarked', 'S')])\n",
            "OrderedDict([('PassengerId', '104'), ('Perished', '1'), ('Pclass', '3'), ('Name', 'Johansson, Mr. Gustaf Joel'), ('Sex', 'male'), ('Age', '33.0'), ('SibSp', '0'), ('Parch', '0'), ('Ticket', '7540'), ('Fare', '8.6542'), ('Cabin', ''), ('Embarked', 'S')])\n",
            "OrderedDict([('PassengerId', '105'), ('Perished', '1'), ('Pclass', '3'), ('Name', 'Gustafsson, Mr. Anders Vilhelm'), ('Sex', 'male'), ('Age', '37.0'), ('SibSp', '2'), ('Parch', '0'), ('Ticket', '3101276'), ('Fare', '7.925'), ('Cabin', ''), ('Embarked', 'S')])\n",
            "OrderedDict([('PassengerId', '106'), ('Perished', '1'), ('Pclass', '3'), ('Name', 'Mionoff, Mr. Stoytcho'), ('Sex', 'male'), ('Age', '28.0'), ('SibSp', '0'), ('Parch', '0'), ('Ticket', '349207'), ('Fare', '7.8958'), ('Cabin', ''), ('Embarked', 'S')])\n",
            "OrderedDict([('PassengerId', '107'), ('Perished', '0'), ('Pclass', '3'), ('Name', 'Salkjelsvik, Miss. Anna Kristine'), ('Sex', 'female'), ('Age', '21.0'), ('SibSp', '0'), ('Parch', '0'), ('Ticket', '343120'), ('Fare', '7.65'), ('Cabin', ''), ('Embarked', 'S')])\n",
            "OrderedDict([('PassengerId', '108'), ('Perished', '0'), ('Pclass', '3'), ('Name', 'Moss, Mr. Albert Johan'), ('Sex', 'male'), ('Age', ''), ('SibSp', '0'), ('Parch', '0'), ('Ticket', '312991'), ('Fare', '7.775'), ('Cabin', ''), ('Embarked', 'S')])\n",
            "OrderedDict([('PassengerId', '109'), ('Perished', '1'), ('Pclass', '3'), ('Name', 'Rekic, Mr. Tido'), ('Sex', 'male'), ('Age', '38.0'), ('SibSp', '0'), ('Parch', '0'), ('Ticket', '349249'), ('Fare', '7.8958'), ('Cabin', ''), ('Embarked', 'S')])\n",
            "OrderedDict([('PassengerId', '110'), ('Perished', '0'), ('Pclass', '3'), ('Name', 'Moran, Miss. Bertha'), ('Sex', 'female'), ('Age', ''), ('SibSp', '1'), ('Parch', '0'), ('Ticket', '371110'), ('Fare', '24.15'), ('Cabin', ''), ('Embarked', 'Q')])\n",
            "OrderedDict([('PassengerId', '111'), ('Perished', '1'), ('Pclass', '1'), ('Name', 'Porter, Mr. Walter Chamberlain'), ('Sex', 'male'), ('Age', '47.0'), ('SibSp', '0'), ('Parch', '0'), ('Ticket', '110465'), ('Fare', '52.0'), ('Cabin', 'C110'), ('Embarked', 'S')])\n",
            "OrderedDict([('PassengerId', '112'), ('Perished', '1'), ('Pclass', '3'), ('Name', 'Zabour, Miss. Hileni'), ('Sex', 'female'), ('Age', '14.5'), ('SibSp', '1'), ('Parch', '0'), ('Ticket', '2665'), ('Fare', '14.4542'), ('Cabin', ''), ('Embarked', 'C')])\n",
            "OrderedDict([('PassengerId', '113'), ('Perished', '1'), ('Pclass', '3'), ('Name', 'Barton, Mr. David John'), ('Sex', 'male'), ('Age', '22.0'), ('SibSp', '0'), ('Parch', '0'), ('Ticket', '324669'), ('Fare', '8.05'), ('Cabin', ''), ('Embarked', 'S')])\n",
            "OrderedDict([('PassengerId', '114'), ('Perished', '1'), ('Pclass', '3'), ('Name', 'Jussila, Miss. Katriina'), ('Sex', 'female'), ('Age', '20.0'), ('SibSp', '1'), ('Parch', '0'), ('Ticket', '4136'), ('Fare', '9.825'), ('Cabin', ''), ('Embarked', 'S')])\n",
            "OrderedDict([('PassengerId', '115'), ('Perished', '1'), ('Pclass', '3'), ('Name', 'Attalah, Miss. Malake'), ('Sex', 'female'), ('Age', '17.0'), ('SibSp', '0'), ('Parch', '0'), ('Ticket', '2627'), ('Fare', '14.4583'), ('Cabin', ''), ('Embarked', 'C')])\n",
            "OrderedDict([('PassengerId', '116'), ('Perished', '1'), ('Pclass', '3'), ('Name', 'Pekoniemi, Mr. Edvard'), ('Sex', 'male'), ('Age', '21.0'), ('SibSp', '0'), ('Parch', '0'), ('Ticket', 'STON/O 2. 3101294'), ('Fare', '7.925'), ('Cabin', ''), ('Embarked', 'S')])\n",
            "OrderedDict([('PassengerId', '117'), ('Perished', '1'), ('Pclass', '3'), ('Name', 'Connors, Mr. Patrick'), ('Sex', 'male'), ('Age', '70.5'), ('SibSp', '0'), ('Parch', '0'), ('Ticket', '370369'), ('Fare', '7.75'), ('Cabin', ''), ('Embarked', 'Q')])\n",
            "OrderedDict([('PassengerId', '118'), ('Perished', '1'), ('Pclass', '2'), ('Name', 'Turpin, Mr. William John Robert'), ('Sex', 'male'), ('Age', '29.0'), ('SibSp', '1'), ('Parch', '0'), ('Ticket', '11668'), ('Fare', '21.0'), ('Cabin', ''), ('Embarked', 'S')])\n",
            "OrderedDict([('PassengerId', '119'), ('Perished', '1'), ('Pclass', '1'), ('Name', 'Baxter, Mr. Quigg Edmond'), ('Sex', 'male'), ('Age', '24.0'), ('SibSp', '0'), ('Parch', '1'), ('Ticket', 'PC 17558'), ('Fare', '247.5208'), ('Cabin', 'B58 B60'), ('Embarked', 'C')])\n",
            "OrderedDict([('PassengerId', '120'), ('Perished', '1'), ('Pclass', '3'), ('Name', 'Andersson, Miss. Ellis Anna Maria'), ('Sex', 'female'), ('Age', '2.0'), ('SibSp', '4'), ('Parch', '2'), ('Ticket', '347082'), ('Fare', '31.275'), ('Cabin', ''), ('Embarked', 'S')])\n",
            "OrderedDict([('PassengerId', '121'), ('Perished', '1'), ('Pclass', '2'), ('Name', 'Hickman, Mr. Stanley George'), ('Sex', 'male'), ('Age', '21.0'), ('SibSp', '2'), ('Parch', '0'), ('Ticket', 'S.O.C. 14879'), ('Fare', '73.5'), ('Cabin', ''), ('Embarked', 'S')])\n",
            "OrderedDict([('PassengerId', '122'), ('Perished', '1'), ('Pclass', '3'), ('Name', 'Moore, Mr. Leonard Charles'), ('Sex', 'male'), ('Age', ''), ('SibSp', '0'), ('Parch', '0'), ('Ticket', 'A4. 54510'), ('Fare', '8.05'), ('Cabin', ''), ('Embarked', 'S')])\n",
            "OrderedDict([('PassengerId', '123'), ('Perished', '1'), ('Pclass', '2'), ('Name', 'Nasser, Mr. Nicholas'), ('Sex', 'male'), ('Age', '32.5'), ('SibSp', '1'), ('Parch', '0'), ('Ticket', '237736'), ('Fare', '30.0708'), ('Cabin', ''), ('Embarked', 'C')])\n",
            "OrderedDict([('PassengerId', '124'), ('Perished', '0'), ('Pclass', '2'), ('Name', 'Webber, Miss. Susan'), ('Sex', 'female'), ('Age', '32.5'), ('SibSp', '0'), ('Parch', '0'), ('Ticket', '27267'), ('Fare', '13.0'), ('Cabin', 'E101'), ('Embarked', 'S')])\n",
            "OrderedDict([('PassengerId', '125'), ('Perished', '1'), ('Pclass', '1'), ('Name', 'White, Mr. Percival Wayland'), ('Sex', 'male'), ('Age', '54.0'), ('SibSp', '0'), ('Parch', '1'), ('Ticket', '35281'), ('Fare', '77.2875'), ('Cabin', 'D26'), ('Embarked', 'S')])\n",
            "OrderedDict([('PassengerId', '126'), ('Perished', '0'), ('Pclass', '3'), ('Name', 'Nicola-Yarred, Master. Elias'), ('Sex', 'male'), ('Age', '12.0'), ('SibSp', '1'), ('Parch', '0'), ('Ticket', '2651'), ('Fare', '11.2417'), ('Cabin', ''), ('Embarked', 'C')])\n",
            "OrderedDict([('PassengerId', '127'), ('Perished', '1'), ('Pclass', '3'), ('Name', 'McMahon, Mr. Martin'), ('Sex', 'male'), ('Age', ''), ('SibSp', '0'), ('Parch', '0'), ('Ticket', '370372'), ('Fare', '7.75'), ('Cabin', ''), ('Embarked', 'Q')])\n",
            "OrderedDict([('PassengerId', '128'), ('Perished', '0'), ('Pclass', '3'), ('Name', 'Madsen, Mr. Fridtjof Arne'), ('Sex', 'male'), ('Age', '24.0'), ('SibSp', '0'), ('Parch', '0'), ('Ticket', 'C 17369'), ('Fare', '7.1417'), ('Cabin', ''), ('Embarked', 'S')])\n",
            "OrderedDict([('PassengerId', '129'), ('Perished', '0'), ('Pclass', '3'), ('Name', 'Peter, Miss. Anna'), ('Sex', 'female'), ('Age', ''), ('SibSp', '1'), ('Parch', '1'), ('Ticket', '2668'), ('Fare', '22.3583'), ('Cabin', 'F E69'), ('Embarked', 'C')])\n",
            "OrderedDict([('PassengerId', '130'), ('Perished', '1'), ('Pclass', '3'), ('Name', 'Ekstrom, Mr. Johan'), ('Sex', 'male'), ('Age', '45.0'), ('SibSp', '0'), ('Parch', '0'), ('Ticket', '347061'), ('Fare', '6.975'), ('Cabin', ''), ('Embarked', 'S')])\n",
            "OrderedDict([('PassengerId', '131'), ('Perished', '1'), ('Pclass', '3'), ('Name', 'Drazenoic, Mr. Jozef'), ('Sex', 'male'), ('Age', '33.0'), ('SibSp', '0'), ('Parch', '0'), ('Ticket', '349241'), ('Fare', '7.8958'), ('Cabin', ''), ('Embarked', 'C')])\n",
            "OrderedDict([('PassengerId', '132'), ('Perished', '1'), ('Pclass', '3'), ('Name', 'Coelho, Mr. Domingos Fernandeo'), ('Sex', 'male'), ('Age', '20.0'), ('SibSp', '0'), ('Parch', '0'), ('Ticket', 'SOTON/O.Q. 3101307'), ('Fare', '7.05'), ('Cabin', ''), ('Embarked', 'S')])\n",
            "OrderedDict([('PassengerId', '133'), ('Perished', '1'), ('Pclass', '3'), ('Name', 'Robins, Mrs. Alexander A (Grace Charity Laury)'), ('Sex', 'female'), ('Age', '47.0'), ('SibSp', '1'), ('Parch', '0'), ('Ticket', 'A/5. 3337'), ('Fare', '14.5'), ('Cabin', ''), ('Embarked', 'S')])\n",
            "OrderedDict([('PassengerId', '134'), ('Perished', '0'), ('Pclass', '2'), ('Name', 'Weisz, Mrs. Leopold (Mathilde Francoise Pede)'), ('Sex', 'female'), ('Age', '29.0'), ('SibSp', '1'), ('Parch', '0'), ('Ticket', '228414'), ('Fare', '26.0'), ('Cabin', ''), ('Embarked', 'S')])\n",
            "OrderedDict([('PassengerId', '135'), ('Perished', '1'), ('Pclass', '2'), ('Name', 'Sobey, Mr. Samuel James Hayden'), ('Sex', 'male'), ('Age', '25.0'), ('SibSp', '0'), ('Parch', '0'), ('Ticket', 'C.A. 29178'), ('Fare', '13.0'), ('Cabin', ''), ('Embarked', 'S')])\n",
            "OrderedDict([('PassengerId', '136'), ('Perished', '1'), ('Pclass', '2'), ('Name', 'Richard, Mr. Emile'), ('Sex', 'male'), ('Age', '23.0'), ('SibSp', '0'), ('Parch', '0'), ('Ticket', 'SC/PARIS 2133'), ('Fare', '15.0458'), ('Cabin', ''), ('Embarked', 'C')])\n",
            "OrderedDict([('PassengerId', '137'), ('Perished', '0'), ('Pclass', '1'), ('Name', 'Newsom, Miss. Helen Monypeny'), ('Sex', 'female'), ('Age', '19.0'), ('SibSp', '0'), ('Parch', '2'), ('Ticket', '11752'), ('Fare', '26.2833'), ('Cabin', 'D47'), ('Embarked', 'S')])\n",
            "OrderedDict([('PassengerId', '138'), ('Perished', '1'), ('Pclass', '1'), ('Name', 'Futrelle, Mr. Jacques Heath'), ('Sex', 'male'), ('Age', '37.0'), ('SibSp', '1'), ('Parch', '0'), ('Ticket', '113803'), ('Fare', '53.1'), ('Cabin', 'C123'), ('Embarked', 'S')])\n",
            "OrderedDict([('PassengerId', '139'), ('Perished', '1'), ('Pclass', '3'), ('Name', 'Osen, Mr. Olaf Elon'), ('Sex', 'male'), ('Age', '16.0'), ('SibSp', '0'), ('Parch', '0'), ('Ticket', '7534'), ('Fare', '9.2167'), ('Cabin', ''), ('Embarked', 'S')])\n",
            "OrderedDict([('PassengerId', '140'), ('Perished', '1'), ('Pclass', '1'), ('Name', 'Giglio, Mr. Victor'), ('Sex', 'male'), ('Age', '24.0'), ('SibSp', '0'), ('Parch', '0'), ('Ticket', 'PC 17593'), ('Fare', '79.2'), ('Cabin', 'B86'), ('Embarked', 'C')])\n",
            "OrderedDict([('PassengerId', '141'), ('Perished', '1'), ('Pclass', '3'), ('Name', 'Boulos, Mrs. Joseph (Sultana)'), ('Sex', 'female'), ('Age', ''), ('SibSp', '0'), ('Parch', '2'), ('Ticket', '2678'), ('Fare', '15.2458'), ('Cabin', ''), ('Embarked', 'C')])\n",
            "OrderedDict([('PassengerId', '142'), ('Perished', '0'), ('Pclass', '3'), ('Name', 'Nysten, Miss. Anna Sofia'), ('Sex', 'female'), ('Age', '22.0'), ('SibSp', '0'), ('Parch', '0'), ('Ticket', '347081'), ('Fare', '7.75'), ('Cabin', ''), ('Embarked', 'S')])\n",
            "OrderedDict([('PassengerId', '143'), ('Perished', '0'), ('Pclass', '3'), ('Name', 'Hakkarainen, Mrs. Pekka Pietari (Elin Matilda Dolck)'), ('Sex', 'female'), ('Age', '24.0'), ('SibSp', '1'), ('Parch', '0'), ('Ticket', 'STON/O2. 3101279'), ('Fare', '15.85'), ('Cabin', ''), ('Embarked', 'S')])\n",
            "OrderedDict([('PassengerId', '144'), ('Perished', '1'), ('Pclass', '3'), ('Name', 'Burke, Mr. Jeremiah'), ('Sex', 'male'), ('Age', '19.0'), ('SibSp', '0'), ('Parch', '0'), ('Ticket', '365222'), ('Fare', '6.75'), ('Cabin', ''), ('Embarked', 'Q')])\n",
            "OrderedDict([('PassengerId', '145'), ('Perished', '1'), ('Pclass', '2'), ('Name', 'Andrew, Mr. Edgardo Samuel'), ('Sex', 'male'), ('Age', '18.0'), ('SibSp', '0'), ('Parch', '0'), ('Ticket', '231945'), ('Fare', '11.5'), ('Cabin', ''), ('Embarked', 'S')])\n",
            "OrderedDict([('PassengerId', '146'), ('Perished', '1'), ('Pclass', '2'), ('Name', 'Nicholls, Mr. Joseph Charles'), ('Sex', 'male'), ('Age', '19.0'), ('SibSp', '1'), ('Parch', '1'), ('Ticket', 'C.A. 33112'), ('Fare', '36.75'), ('Cabin', ''), ('Embarked', 'S')])\n",
            "OrderedDict([('PassengerId', '147'), ('Perished', '0'), ('Pclass', '3'), ('Name', 'Andersson, Mr. August Edvard (\"Wennerstrom\")'), ('Sex', 'male'), ('Age', '27.0'), ('SibSp', '0'), ('Parch', '0'), ('Ticket', '350043'), ('Fare', '7.7958'), ('Cabin', ''), ('Embarked', 'S')])\n",
            "OrderedDict([('PassengerId', '148'), ('Perished', '1'), ('Pclass', '3'), ('Name', 'Ford, Miss. Robina Maggie \"Ruby\"'), ('Sex', 'female'), ('Age', '9.0'), ('SibSp', '2'), ('Parch', '2'), ('Ticket', 'W./C. 6608'), ('Fare', '34.375'), ('Cabin', ''), ('Embarked', 'S')])\n",
            "OrderedDict([('PassengerId', '149'), ('Perished', '1'), ('Pclass', '2'), ('Name', 'Navratil, Mr. Michel (\"Louis M Hoffman\")'), ('Sex', 'male'), ('Age', '36.5'), ('SibSp', '0'), ('Parch', '2'), ('Ticket', '230080'), ('Fare', '26.0'), ('Cabin', 'F2'), ('Embarked', 'S')])\n",
            "OrderedDict([('PassengerId', '150'), ('Perished', '1'), ('Pclass', '2'), ('Name', 'Byles, Rev. Thomas Roussel Davids'), ('Sex', 'male'), ('Age', '42.0'), ('SibSp', '0'), ('Parch', '0'), ('Ticket', '244310'), ('Fare', '13.0'), ('Cabin', ''), ('Embarked', 'S')])\n",
            "OrderedDict([('PassengerId', '151'), ('Perished', '1'), ('Pclass', '2'), ('Name', 'Bateman, Rev. Robert James'), ('Sex', 'male'), ('Age', '51.0'), ('SibSp', '0'), ('Parch', '0'), ('Ticket', 'S.O.P. 1166'), ('Fare', '12.525'), ('Cabin', ''), ('Embarked', 'S')])\n",
            "OrderedDict([('PassengerId', '152'), ('Perished', '0'), ('Pclass', '1'), ('Name', 'Pears, Mrs. Thomas (Edith Wearne)'), ('Sex', 'female'), ('Age', '22.0'), ('SibSp', '1'), ('Parch', '0'), ('Ticket', '113776'), ('Fare', '66.6'), ('Cabin', 'C2'), ('Embarked', 'S')])\n",
            "OrderedDict([('PassengerId', '153'), ('Perished', '1'), ('Pclass', '3'), ('Name', 'Meo, Mr. Alfonzo'), ('Sex', 'male'), ('Age', '55.5'), ('SibSp', '0'), ('Parch', '0'), ('Ticket', 'A.5. 11206'), ('Fare', '8.05'), ('Cabin', ''), ('Embarked', 'S')])\n",
            "OrderedDict([('PassengerId', '154'), ('Perished', '1'), ('Pclass', '3'), ('Name', 'van Billiard, Mr. Austin Blyler'), ('Sex', 'male'), ('Age', '40.5'), ('SibSp', '0'), ('Parch', '2'), ('Ticket', 'A/5. 851'), ('Fare', '14.5'), ('Cabin', ''), ('Embarked', 'S')])\n",
            "OrderedDict([('PassengerId', '155'), ('Perished', '1'), ('Pclass', '3'), ('Name', 'Olsen, Mr. Ole Martin'), ('Sex', 'male'), ('Age', ''), ('SibSp', '0'), ('Parch', '0'), ('Ticket', 'Fa 265302'), ('Fare', '7.3125'), ('Cabin', ''), ('Embarked', 'S')])\n",
            "OrderedDict([('PassengerId', '156'), ('Perished', '1'), ('Pclass', '1'), ('Name', 'Williams, Mr. Charles Duane'), ('Sex', 'male'), ('Age', '51.0'), ('SibSp', '0'), ('Parch', '1'), ('Ticket', 'PC 17597'), ('Fare', '61.3792'), ('Cabin', ''), ('Embarked', 'C')])\n",
            "OrderedDict([('PassengerId', '157'), ('Perished', '0'), ('Pclass', '3'), ('Name', 'Gilnagh, Miss. Katherine \"Katie\"'), ('Sex', 'female'), ('Age', '16.0'), ('SibSp', '0'), ('Parch', '0'), ('Ticket', '35851'), ('Fare', '7.7333'), ('Cabin', ''), ('Embarked', 'Q')])\n",
            "OrderedDict([('PassengerId', '158'), ('Perished', '1'), ('Pclass', '3'), ('Name', 'Corn, Mr. Harry'), ('Sex', 'male'), ('Age', '30.0'), ('SibSp', '0'), ('Parch', '0'), ('Ticket', 'SOTON/OQ 392090'), ('Fare', '8.05'), ('Cabin', ''), ('Embarked', 'S')])\n",
            "OrderedDict([('PassengerId', '159'), ('Perished', '1'), ('Pclass', '3'), ('Name', 'Smiljanic, Mr. Mile'), ('Sex', 'male'), ('Age', ''), ('SibSp', '0'), ('Parch', '0'), ('Ticket', '315037'), ('Fare', '8.6625'), ('Cabin', ''), ('Embarked', 'S')])\n",
            "OrderedDict([('PassengerId', '160'), ('Perished', '1'), ('Pclass', '3'), ('Name', 'Sage, Master. Thomas Henry'), ('Sex', 'male'), ('Age', ''), ('SibSp', '8'), ('Parch', '2'), ('Ticket', 'CA. 2343'), ('Fare', '69.55'), ('Cabin', ''), ('Embarked', 'S')])\n",
            "OrderedDict([('PassengerId', '161'), ('Perished', '1'), ('Pclass', '3'), ('Name', 'Cribb, Mr. John Hatfield'), ('Sex', 'male'), ('Age', '44.0'), ('SibSp', '0'), ('Parch', '1'), ('Ticket', '371362'), ('Fare', '16.1'), ('Cabin', ''), ('Embarked', 'S')])\n",
            "OrderedDict([('PassengerId', '162'), ('Perished', '0'), ('Pclass', '2'), ('Name', 'Watt, Mrs. James (Elizabeth \"Bessie\" Inglis Milne)'), ('Sex', 'female'), ('Age', '40.0'), ('SibSp', '0'), ('Parch', '0'), ('Ticket', 'C.A. 33595'), ('Fare', '15.75'), ('Cabin', ''), ('Embarked', 'S')])\n",
            "OrderedDict([('PassengerId', '163'), ('Perished', '1'), ('Pclass', '3'), ('Name', 'Bengtsson, Mr. John Viktor'), ('Sex', 'male'), ('Age', '26.0'), ('SibSp', '0'), ('Parch', '0'), ('Ticket', '347068'), ('Fare', '7.775'), ('Cabin', ''), ('Embarked', 'S')])\n",
            "OrderedDict([('PassengerId', '164'), ('Perished', '1'), ('Pclass', '3'), ('Name', 'Calic, Mr. Jovo'), ('Sex', 'male'), ('Age', '17.0'), ('SibSp', '0'), ('Parch', '0'), ('Ticket', '315093'), ('Fare', '8.6625'), ('Cabin', ''), ('Embarked', 'S')])\n",
            "OrderedDict([('PassengerId', '165'), ('Perished', '1'), ('Pclass', '3'), ('Name', 'Panula, Master. Eino Viljami'), ('Sex', 'male'), ('Age', '1.0'), ('SibSp', '4'), ('Parch', '1'), ('Ticket', '3101295'), ('Fare', '39.6875'), ('Cabin', ''), ('Embarked', 'S')])\n",
            "OrderedDict([('PassengerId', '166'), ('Perished', '0'), ('Pclass', '3'), ('Name', 'Goldsmith, Master. Frank John William \"Frankie\"'), ('Sex', 'male'), ('Age', '9.0'), ('SibSp', '0'), ('Parch', '2'), ('Ticket', '363291'), ('Fare', '20.525'), ('Cabin', ''), ('Embarked', 'S')])\n",
            "OrderedDict([('PassengerId', '167'), ('Perished', '0'), ('Pclass', '1'), ('Name', 'Chibnall, Mrs. (Edith Martha Bowerman)'), ('Sex', 'female'), ('Age', ''), ('SibSp', '0'), ('Parch', '1'), ('Ticket', '113505'), ('Fare', '55.0'), ('Cabin', 'E33'), ('Embarked', 'S')])\n",
            "OrderedDict([('PassengerId', '168'), ('Perished', '1'), ('Pclass', '3'), ('Name', 'Skoog, Mrs. William (Anna Bernhardina Karlsson)'), ('Sex', 'female'), ('Age', '45.0'), ('SibSp', '1'), ('Parch', '4'), ('Ticket', '347088'), ('Fare', '27.9'), ('Cabin', ''), ('Embarked', 'S')])\n",
            "OrderedDict([('PassengerId', '169'), ('Perished', '1'), ('Pclass', '1'), ('Name', 'Baumann, Mr. John D'), ('Sex', 'male'), ('Age', ''), ('SibSp', '0'), ('Parch', '0'), ('Ticket', 'PC 17318'), ('Fare', '25.925'), ('Cabin', ''), ('Embarked', 'S')])\n",
            "OrderedDict([('PassengerId', '170'), ('Perished', '1'), ('Pclass', '3'), ('Name', 'Ling, Mr. Lee'), ('Sex', 'male'), ('Age', '28.0'), ('SibSp', '0'), ('Parch', '0'), ('Ticket', '1601'), ('Fare', '56.4958'), ('Cabin', ''), ('Embarked', 'S')])\n",
            "OrderedDict([('PassengerId', '171'), ('Perished', '1'), ('Pclass', '1'), ('Name', 'Van der hoef, Mr. Wyckoff'), ('Sex', 'male'), ('Age', '61.0'), ('SibSp', '0'), ('Parch', '0'), ('Ticket', '111240'), ('Fare', '33.5'), ('Cabin', 'B19'), ('Embarked', 'S')])\n",
            "OrderedDict([('PassengerId', '172'), ('Perished', '1'), ('Pclass', '3'), ('Name', 'Rice, Master. Arthur'), ('Sex', 'male'), ('Age', '4.0'), ('SibSp', '4'), ('Parch', '1'), ('Ticket', '382652'), ('Fare', '29.125'), ('Cabin', ''), ('Embarked', 'Q')])\n",
            "OrderedDict([('PassengerId', '173'), ('Perished', '0'), ('Pclass', '3'), ('Name', 'Johnson, Miss. Eleanor Ileen'), ('Sex', 'female'), ('Age', '1.0'), ('SibSp', '1'), ('Parch', '1'), ('Ticket', '347742'), ('Fare', '11.1333'), ('Cabin', ''), ('Embarked', 'S')])\n",
            "OrderedDict([('PassengerId', '174'), ('Perished', '1'), ('Pclass', '3'), ('Name', 'Sivola, Mr. Antti Wilhelm'), ('Sex', 'male'), ('Age', '21.0'), ('SibSp', '0'), ('Parch', '0'), ('Ticket', 'STON/O 2. 3101280'), ('Fare', '7.925'), ('Cabin', ''), ('Embarked', 'S')])\n",
            "OrderedDict([('PassengerId', '175'), ('Perished', '1'), ('Pclass', '1'), ('Name', 'Smith, Mr. James Clinch'), ('Sex', 'male'), ('Age', '56.0'), ('SibSp', '0'), ('Parch', '0'), ('Ticket', '17764'), ('Fare', '30.6958'), ('Cabin', 'A7'), ('Embarked', 'C')])\n",
            "OrderedDict([('PassengerId', '176'), ('Perished', '1'), ('Pclass', '3'), ('Name', 'Klasen, Mr. Klas Albin'), ('Sex', 'male'), ('Age', '18.0'), ('SibSp', '1'), ('Parch', '1'), ('Ticket', '350404'), ('Fare', '7.8542'), ('Cabin', ''), ('Embarked', 'S')])\n",
            "OrderedDict([('PassengerId', '177'), ('Perished', '1'), ('Pclass', '3'), ('Name', 'Lefebre, Master. Henry Forbes'), ('Sex', 'male'), ('Age', ''), ('SibSp', '3'), ('Parch', '1'), ('Ticket', '4133'), ('Fare', '25.4667'), ('Cabin', ''), ('Embarked', 'S')])\n",
            "OrderedDict([('PassengerId', '178'), ('Perished', '1'), ('Pclass', '1'), ('Name', 'Isham, Miss. Ann Elizabeth'), ('Sex', 'female'), ('Age', '50.0'), ('SibSp', '0'), ('Parch', '0'), ('Ticket', 'PC 17595'), ('Fare', '28.7125'), ('Cabin', 'C49'), ('Embarked', 'C')])\n",
            "OrderedDict([('PassengerId', '179'), ('Perished', '1'), ('Pclass', '2'), ('Name', 'Hale, Mr. Reginald'), ('Sex', 'male'), ('Age', '30.0'), ('SibSp', '0'), ('Parch', '0'), ('Ticket', '250653'), ('Fare', '13.0'), ('Cabin', ''), ('Embarked', 'S')])\n",
            "OrderedDict([('PassengerId', '180'), ('Perished', '1'), ('Pclass', '3'), ('Name', 'Leonard, Mr. Lionel'), ('Sex', 'male'), ('Age', '36.0'), ('SibSp', '0'), ('Parch', '0'), ('Ticket', 'LINE'), ('Fare', '0.0'), ('Cabin', ''), ('Embarked', 'S')])\n",
            "OrderedDict([('PassengerId', '181'), ('Perished', '1'), ('Pclass', '3'), ('Name', 'Sage, Miss. Constance Gladys'), ('Sex', 'female'), ('Age', ''), ('SibSp', '8'), ('Parch', '2'), ('Ticket', 'CA. 2343'), ('Fare', '69.55'), ('Cabin', ''), ('Embarked', 'S')])\n",
            "OrderedDict([('PassengerId', '182'), ('Perished', '1'), ('Pclass', '2'), ('Name', 'Pernot, Mr. Rene'), ('Sex', 'male'), ('Age', ''), ('SibSp', '0'), ('Parch', '0'), ('Ticket', 'SC/PARIS 2131'), ('Fare', '15.05'), ('Cabin', ''), ('Embarked', 'C')])\n",
            "OrderedDict([('PassengerId', '183'), ('Perished', '1'), ('Pclass', '3'), ('Name', 'Asplund, Master. Clarence Gustaf Hugo'), ('Sex', 'male'), ('Age', '9.0'), ('SibSp', '4'), ('Parch', '2'), ('Ticket', '347077'), ('Fare', '31.3875'), ('Cabin', ''), ('Embarked', 'S')])\n",
            "OrderedDict([('PassengerId', '184'), ('Perished', '0'), ('Pclass', '2'), ('Name', 'Becker, Master. Richard F'), ('Sex', 'male'), ('Age', '1.0'), ('SibSp', '2'), ('Parch', '1'), ('Ticket', '230136'), ('Fare', '39.0'), ('Cabin', 'F4'), ('Embarked', 'S')])\n",
            "OrderedDict([('PassengerId', '185'), ('Perished', '0'), ('Pclass', '3'), ('Name', 'Kink-Heilmann, Miss. Luise Gretchen'), ('Sex', 'female'), ('Age', '4.0'), ('SibSp', '0'), ('Parch', '2'), ('Ticket', '315153'), ('Fare', '22.025'), ('Cabin', ''), ('Embarked', 'S')])\n",
            "OrderedDict([('PassengerId', '186'), ('Perished', '1'), ('Pclass', '1'), ('Name', 'Rood, Mr. Hugh Roscoe'), ('Sex', 'male'), ('Age', ''), ('SibSp', '0'), ('Parch', '0'), ('Ticket', '113767'), ('Fare', '50.0'), ('Cabin', 'A32'), ('Embarked', 'S')])\n",
            "OrderedDict([('PassengerId', '187'), ('Perished', '0'), ('Pclass', '3'), ('Name', 'O\\'Brien, Mrs. Thomas (Johanna \"Hannah\" Godfrey)'), ('Sex', 'female'), ('Age', ''), ('SibSp', '1'), ('Parch', '0'), ('Ticket', '370365'), ('Fare', '15.5'), ('Cabin', ''), ('Embarked', 'Q')])\n",
            "OrderedDict([('PassengerId', '188'), ('Perished', '0'), ('Pclass', '1'), ('Name', 'Romaine, Mr. Charles Hallace (\"Mr C Rolmane\")'), ('Sex', 'male'), ('Age', '45.0'), ('SibSp', '0'), ('Parch', '0'), ('Ticket', '111428'), ('Fare', '26.55'), ('Cabin', ''), ('Embarked', 'S')])\n",
            "OrderedDict([('PassengerId', '189'), ('Perished', '1'), ('Pclass', '3'), ('Name', 'Bourke, Mr. John'), ('Sex', 'male'), ('Age', '40.0'), ('SibSp', '1'), ('Parch', '1'), ('Ticket', '364849'), ('Fare', '15.5'), ('Cabin', ''), ('Embarked', 'Q')])\n",
            "OrderedDict([('PassengerId', '190'), ('Perished', '1'), ('Pclass', '3'), ('Name', 'Turcin, Mr. Stjepan'), ('Sex', 'male'), ('Age', '36.0'), ('SibSp', '0'), ('Parch', '0'), ('Ticket', '349247'), ('Fare', '7.8958'), ('Cabin', ''), ('Embarked', 'S')])\n",
            "OrderedDict([('PassengerId', '191'), ('Perished', '0'), ('Pclass', '2'), ('Name', 'Pinsky, Mrs. (Rosa)'), ('Sex', 'female'), ('Age', '32.0'), ('SibSp', '0'), ('Parch', '0'), ('Ticket', '234604'), ('Fare', '13.0'), ('Cabin', ''), ('Embarked', 'S')])\n",
            "OrderedDict([('PassengerId', '192'), ('Perished', '1'), ('Pclass', '2'), ('Name', 'Carbines, Mr. William'), ('Sex', 'male'), ('Age', '19.0'), ('SibSp', '0'), ('Parch', '0'), ('Ticket', '28424'), ('Fare', '13.0'), ('Cabin', ''), ('Embarked', 'S')])\n",
            "OrderedDict([('PassengerId', '193'), ('Perished', '0'), ('Pclass', '3'), ('Name', 'Andersen-Jensen, Miss. Carla Christine Nielsine'), ('Sex', 'female'), ('Age', '19.0'), ('SibSp', '1'), ('Parch', '0'), ('Ticket', '350046'), ('Fare', '7.8542'), ('Cabin', ''), ('Embarked', 'S')])\n",
            "OrderedDict([('PassengerId', '194'), ('Perished', '0'), ('Pclass', '2'), ('Name', 'Navratil, Master. Michel M'), ('Sex', 'male'), ('Age', '3.0'), ('SibSp', '1'), ('Parch', '1'), ('Ticket', '230080'), ('Fare', '26.0'), ('Cabin', 'F2'), ('Embarked', 'S')])\n",
            "OrderedDict([('PassengerId', '195'), ('Perished', '0'), ('Pclass', '1'), ('Name', 'Brown, Mrs. James Joseph (Margaret Tobin)'), ('Sex', 'female'), ('Age', '44.0'), ('SibSp', '0'), ('Parch', '0'), ('Ticket', 'PC 17610'), ('Fare', '27.7208'), ('Cabin', 'B4'), ('Embarked', 'C')])\n",
            "OrderedDict([('PassengerId', '196'), ('Perished', '0'), ('Pclass', '1'), ('Name', 'Lurette, Miss. Elise'), ('Sex', 'female'), ('Age', '58.0'), ('SibSp', '0'), ('Parch', '0'), ('Ticket', 'PC 17569'), ('Fare', '146.5208'), ('Cabin', 'B80'), ('Embarked', 'C')])\n",
            "OrderedDict([('PassengerId', '197'), ('Perished', '1'), ('Pclass', '3'), ('Name', 'Mernagh, Mr. Robert'), ('Sex', 'male'), ('Age', ''), ('SibSp', '0'), ('Parch', '0'), ('Ticket', '368703'), ('Fare', '7.75'), ('Cabin', ''), ('Embarked', 'Q')])\n",
            "OrderedDict([('PassengerId', '198'), ('Perished', '1'), ('Pclass', '3'), ('Name', 'Olsen, Mr. Karl Siegwart Andreas'), ('Sex', 'male'), ('Age', '42.0'), ('SibSp', '0'), ('Parch', '1'), ('Ticket', '4579'), ('Fare', '8.4042'), ('Cabin', ''), ('Embarked', 'S')])\n",
            "OrderedDict([('PassengerId', '199'), ('Perished', '0'), ('Pclass', '3'), ('Name', 'Madigan, Miss. Margaret \"Maggie\"'), ('Sex', 'female'), ('Age', ''), ('SibSp', '0'), ('Parch', '0'), ('Ticket', '370370'), ('Fare', '7.75'), ('Cabin', ''), ('Embarked', 'Q')])\n",
            "OrderedDict([('PassengerId', '200'), ('Perished', '1'), ('Pclass', '2'), ('Name', 'Yrois, Miss. Henriette (\"Mrs Harbeck\")'), ('Sex', 'female'), ('Age', '24.0'), ('SibSp', '0'), ('Parch', '0'), ('Ticket', '248747'), ('Fare', '13.0'), ('Cabin', ''), ('Embarked', 'S')])\n",
            "OrderedDict([('PassengerId', '201'), ('Perished', '1'), ('Pclass', '3'), ('Name', 'Vande Walle, Mr. Nestor Cyriel'), ('Sex', 'male'), ('Age', '28.0'), ('SibSp', '0'), ('Parch', '0'), ('Ticket', '345770'), ('Fare', '9.5'), ('Cabin', ''), ('Embarked', 'S')])\n",
            "OrderedDict([('PassengerId', '202'), ('Perished', '1'), ('Pclass', '3'), ('Name', 'Sage, Mr. Frederick'), ('Sex', 'male'), ('Age', ''), ('SibSp', '8'), ('Parch', '2'), ('Ticket', 'CA. 2343'), ('Fare', '69.55'), ('Cabin', ''), ('Embarked', 'S')])\n",
            "OrderedDict([('PassengerId', '203'), ('Perished', '1'), ('Pclass', '3'), ('Name', 'Johanson, Mr. Jakob Alfred'), ('Sex', 'male'), ('Age', '34.0'), ('SibSp', '0'), ('Parch', '0'), ('Ticket', '3101264'), ('Fare', '6.4958'), ('Cabin', ''), ('Embarked', 'S')])\n",
            "OrderedDict([('PassengerId', '204'), ('Perished', '1'), ('Pclass', '3'), ('Name', 'Youseff, Mr. Gerious'), ('Sex', 'male'), ('Age', '45.5'), ('SibSp', '0'), ('Parch', '0'), ('Ticket', '2628'), ('Fare', '7.225'), ('Cabin', ''), ('Embarked', 'C')])\n",
            "OrderedDict([('PassengerId', '205'), ('Perished', '0'), ('Pclass', '3'), ('Name', 'Cohen, Mr. Gurshon \"Gus\"'), ('Sex', 'male'), ('Age', '18.0'), ('SibSp', '0'), ('Parch', '0'), ('Ticket', 'A/5 3540'), ('Fare', '8.05'), ('Cabin', ''), ('Embarked', 'S')])\n",
            "OrderedDict([('PassengerId', '206'), ('Perished', '1'), ('Pclass', '3'), ('Name', 'Strom, Miss. Telma Matilda'), ('Sex', 'female'), ('Age', '2.0'), ('SibSp', '0'), ('Parch', '1'), ('Ticket', '347054'), ('Fare', '10.4625'), ('Cabin', 'G6'), ('Embarked', 'S')])\n",
            "OrderedDict([('PassengerId', '207'), ('Perished', '1'), ('Pclass', '3'), ('Name', 'Backstrom, Mr. Karl Alfred'), ('Sex', 'male'), ('Age', '32.0'), ('SibSp', '1'), ('Parch', '0'), ('Ticket', '3101278'), ('Fare', '15.85'), ('Cabin', ''), ('Embarked', 'S')])\n",
            "OrderedDict([('PassengerId', '208'), ('Perished', '0'), ('Pclass', '3'), ('Name', 'Albimona, Mr. Nassef Cassem'), ('Sex', 'male'), ('Age', '26.0'), ('SibSp', '0'), ('Parch', '0'), ('Ticket', '2699'), ('Fare', '18.7875'), ('Cabin', ''), ('Embarked', 'C')])\n",
            "OrderedDict([('PassengerId', '209'), ('Perished', '0'), ('Pclass', '3'), ('Name', 'Carr, Miss. Helen \"Ellen\"'), ('Sex', 'female'), ('Age', '16.0'), ('SibSp', '0'), ('Parch', '0'), ('Ticket', '367231'), ('Fare', '7.75'), ('Cabin', ''), ('Embarked', 'Q')])\n",
            "OrderedDict([('PassengerId', '210'), ('Perished', '0'), ('Pclass', '1'), ('Name', 'Blank, Mr. Henry'), ('Sex', 'male'), ('Age', '40.0'), ('SibSp', '0'), ('Parch', '0'), ('Ticket', '112277'), ('Fare', '31.0'), ('Cabin', 'A31'), ('Embarked', 'C')])\n",
            "OrderedDict([('PassengerId', '211'), ('Perished', '1'), ('Pclass', '3'), ('Name', 'Ali, Mr. Ahmed'), ('Sex', 'male'), ('Age', '24.0'), ('SibSp', '0'), ('Parch', '0'), ('Ticket', 'SOTON/O.Q. 3101311'), ('Fare', '7.05'), ('Cabin', ''), ('Embarked', 'S')])\n",
            "OrderedDict([('PassengerId', '212'), ('Perished', '0'), ('Pclass', '2'), ('Name', 'Cameron, Miss. Clear Annie'), ('Sex', 'female'), ('Age', '35.0'), ('SibSp', '0'), ('Parch', '0'), ('Ticket', 'F.C.C. 13528'), ('Fare', '21.0'), ('Cabin', ''), ('Embarked', 'S')])\n",
            "OrderedDict([('PassengerId', '213'), ('Perished', '1'), ('Pclass', '3'), ('Name', 'Perkin, Mr. John Henry'), ('Sex', 'male'), ('Age', '22.0'), ('SibSp', '0'), ('Parch', '0'), ('Ticket', 'A/5 21174'), ('Fare', '7.25'), ('Cabin', ''), ('Embarked', 'S')])\n",
            "OrderedDict([('PassengerId', '214'), ('Perished', '1'), ('Pclass', '2'), ('Name', 'Givard, Mr. Hans Kristensen'), ('Sex', 'male'), ('Age', '30.0'), ('SibSp', '0'), ('Parch', '0'), ('Ticket', '250646'), ('Fare', '13.0'), ('Cabin', ''), ('Embarked', 'S')])\n",
            "OrderedDict([('PassengerId', '215'), ('Perished', '1'), ('Pclass', '3'), ('Name', 'Kiernan, Mr. Philip'), ('Sex', 'male'), ('Age', ''), ('SibSp', '1'), ('Parch', '0'), ('Ticket', '367229'), ('Fare', '7.75'), ('Cabin', ''), ('Embarked', 'Q')])\n",
            "OrderedDict([('PassengerId', '216'), ('Perished', '0'), ('Pclass', '1'), ('Name', 'Newell, Miss. Madeleine'), ('Sex', 'female'), ('Age', '31.0'), ('SibSp', '1'), ('Parch', '0'), ('Ticket', '35273'), ('Fare', '113.275'), ('Cabin', 'D36'), ('Embarked', 'C')])\n",
            "OrderedDict([('PassengerId', '217'), ('Perished', '0'), ('Pclass', '3'), ('Name', 'Honkanen, Miss. Eliina'), ('Sex', 'female'), ('Age', '27.0'), ('SibSp', '0'), ('Parch', '0'), ('Ticket', 'STON/O2. 3101283'), ('Fare', '7.925'), ('Cabin', ''), ('Embarked', 'S')])\n",
            "OrderedDict([('PassengerId', '218'), ('Perished', '1'), ('Pclass', '2'), ('Name', 'Jacobsohn, Mr. Sidney Samuel'), ('Sex', 'male'), ('Age', '42.0'), ('SibSp', '1'), ('Parch', '0'), ('Ticket', '243847'), ('Fare', '27.0'), ('Cabin', ''), ('Embarked', 'S')])\n",
            "OrderedDict([('PassengerId', '219'), ('Perished', '0'), ('Pclass', '1'), ('Name', 'Bazzani, Miss. Albina'), ('Sex', 'female'), ('Age', '32.0'), ('SibSp', '0'), ('Parch', '0'), ('Ticket', '11813'), ('Fare', '76.2917'), ('Cabin', 'D15'), ('Embarked', 'C')])\n",
            "OrderedDict([('PassengerId', '220'), ('Perished', '1'), ('Pclass', '2'), ('Name', 'Harris, Mr. Walter'), ('Sex', 'male'), ('Age', '30.0'), ('SibSp', '0'), ('Parch', '0'), ('Ticket', 'W/C 14208'), ('Fare', '10.5'), ('Cabin', ''), ('Embarked', 'S')])\n",
            "OrderedDict([('PassengerId', '221'), ('Perished', '0'), ('Pclass', '3'), ('Name', 'Sunderland, Mr. Victor Francis'), ('Sex', 'male'), ('Age', '16.0'), ('SibSp', '0'), ('Parch', '0'), ('Ticket', 'SOTON/OQ 392089'), ('Fare', '8.05'), ('Cabin', ''), ('Embarked', 'S')])\n",
            "OrderedDict([('PassengerId', '222'), ('Perished', '1'), ('Pclass', '2'), ('Name', 'Bracken, Mr. James H'), ('Sex', 'male'), ('Age', '27.0'), ('SibSp', '0'), ('Parch', '0'), ('Ticket', '220367'), ('Fare', '13.0'), ('Cabin', ''), ('Embarked', 'S')])\n",
            "OrderedDict([('PassengerId', '223'), ('Perished', '1'), ('Pclass', '3'), ('Name', 'Green, Mr. George Henry'), ('Sex', 'male'), ('Age', '51.0'), ('SibSp', '0'), ('Parch', '0'), ('Ticket', '21440'), ('Fare', '8.05'), ('Cabin', ''), ('Embarked', 'S')])\n",
            "OrderedDict([('PassengerId', '224'), ('Perished', '1'), ('Pclass', '3'), ('Name', 'Nenkoff, Mr. Christo'), ('Sex', 'male'), ('Age', ''), ('SibSp', '0'), ('Parch', '0'), ('Ticket', '349234'), ('Fare', '7.8958'), ('Cabin', ''), ('Embarked', 'S')])\n",
            "OrderedDict([('PassengerId', '225'), ('Perished', '0'), ('Pclass', '1'), ('Name', 'Hoyt, Mr. Frederick Maxfield'), ('Sex', 'male'), ('Age', '38.0'), ('SibSp', '1'), ('Parch', '0'), ('Ticket', '19943'), ('Fare', '90.0'), ('Cabin', 'C93'), ('Embarked', 'S')])\n",
            "OrderedDict([('PassengerId', '226'), ('Perished', '1'), ('Pclass', '3'), ('Name', 'Berglund, Mr. Karl Ivar Sven'), ('Sex', 'male'), ('Age', '22.0'), ('SibSp', '0'), ('Parch', '0'), ('Ticket', 'PP 4348'), ('Fare', '9.35'), ('Cabin', ''), ('Embarked', 'S')])\n",
            "OrderedDict([('PassengerId', '227'), ('Perished', '0'), ('Pclass', '2'), ('Name', 'Mellors, Mr. William John'), ('Sex', 'male'), ('Age', '19.0'), ('SibSp', '0'), ('Parch', '0'), ('Ticket', 'SW/PP 751'), ('Fare', '10.5'), ('Cabin', ''), ('Embarked', 'S')])\n",
            "OrderedDict([('PassengerId', '228'), ('Perished', '1'), ('Pclass', '3'), ('Name', 'Lovell, Mr. John Hall (\"Henry\")'), ('Sex', 'male'), ('Age', '20.5'), ('SibSp', '0'), ('Parch', '0'), ('Ticket', 'A/5 21173'), ('Fare', '7.25'), ('Cabin', ''), ('Embarked', 'S')])\n",
            "OrderedDict([('PassengerId', '229'), ('Perished', '1'), ('Pclass', '2'), ('Name', 'Fahlstrom, Mr. Arne Jonas'), ('Sex', 'male'), ('Age', '18.0'), ('SibSp', '0'), ('Parch', '0'), ('Ticket', '236171'), ('Fare', '13.0'), ('Cabin', ''), ('Embarked', 'S')])\n",
            "OrderedDict([('PassengerId', '230'), ('Perished', '1'), ('Pclass', '3'), ('Name', 'Lefebre, Miss. Mathilde'), ('Sex', 'female'), ('Age', ''), ('SibSp', '3'), ('Parch', '1'), ('Ticket', '4133'), ('Fare', '25.4667'), ('Cabin', ''), ('Embarked', 'S')])\n",
            "OrderedDict([('PassengerId', '231'), ('Perished', '0'), ('Pclass', '1'), ('Name', 'Harris, Mrs. Henry Birkhardt (Irene Wallach)'), ('Sex', 'female'), ('Age', '35.0'), ('SibSp', '1'), ('Parch', '0'), ('Ticket', '36973'), ('Fare', '83.475'), ('Cabin', 'C83'), ('Embarked', 'S')])\n",
            "OrderedDict([('PassengerId', '232'), ('Perished', '1'), ('Pclass', '3'), ('Name', 'Larsson, Mr. Bengt Edvin'), ('Sex', 'male'), ('Age', '29.0'), ('SibSp', '0'), ('Parch', '0'), ('Ticket', '347067'), ('Fare', '7.775'), ('Cabin', ''), ('Embarked', 'S')])\n",
            "OrderedDict([('PassengerId', '233'), ('Perished', '1'), ('Pclass', '2'), ('Name', 'Sjostedt, Mr. Ernst Adolf'), ('Sex', 'male'), ('Age', '59.0'), ('SibSp', '0'), ('Parch', '0'), ('Ticket', '237442'), ('Fare', '13.5'), ('Cabin', ''), ('Embarked', 'S')])\n",
            "OrderedDict([('PassengerId', '234'), ('Perished', '0'), ('Pclass', '3'), ('Name', 'Asplund, Miss. Lillian Gertrud'), ('Sex', 'female'), ('Age', '5.0'), ('SibSp', '4'), ('Parch', '2'), ('Ticket', '347077'), ('Fare', '31.3875'), ('Cabin', ''), ('Embarked', 'S')])\n",
            "OrderedDict([('PassengerId', '235'), ('Perished', '1'), ('Pclass', '2'), ('Name', 'Leyson, Mr. Robert William Norman'), ('Sex', 'male'), ('Age', '24.0'), ('SibSp', '0'), ('Parch', '0'), ('Ticket', 'C.A. 29566'), ('Fare', '10.5'), ('Cabin', ''), ('Embarked', 'S')])\n",
            "OrderedDict([('PassengerId', '236'), ('Perished', '1'), ('Pclass', '3'), ('Name', 'Harknett, Miss. Alice Phoebe'), ('Sex', 'female'), ('Age', ''), ('SibSp', '0'), ('Parch', '0'), ('Ticket', 'W./C. 6609'), ('Fare', '7.55'), ('Cabin', ''), ('Embarked', 'S')])\n",
            "OrderedDict([('PassengerId', '237'), ('Perished', '1'), ('Pclass', '2'), ('Name', 'Hold, Mr. Stephen'), ('Sex', 'male'), ('Age', '44.0'), ('SibSp', '1'), ('Parch', '0'), ('Ticket', '26707'), ('Fare', '26.0'), ('Cabin', ''), ('Embarked', 'S')])\n",
            "OrderedDict([('PassengerId', '238'), ('Perished', '0'), ('Pclass', '2'), ('Name', 'Collyer, Miss. Marjorie \"Lottie\"'), ('Sex', 'female'), ('Age', '8.0'), ('SibSp', '0'), ('Parch', '2'), ('Ticket', 'C.A. 31921'), ('Fare', '26.25'), ('Cabin', ''), ('Embarked', 'S')])\n",
            "OrderedDict([('PassengerId', '239'), ('Perished', '1'), ('Pclass', '2'), ('Name', 'Pengelly, Mr. Frederick William'), ('Sex', 'male'), ('Age', '19.0'), ('SibSp', '0'), ('Parch', '0'), ('Ticket', '28665'), ('Fare', '10.5'), ('Cabin', ''), ('Embarked', 'S')])\n",
            "OrderedDict([('PassengerId', '240'), ('Perished', '1'), ('Pclass', '2'), ('Name', 'Hunt, Mr. George Henry'), ('Sex', 'male'), ('Age', '33.0'), ('SibSp', '0'), ('Parch', '0'), ('Ticket', 'SCO/W 1585'), ('Fare', '12.275'), ('Cabin', ''), ('Embarked', 'S')])\n",
            "OrderedDict([('PassengerId', '241'), ('Perished', '1'), ('Pclass', '3'), ('Name', 'Zabour, Miss. Thamine'), ('Sex', 'female'), ('Age', ''), ('SibSp', '1'), ('Parch', '0'), ('Ticket', '2665'), ('Fare', '14.4542'), ('Cabin', ''), ('Embarked', 'C')])\n",
            "OrderedDict([('PassengerId', '242'), ('Perished', '0'), ('Pclass', '3'), ('Name', 'Murphy, Miss. Katherine \"Kate\"'), ('Sex', 'female'), ('Age', ''), ('SibSp', '1'), ('Parch', '0'), ('Ticket', '367230'), ('Fare', '15.5'), ('Cabin', ''), ('Embarked', 'Q')])\n",
            "OrderedDict([('PassengerId', '243'), ('Perished', '1'), ('Pclass', '2'), ('Name', 'Coleridge, Mr. Reginald Charles'), ('Sex', 'male'), ('Age', '29.0'), ('SibSp', '0'), ('Parch', '0'), ('Ticket', 'W./C. 14263'), ('Fare', '10.5'), ('Cabin', ''), ('Embarked', 'S')])\n",
            "OrderedDict([('PassengerId', '244'), ('Perished', '1'), ('Pclass', '3'), ('Name', 'Maenpaa, Mr. Matti Alexanteri'), ('Sex', 'male'), ('Age', '22.0'), ('SibSp', '0'), ('Parch', '0'), ('Ticket', 'STON/O 2. 3101275'), ('Fare', '7.125'), ('Cabin', ''), ('Embarked', 'S')])\n",
            "OrderedDict([('PassengerId', '245'), ('Perished', '1'), ('Pclass', '3'), ('Name', 'Attalah, Mr. Sleiman'), ('Sex', 'male'), ('Age', '30.0'), ('SibSp', '0'), ('Parch', '0'), ('Ticket', '2694'), ('Fare', '7.225'), ('Cabin', ''), ('Embarked', 'C')])\n",
            "OrderedDict([('PassengerId', '246'), ('Perished', '1'), ('Pclass', '1'), ('Name', 'Minahan, Dr. William Edward'), ('Sex', 'male'), ('Age', '44.0'), ('SibSp', '2'), ('Parch', '0'), ('Ticket', '19928'), ('Fare', '90.0'), ('Cabin', 'C78'), ('Embarked', 'Q')])\n",
            "OrderedDict([('PassengerId', '247'), ('Perished', '1'), ('Pclass', '3'), ('Name', 'Lindahl, Miss. Agda Thorilda Viktoria'), ('Sex', 'female'), ('Age', '25.0'), ('SibSp', '0'), ('Parch', '0'), ('Ticket', '347071'), ('Fare', '7.775'), ('Cabin', ''), ('Embarked', 'S')])\n",
            "OrderedDict([('PassengerId', '248'), ('Perished', '0'), ('Pclass', '2'), ('Name', 'Hamalainen, Mrs. William (Anna)'), ('Sex', 'female'), ('Age', '24.0'), ('SibSp', '0'), ('Parch', '2'), ('Ticket', '250649'), ('Fare', '14.5'), ('Cabin', ''), ('Embarked', 'S')])\n",
            "OrderedDict([('PassengerId', '249'), ('Perished', '0'), ('Pclass', '1'), ('Name', 'Beckwith, Mr. Richard Leonard'), ('Sex', 'male'), ('Age', '37.0'), ('SibSp', '1'), ('Parch', '1'), ('Ticket', '11751'), ('Fare', '52.5542'), ('Cabin', 'D35'), ('Embarked', 'S')])\n",
            "OrderedDict([('PassengerId', '250'), ('Perished', '1'), ('Pclass', '2'), ('Name', 'Carter, Rev. Ernest Courtenay'), ('Sex', 'male'), ('Age', '54.0'), ('SibSp', '1'), ('Parch', '0'), ('Ticket', '244252'), ('Fare', '26.0'), ('Cabin', ''), ('Embarked', 'S')])\n",
            "OrderedDict([('PassengerId', '251'), ('Perished', '1'), ('Pclass', '3'), ('Name', 'Reed, Mr. James George'), ('Sex', 'male'), ('Age', ''), ('SibSp', '0'), ('Parch', '0'), ('Ticket', '362316'), ('Fare', '7.25'), ('Cabin', ''), ('Embarked', 'S')])\n",
            "OrderedDict([('PassengerId', '252'), ('Perished', '1'), ('Pclass', '3'), ('Name', 'Strom, Mrs. Wilhelm (Elna Matilda Persson)'), ('Sex', 'female'), ('Age', '29.0'), ('SibSp', '1'), ('Parch', '1'), ('Ticket', '347054'), ('Fare', '10.4625'), ('Cabin', 'G6'), ('Embarked', 'S')])\n",
            "OrderedDict([('PassengerId', '253'), ('Perished', '1'), ('Pclass', '1'), ('Name', 'Stead, Mr. William Thomas'), ('Sex', 'male'), ('Age', '62.0'), ('SibSp', '0'), ('Parch', '0'), ('Ticket', '113514'), ('Fare', '26.55'), ('Cabin', 'C87'), ('Embarked', 'S')])\n",
            "OrderedDict([('PassengerId', '254'), ('Perished', '1'), ('Pclass', '3'), ('Name', 'Lobb, Mr. William Arthur'), ('Sex', 'male'), ('Age', '30.0'), ('SibSp', '1'), ('Parch', '0'), ('Ticket', 'A/5. 3336'), ('Fare', '16.1'), ('Cabin', ''), ('Embarked', 'S')])\n",
            "OrderedDict([('PassengerId', '255'), ('Perished', '1'), ('Pclass', '3'), ('Name', 'Rosblom, Mrs. Viktor (Helena Wilhelmina)'), ('Sex', 'female'), ('Age', '41.0'), ('SibSp', '0'), ('Parch', '2'), ('Ticket', '370129'), ('Fare', '20.2125'), ('Cabin', ''), ('Embarked', 'S')])\n",
            "OrderedDict([('PassengerId', '256'), ('Perished', '0'), ('Pclass', '3'), ('Name', 'Touma, Mrs. Darwis (Hanne Youssef Razi)'), ('Sex', 'female'), ('Age', '29.0'), ('SibSp', '0'), ('Parch', '2'), ('Ticket', '2650'), ('Fare', '15.2458'), ('Cabin', ''), ('Embarked', 'C')])\n",
            "OrderedDict([('PassengerId', '257'), ('Perished', '0'), ('Pclass', '1'), ('Name', 'Thorne, Mrs. Gertrude Maybelle'), ('Sex', 'female'), ('Age', ''), ('SibSp', '0'), ('Parch', '0'), ('Ticket', 'PC 17585'), ('Fare', '79.2'), ('Cabin', ''), ('Embarked', 'C')])\n",
            "OrderedDict([('PassengerId', '258'), ('Perished', '0'), ('Pclass', '1'), ('Name', 'Cherry, Miss. Gladys'), ('Sex', 'female'), ('Age', '30.0'), ('SibSp', '0'), ('Parch', '0'), ('Ticket', '110152'), ('Fare', '86.5'), ('Cabin', 'B77'), ('Embarked', 'S')])\n",
            "OrderedDict([('PassengerId', '259'), ('Perished', '0'), ('Pclass', '1'), ('Name', 'Ward, Miss. Anna'), ('Sex', 'female'), ('Age', '35.0'), ('SibSp', '0'), ('Parch', '0'), ('Ticket', 'PC 17755'), ('Fare', '512.3292'), ('Cabin', ''), ('Embarked', 'C')])\n",
            "OrderedDict([('PassengerId', '260'), ('Perished', '0'), ('Pclass', '2'), ('Name', 'Parrish, Mrs. (Lutie Davis)'), ('Sex', 'female'), ('Age', '50.0'), ('SibSp', '0'), ('Parch', '1'), ('Ticket', '230433'), ('Fare', '26.0'), ('Cabin', ''), ('Embarked', 'S')])\n",
            "OrderedDict([('PassengerId', '261'), ('Perished', '1'), ('Pclass', '3'), ('Name', 'Smith, Mr. Thomas'), ('Sex', 'male'), ('Age', ''), ('SibSp', '0'), ('Parch', '0'), ('Ticket', '384461'), ('Fare', '7.75'), ('Cabin', ''), ('Embarked', 'Q')])\n",
            "OrderedDict([('PassengerId', '262'), ('Perished', '0'), ('Pclass', '3'), ('Name', 'Asplund, Master. Edvin Rojj Felix'), ('Sex', 'male'), ('Age', '3.0'), ('SibSp', '4'), ('Parch', '2'), ('Ticket', '347077'), ('Fare', '31.3875'), ('Cabin', ''), ('Embarked', 'S')])\n",
            "OrderedDict([('PassengerId', '263'), ('Perished', '1'), ('Pclass', '1'), ('Name', 'Taussig, Mr. Emil'), ('Sex', 'male'), ('Age', '52.0'), ('SibSp', '1'), ('Parch', '1'), ('Ticket', '110413'), ('Fare', '79.65'), ('Cabin', 'E67'), ('Embarked', 'S')])\n",
            "OrderedDict([('PassengerId', '264'), ('Perished', '1'), ('Pclass', '1'), ('Name', 'Harrison, Mr. William'), ('Sex', 'male'), ('Age', '40.0'), ('SibSp', '0'), ('Parch', '0'), ('Ticket', '112059'), ('Fare', '0.0'), ('Cabin', 'B94'), ('Embarked', 'S')])\n",
            "OrderedDict([('PassengerId', '265'), ('Perished', '1'), ('Pclass', '3'), ('Name', 'Henry, Miss. Delia'), ('Sex', 'female'), ('Age', ''), ('SibSp', '0'), ('Parch', '0'), ('Ticket', '382649'), ('Fare', '7.75'), ('Cabin', ''), ('Embarked', 'Q')])\n",
            "OrderedDict([('PassengerId', '266'), ('Perished', '1'), ('Pclass', '2'), ('Name', 'Reeves, Mr. David'), ('Sex', 'male'), ('Age', '36.0'), ('SibSp', '0'), ('Parch', '0'), ('Ticket', 'C.A. 17248'), ('Fare', '10.5'), ('Cabin', ''), ('Embarked', 'S')])\n",
            "OrderedDict([('PassengerId', '267'), ('Perished', '1'), ('Pclass', '3'), ('Name', 'Panula, Mr. Ernesti Arvid'), ('Sex', 'male'), ('Age', '16.0'), ('SibSp', '4'), ('Parch', '1'), ('Ticket', '3101295'), ('Fare', '39.6875'), ('Cabin', ''), ('Embarked', 'S')])\n",
            "OrderedDict([('PassengerId', '268'), ('Perished', '0'), ('Pclass', '3'), ('Name', 'Persson, Mr. Ernst Ulrik'), ('Sex', 'male'), ('Age', '25.0'), ('SibSp', '1'), ('Parch', '0'), ('Ticket', '347083'), ('Fare', '7.775'), ('Cabin', ''), ('Embarked', 'S')])\n",
            "OrderedDict([('PassengerId', '269'), ('Perished', '0'), ('Pclass', '1'), ('Name', 'Graham, Mrs. William Thompson (Edith Junkins)'), ('Sex', 'female'), ('Age', '58.0'), ('SibSp', '0'), ('Parch', '1'), ('Ticket', 'PC 17582'), ('Fare', '153.4625'), ('Cabin', 'C125'), ('Embarked', 'S')])\n",
            "OrderedDict([('PassengerId', '270'), ('Perished', '0'), ('Pclass', '1'), ('Name', 'Bissette, Miss. Amelia'), ('Sex', 'female'), ('Age', '35.0'), ('SibSp', '0'), ('Parch', '0'), ('Ticket', 'PC 17760'), ('Fare', '135.6333'), ('Cabin', 'C99'), ('Embarked', 'S')])\n",
            "OrderedDict([('PassengerId', '271'), ('Perished', '1'), ('Pclass', '1'), ('Name', 'Cairns, Mr. Alexander'), ('Sex', 'male'), ('Age', ''), ('SibSp', '0'), ('Parch', '0'), ('Ticket', '113798'), ('Fare', '31.0'), ('Cabin', ''), ('Embarked', 'S')])\n",
            "OrderedDict([('PassengerId', '272'), ('Perished', '0'), ('Pclass', '3'), ('Name', 'Tornquist, Mr. William Henry'), ('Sex', 'male'), ('Age', '25.0'), ('SibSp', '0'), ('Parch', '0'), ('Ticket', 'LINE'), ('Fare', '0.0'), ('Cabin', ''), ('Embarked', 'S')])\n",
            "OrderedDict([('PassengerId', '273'), ('Perished', '0'), ('Pclass', '2'), ('Name', 'Mellinger, Mrs. (Elizabeth Anne Maidment)'), ('Sex', 'female'), ('Age', '41.0'), ('SibSp', '0'), ('Parch', '1'), ('Ticket', '250644'), ('Fare', '19.5'), ('Cabin', ''), ('Embarked', 'S')])\n",
            "OrderedDict([('PassengerId', '274'), ('Perished', '1'), ('Pclass', '1'), ('Name', 'Natsch, Mr. Charles H'), ('Sex', 'male'), ('Age', '37.0'), ('SibSp', '0'), ('Parch', '1'), ('Ticket', 'PC 17596'), ('Fare', '29.7'), ('Cabin', 'C118'), ('Embarked', 'C')])\n",
            "OrderedDict([('PassengerId', '275'), ('Perished', '0'), ('Pclass', '3'), ('Name', 'Healy, Miss. Hanora \"Nora\"'), ('Sex', 'female'), ('Age', ''), ('SibSp', '0'), ('Parch', '0'), ('Ticket', '370375'), ('Fare', '7.75'), ('Cabin', ''), ('Embarked', 'Q')])\n",
            "OrderedDict([('PassengerId', '276'), ('Perished', '0'), ('Pclass', '1'), ('Name', 'Andrews, Miss. Kornelia Theodosia'), ('Sex', 'female'), ('Age', '63.0'), ('SibSp', '1'), ('Parch', '0'), ('Ticket', '13502'), ('Fare', '77.9583'), ('Cabin', 'D7'), ('Embarked', 'S')])\n",
            "OrderedDict([('PassengerId', '277'), ('Perished', '1'), ('Pclass', '3'), ('Name', 'Lindblom, Miss. Augusta Charlotta'), ('Sex', 'female'), ('Age', '45.0'), ('SibSp', '0'), ('Parch', '0'), ('Ticket', '347073'), ('Fare', '7.75'), ('Cabin', ''), ('Embarked', 'S')])\n",
            "OrderedDict([('PassengerId', '278'), ('Perished', '1'), ('Pclass', '2'), ('Name', 'Parkes, Mr. Francis \"Frank\"'), ('Sex', 'male'), ('Age', ''), ('SibSp', '0'), ('Parch', '0'), ('Ticket', '239853'), ('Fare', '0.0'), ('Cabin', ''), ('Embarked', 'S')])\n",
            "OrderedDict([('PassengerId', '279'), ('Perished', '1'), ('Pclass', '3'), ('Name', 'Rice, Master. Eric'), ('Sex', 'male'), ('Age', '7.0'), ('SibSp', '4'), ('Parch', '1'), ('Ticket', '382652'), ('Fare', '29.125'), ('Cabin', ''), ('Embarked', 'Q')])\n",
            "OrderedDict([('PassengerId', '280'), ('Perished', '0'), ('Pclass', '3'), ('Name', 'Abbott, Mrs. Stanton (Rosa Hunt)'), ('Sex', 'female'), ('Age', '35.0'), ('SibSp', '1'), ('Parch', '1'), ('Ticket', 'C.A. 2673'), ('Fare', '20.25'), ('Cabin', ''), ('Embarked', 'S')])\n",
            "OrderedDict([('PassengerId', '281'), ('Perished', '1'), ('Pclass', '3'), ('Name', 'Duane, Mr. Frank'), ('Sex', 'male'), ('Age', '65.0'), ('SibSp', '0'), ('Parch', '0'), ('Ticket', '336439'), ('Fare', '7.75'), ('Cabin', ''), ('Embarked', 'Q')])\n",
            "OrderedDict([('PassengerId', '282'), ('Perished', '1'), ('Pclass', '3'), ('Name', 'Olsson, Mr. Nils Johan Goransson'), ('Sex', 'male'), ('Age', '28.0'), ('SibSp', '0'), ('Parch', '0'), ('Ticket', '347464'), ('Fare', '7.8542'), ('Cabin', ''), ('Embarked', 'S')])\n",
            "OrderedDict([('PassengerId', '283'), ('Perished', '1'), ('Pclass', '3'), ('Name', 'de Pelsmaeker, Mr. Alfons'), ('Sex', 'male'), ('Age', '16.0'), ('SibSp', '0'), ('Parch', '0'), ('Ticket', '345778'), ('Fare', '9.5'), ('Cabin', ''), ('Embarked', 'S')])\n",
            "OrderedDict([('PassengerId', '284'), ('Perished', '0'), ('Pclass', '3'), ('Name', 'Dorking, Mr. Edward Arthur'), ('Sex', 'male'), ('Age', '19.0'), ('SibSp', '0'), ('Parch', '0'), ('Ticket', 'A/5. 10482'), ('Fare', '8.05'), ('Cabin', ''), ('Embarked', 'S')])\n",
            "OrderedDict([('PassengerId', '285'), ('Perished', '1'), ('Pclass', '1'), ('Name', 'Smith, Mr. Richard William'), ('Sex', 'male'), ('Age', ''), ('SibSp', '0'), ('Parch', '0'), ('Ticket', '113056'), ('Fare', '26.0'), ('Cabin', 'A19'), ('Embarked', 'S')])\n",
            "OrderedDict([('PassengerId', '286'), ('Perished', '1'), ('Pclass', '3'), ('Name', 'Stankovic, Mr. Ivan'), ('Sex', 'male'), ('Age', '33.0'), ('SibSp', '0'), ('Parch', '0'), ('Ticket', '349239'), ('Fare', '8.6625'), ('Cabin', ''), ('Embarked', 'C')])\n",
            "OrderedDict([('PassengerId', '287'), ('Perished', '0'), ('Pclass', '3'), ('Name', 'de Mulder, Mr. Theodore'), ('Sex', 'male'), ('Age', '30.0'), ('SibSp', '0'), ('Parch', '0'), ('Ticket', '345774'), ('Fare', '9.5'), ('Cabin', ''), ('Embarked', 'S')])\n",
            "OrderedDict([('PassengerId', '288'), ('Perished', '1'), ('Pclass', '3'), ('Name', 'Naidenoff, Mr. Penko'), ('Sex', 'male'), ('Age', '22.0'), ('SibSp', '0'), ('Parch', '0'), ('Ticket', '349206'), ('Fare', '7.8958'), ('Cabin', ''), ('Embarked', 'S')])\n",
            "OrderedDict([('PassengerId', '289'), ('Perished', '0'), ('Pclass', '2'), ('Name', 'Hosono, Mr. Masabumi'), ('Sex', 'male'), ('Age', '42.0'), ('SibSp', '0'), ('Parch', '0'), ('Ticket', '237798'), ('Fare', '13.0'), ('Cabin', ''), ('Embarked', 'S')])\n",
            "OrderedDict([('PassengerId', '290'), ('Perished', '0'), ('Pclass', '3'), ('Name', 'Connolly, Miss. Kate'), ('Sex', 'female'), ('Age', '22.0'), ('SibSp', '0'), ('Parch', '0'), ('Ticket', '370373'), ('Fare', '7.75'), ('Cabin', ''), ('Embarked', 'Q')])\n",
            "OrderedDict([('PassengerId', '291'), ('Perished', '0'), ('Pclass', '1'), ('Name', 'Barber, Miss. Ellen \"Nellie\"'), ('Sex', 'female'), ('Age', '26.0'), ('SibSp', '0'), ('Parch', '0'), ('Ticket', '19877'), ('Fare', '78.85'), ('Cabin', ''), ('Embarked', 'S')])\n",
            "OrderedDict([('PassengerId', '292'), ('Perished', '0'), ('Pclass', '1'), ('Name', 'Bishop, Mrs. Dickinson H (Helen Walton)'), ('Sex', 'female'), ('Age', '19.0'), ('SibSp', '1'), ('Parch', '0'), ('Ticket', '11967'), ('Fare', '91.0792'), ('Cabin', 'B49'), ('Embarked', 'C')])\n",
            "OrderedDict([('PassengerId', '293'), ('Perished', '1'), ('Pclass', '2'), ('Name', 'Levy, Mr. Rene Jacques'), ('Sex', 'male'), ('Age', '36.0'), ('SibSp', '0'), ('Parch', '0'), ('Ticket', 'SC/Paris 2163'), ('Fare', '12.875'), ('Cabin', 'D'), ('Embarked', 'C')])\n",
            "OrderedDict([('PassengerId', '294'), ('Perished', '1'), ('Pclass', '3'), ('Name', 'Haas, Miss. Aloisia'), ('Sex', 'female'), ('Age', '24.0'), ('SibSp', '0'), ('Parch', '0'), ('Ticket', '349236'), ('Fare', '8.85'), ('Cabin', ''), ('Embarked', 'S')])\n",
            "OrderedDict([('PassengerId', '295'), ('Perished', '1'), ('Pclass', '3'), ('Name', 'Mineff, Mr. Ivan'), ('Sex', 'male'), ('Age', '24.0'), ('SibSp', '0'), ('Parch', '0'), ('Ticket', '349233'), ('Fare', '7.8958'), ('Cabin', ''), ('Embarked', 'S')])\n",
            "OrderedDict([('PassengerId', '296'), ('Perished', '1'), ('Pclass', '1'), ('Name', 'Lewy, Mr. Ervin G'), ('Sex', 'male'), ('Age', ''), ('SibSp', '0'), ('Parch', '0'), ('Ticket', 'PC 17612'), ('Fare', '27.7208'), ('Cabin', ''), ('Embarked', 'C')])\n",
            "OrderedDict([('PassengerId', '297'), ('Perished', '1'), ('Pclass', '3'), ('Name', 'Hanna, Mr. Mansour'), ('Sex', 'male'), ('Age', '23.5'), ('SibSp', '0'), ('Parch', '0'), ('Ticket', '2693'), ('Fare', '7.2292'), ('Cabin', ''), ('Embarked', 'C')])\n",
            "OrderedDict([('PassengerId', '298'), ('Perished', '1'), ('Pclass', '1'), ('Name', 'Allison, Miss. Helen Loraine'), ('Sex', 'female'), ('Age', '2.0'), ('SibSp', '1'), ('Parch', '2'), ('Ticket', '113781'), ('Fare', '151.55'), ('Cabin', 'C22 C26'), ('Embarked', 'S')])\n",
            "OrderedDict([('PassengerId', '299'), ('Perished', '0'), ('Pclass', '1'), ('Name', 'Saalfeld, Mr. Adolphe'), ('Sex', 'male'), ('Age', ''), ('SibSp', '0'), ('Parch', '0'), ('Ticket', '19988'), ('Fare', '30.5'), ('Cabin', 'C106'), ('Embarked', 'S')])\n",
            "OrderedDict([('PassengerId', '300'), ('Perished', '0'), ('Pclass', '1'), ('Name', 'Baxter, Mrs. James (Helene DeLaudeniere Chaput)'), ('Sex', 'female'), ('Age', '50.0'), ('SibSp', '0'), ('Parch', '1'), ('Ticket', 'PC 17558'), ('Fare', '247.5208'), ('Cabin', 'B58 B60'), ('Embarked', 'C')])\n",
            "OrderedDict([('PassengerId', '301'), ('Perished', '0'), ('Pclass', '3'), ('Name', 'Kelly, Miss. Anna Katherine \"Annie Kate\"'), ('Sex', 'female'), ('Age', ''), ('SibSp', '0'), ('Parch', '0'), ('Ticket', '9234'), ('Fare', '7.75'), ('Cabin', ''), ('Embarked', 'Q')])\n",
            "OrderedDict([('PassengerId', '302'), ('Perished', '0'), ('Pclass', '3'), ('Name', 'McCoy, Mr. Bernard'), ('Sex', 'male'), ('Age', ''), ('SibSp', '2'), ('Parch', '0'), ('Ticket', '367226'), ('Fare', '23.25'), ('Cabin', ''), ('Embarked', 'Q')])\n",
            "OrderedDict([('PassengerId', '303'), ('Perished', '1'), ('Pclass', '3'), ('Name', 'Johnson, Mr. William Cahoone Jr'), ('Sex', 'male'), ('Age', '19.0'), ('SibSp', '0'), ('Parch', '0'), ('Ticket', 'LINE'), ('Fare', '0.0'), ('Cabin', ''), ('Embarked', 'S')])\n",
            "OrderedDict([('PassengerId', '304'), ('Perished', '0'), ('Pclass', '2'), ('Name', 'Keane, Miss. Nora A'), ('Sex', 'female'), ('Age', ''), ('SibSp', '0'), ('Parch', '0'), ('Ticket', '226593'), ('Fare', '12.35'), ('Cabin', 'E101'), ('Embarked', 'Q')])\n",
            "OrderedDict([('PassengerId', '305'), ('Perished', '1'), ('Pclass', '3'), ('Name', 'Williams, Mr. Howard Hugh \"Harry\"'), ('Sex', 'male'), ('Age', ''), ('SibSp', '0'), ('Parch', '0'), ('Ticket', 'A/5 2466'), ('Fare', '8.05'), ('Cabin', ''), ('Embarked', 'S')])\n",
            "OrderedDict([('PassengerId', '306'), ('Perished', '0'), ('Pclass', '1'), ('Name', 'Allison, Master. Hudson Trevor'), ('Sex', 'male'), ('Age', '0.92'), ('SibSp', '1'), ('Parch', '2'), ('Ticket', '113781'), ('Fare', '151.55'), ('Cabin', 'C22 C26'), ('Embarked', 'S')])\n",
            "OrderedDict([('PassengerId', '307'), ('Perished', '0'), ('Pclass', '1'), ('Name', 'Fleming, Miss. Margaret'), ('Sex', 'female'), ('Age', ''), ('SibSp', '0'), ('Parch', '0'), ('Ticket', '17421'), ('Fare', '110.8833'), ('Cabin', ''), ('Embarked', 'C')])\n",
            "OrderedDict([('PassengerId', '308'), ('Perished', '0'), ('Pclass', '1'), ('Name', 'Penasco y Castellana, Mrs. Victor de Satode (Maria Josefa Perez de Soto y Vallejo)'), ('Sex', 'female'), ('Age', '17.0'), ('SibSp', '1'), ('Parch', '0'), ('Ticket', 'PC 17758'), ('Fare', '108.9'), ('Cabin', 'C65'), ('Embarked', 'C')])\n",
            "OrderedDict([('PassengerId', '309'), ('Perished', '1'), ('Pclass', '2'), ('Name', 'Abelson, Mr. Samuel'), ('Sex', 'male'), ('Age', '30.0'), ('SibSp', '1'), ('Parch', '0'), ('Ticket', 'P/PP 3381'), ('Fare', '24.0'), ('Cabin', ''), ('Embarked', 'C')])\n",
            "OrderedDict([('PassengerId', '310'), ('Perished', '0'), ('Pclass', '1'), ('Name', 'Francatelli, Miss. Laura Mabel'), ('Sex', 'female'), ('Age', '30.0'), ('SibSp', '0'), ('Parch', '0'), ('Ticket', 'PC 17485'), ('Fare', '56.9292'), ('Cabin', 'E36'), ('Embarked', 'C')])\n",
            "OrderedDict([('PassengerId', '311'), ('Perished', '0'), ('Pclass', '1'), ('Name', 'Hays, Miss. Margaret Bechstein'), ('Sex', 'female'), ('Age', '24.0'), ('SibSp', '0'), ('Parch', '0'), ('Ticket', '11767'), ('Fare', '83.1583'), ('Cabin', 'C54'), ('Embarked', 'C')])\n",
            "OrderedDict([('PassengerId', '312'), ('Perished', '0'), ('Pclass', '1'), ('Name', 'Ryerson, Miss. Emily Borie'), ('Sex', 'female'), ('Age', '18.0'), ('SibSp', '2'), ('Parch', '2'), ('Ticket', 'PC 17608'), ('Fare', '262.375'), ('Cabin', 'B57 B59 B63 B66'), ('Embarked', 'C')])\n",
            "OrderedDict([('PassengerId', '313'), ('Perished', '1'), ('Pclass', '2'), ('Name', 'Lahtinen, Mrs. William (Anna Sylfven)'), ('Sex', 'female'), ('Age', '26.0'), ('SibSp', '1'), ('Parch', '1'), ('Ticket', '250651'), ('Fare', '26.0'), ('Cabin', ''), ('Embarked', 'S')])\n",
            "OrderedDict([('PassengerId', '314'), ('Perished', '1'), ('Pclass', '3'), ('Name', 'Hendekovic, Mr. Ignjac'), ('Sex', 'male'), ('Age', '28.0'), ('SibSp', '0'), ('Parch', '0'), ('Ticket', '349243'), ('Fare', '7.8958'), ('Cabin', ''), ('Embarked', 'S')])\n",
            "OrderedDict([('PassengerId', '315'), ('Perished', '1'), ('Pclass', '2'), ('Name', 'Hart, Mr. Benjamin'), ('Sex', 'male'), ('Age', '43.0'), ('SibSp', '1'), ('Parch', '1'), ('Ticket', 'F.C.C. 13529'), ('Fare', '26.25'), ('Cabin', ''), ('Embarked', 'S')])\n",
            "OrderedDict([('PassengerId', '316'), ('Perished', '0'), ('Pclass', '3'), ('Name', 'Nilsson, Miss. Helmina Josefina'), ('Sex', 'female'), ('Age', '26.0'), ('SibSp', '0'), ('Parch', '0'), ('Ticket', '347470'), ('Fare', '7.8542'), ('Cabin', ''), ('Embarked', 'S')])\n",
            "OrderedDict([('PassengerId', '317'), ('Perished', '0'), ('Pclass', '2'), ('Name', 'Kantor, Mrs. Sinai (Miriam Sternin)'), ('Sex', 'female'), ('Age', '24.0'), ('SibSp', '1'), ('Parch', '0'), ('Ticket', '244367'), ('Fare', '26.0'), ('Cabin', ''), ('Embarked', 'S')])\n",
            "OrderedDict([('PassengerId', '318'), ('Perished', '1'), ('Pclass', '2'), ('Name', 'Moraweck, Dr. Ernest'), ('Sex', 'male'), ('Age', '54.0'), ('SibSp', '0'), ('Parch', '0'), ('Ticket', '29011'), ('Fare', '14.0'), ('Cabin', ''), ('Embarked', 'S')])\n",
            "OrderedDict([('PassengerId', '319'), ('Perished', '0'), ('Pclass', '1'), ('Name', 'Wick, Miss. Mary Natalie'), ('Sex', 'female'), ('Age', '31.0'), ('SibSp', '0'), ('Parch', '2'), ('Ticket', '36928'), ('Fare', '164.8667'), ('Cabin', 'C7'), ('Embarked', 'S')])\n",
            "OrderedDict([('PassengerId', '320'), ('Perished', '0'), ('Pclass', '1'), ('Name', 'Spedden, Mrs. Frederic Oakley (Margaretta Corning Stone)'), ('Sex', 'female'), ('Age', '40.0'), ('SibSp', '1'), ('Parch', '1'), ('Ticket', '16966'), ('Fare', '134.5'), ('Cabin', 'E34'), ('Embarked', 'C')])\n",
            "OrderedDict([('PassengerId', '321'), ('Perished', '1'), ('Pclass', '3'), ('Name', 'Dennis, Mr. Samuel'), ('Sex', 'male'), ('Age', '22.0'), ('SibSp', '0'), ('Parch', '0'), ('Ticket', 'A/5 21172'), ('Fare', '7.25'), ('Cabin', ''), ('Embarked', 'S')])\n",
            "OrderedDict([('PassengerId', '322'), ('Perished', '1'), ('Pclass', '3'), ('Name', 'Danoff, Mr. Yoto'), ('Sex', 'male'), ('Age', '27.0'), ('SibSp', '0'), ('Parch', '0'), ('Ticket', '349219'), ('Fare', '7.8958'), ('Cabin', ''), ('Embarked', 'S')])\n",
            "OrderedDict([('PassengerId', '323'), ('Perished', '0'), ('Pclass', '2'), ('Name', 'Slayter, Miss. Hilda Mary'), ('Sex', 'female'), ('Age', '30.0'), ('SibSp', '0'), ('Parch', '0'), ('Ticket', '234818'), ('Fare', '12.35'), ('Cabin', ''), ('Embarked', 'Q')])\n",
            "OrderedDict([('PassengerId', '324'), ('Perished', '0'), ('Pclass', '2'), ('Name', 'Caldwell, Mrs. Albert Francis (Sylvia Mae Harbaugh)'), ('Sex', 'female'), ('Age', '22.0'), ('SibSp', '1'), ('Parch', '1'), ('Ticket', '248738'), ('Fare', '29.0'), ('Cabin', ''), ('Embarked', 'S')])\n",
            "OrderedDict([('PassengerId', '325'), ('Perished', '1'), ('Pclass', '3'), ('Name', 'Sage, Mr. George John Jr'), ('Sex', 'male'), ('Age', ''), ('SibSp', '8'), ('Parch', '2'), ('Ticket', 'CA. 2343'), ('Fare', '69.55'), ('Cabin', ''), ('Embarked', 'S')])\n",
            "OrderedDict([('PassengerId', '326'), ('Perished', '0'), ('Pclass', '1'), ('Name', 'Young, Miss. Marie Grice'), ('Sex', 'female'), ('Age', '36.0'), ('SibSp', '0'), ('Parch', '0'), ('Ticket', 'PC 17760'), ('Fare', '135.6333'), ('Cabin', 'C32'), ('Embarked', 'C')])\n",
            "OrderedDict([('PassengerId', '327'), ('Perished', '1'), ('Pclass', '3'), ('Name', 'Nysveen, Mr. Johan Hansen'), ('Sex', 'male'), ('Age', '61.0'), ('SibSp', '0'), ('Parch', '0'), ('Ticket', '345364'), ('Fare', '6.2375'), ('Cabin', ''), ('Embarked', 'S')])\n",
            "OrderedDict([('PassengerId', '328'), ('Perished', '0'), ('Pclass', '2'), ('Name', 'Ball, Mrs. (Ada E Hall)'), ('Sex', 'female'), ('Age', '36.0'), ('SibSp', '0'), ('Parch', '0'), ('Ticket', '28551'), ('Fare', '13.0'), ('Cabin', 'D'), ('Embarked', 'S')])\n",
            "OrderedDict([('PassengerId', '329'), ('Perished', '0'), ('Pclass', '3'), ('Name', 'Goldsmith, Mrs. Frank John (Emily Alice Brown)'), ('Sex', 'female'), ('Age', '31.0'), ('SibSp', '1'), ('Parch', '1'), ('Ticket', '363291'), ('Fare', '20.525'), ('Cabin', ''), ('Embarked', 'S')])\n",
            "OrderedDict([('PassengerId', '330'), ('Perished', '0'), ('Pclass', '1'), ('Name', 'Hippach, Miss. Jean Gertrude'), ('Sex', 'female'), ('Age', '16.0'), ('SibSp', '0'), ('Parch', '1'), ('Ticket', '111361'), ('Fare', '57.9792'), ('Cabin', 'B18'), ('Embarked', 'C')])\n",
            "OrderedDict([('PassengerId', '331'), ('Perished', '0'), ('Pclass', '3'), ('Name', 'McCoy, Miss. Agnes'), ('Sex', 'female'), ('Age', ''), ('SibSp', '2'), ('Parch', '0'), ('Ticket', '367226'), ('Fare', '23.25'), ('Cabin', ''), ('Embarked', 'Q')])\n",
            "OrderedDict([('PassengerId', '332'), ('Perished', '1'), ('Pclass', '1'), ('Name', 'Partner, Mr. Austen'), ('Sex', 'male'), ('Age', '45.5'), ('SibSp', '0'), ('Parch', '0'), ('Ticket', '113043'), ('Fare', '28.5'), ('Cabin', 'C124'), ('Embarked', 'S')])\n",
            "OrderedDict([('PassengerId', '333'), ('Perished', '1'), ('Pclass', '1'), ('Name', 'Graham, Mr. George Edward'), ('Sex', 'male'), ('Age', '38.0'), ('SibSp', '0'), ('Parch', '1'), ('Ticket', 'PC 17582'), ('Fare', '153.4625'), ('Cabin', 'C91'), ('Embarked', 'S')])\n",
            "OrderedDict([('PassengerId', '334'), ('Perished', '1'), ('Pclass', '3'), ('Name', 'Vander Planke, Mr. Leo Edmondus'), ('Sex', 'male'), ('Age', '16.0'), ('SibSp', '2'), ('Parch', '0'), ('Ticket', '345764'), ('Fare', '18.0'), ('Cabin', ''), ('Embarked', 'S')])\n",
            "OrderedDict([('PassengerId', '335'), ('Perished', '0'), ('Pclass', '1'), ('Name', 'Frauenthal, Mrs. Henry William (Clara Heinsheimer)'), ('Sex', 'female'), ('Age', ''), ('SibSp', '1'), ('Parch', '0'), ('Ticket', 'PC 17611'), ('Fare', '133.65'), ('Cabin', ''), ('Embarked', 'S')])\n",
            "OrderedDict([('PassengerId', '336'), ('Perished', '1'), ('Pclass', '3'), ('Name', 'Denkoff, Mr. Mitto'), ('Sex', 'male'), ('Age', ''), ('SibSp', '0'), ('Parch', '0'), ('Ticket', '349225'), ('Fare', '7.8958'), ('Cabin', ''), ('Embarked', 'S')])\n",
            "OrderedDict([('PassengerId', '337'), ('Perished', '1'), ('Pclass', '1'), ('Name', 'Pears, Mr. Thomas Clinton'), ('Sex', 'male'), ('Age', '29.0'), ('SibSp', '1'), ('Parch', '0'), ('Ticket', '113776'), ('Fare', '66.6'), ('Cabin', 'C2'), ('Embarked', 'S')])\n",
            "OrderedDict([('PassengerId', '338'), ('Perished', '0'), ('Pclass', '1'), ('Name', 'Burns, Miss. Elizabeth Margaret'), ('Sex', 'female'), ('Age', '41.0'), ('SibSp', '0'), ('Parch', '0'), ('Ticket', '16966'), ('Fare', '134.5'), ('Cabin', 'E40'), ('Embarked', 'C')])\n",
            "OrderedDict([('PassengerId', '339'), ('Perished', '0'), ('Pclass', '3'), ('Name', 'Dahl, Mr. Karl Edwart'), ('Sex', 'male'), ('Age', '45.0'), ('SibSp', '0'), ('Parch', '0'), ('Ticket', '7598'), ('Fare', '8.05'), ('Cabin', ''), ('Embarked', 'S')])\n",
            "OrderedDict([('PassengerId', '340'), ('Perished', '1'), ('Pclass', '1'), ('Name', 'Blackwell, Mr. Stephen Weart'), ('Sex', 'male'), ('Age', '45.0'), ('SibSp', '0'), ('Parch', '0'), ('Ticket', '113784'), ('Fare', '35.5'), ('Cabin', 'T'), ('Embarked', 'S')])\n",
            "OrderedDict([('PassengerId', '341'), ('Perished', '0'), ('Pclass', '2'), ('Name', 'Navratil, Master. Edmond Roger'), ('Sex', 'male'), ('Age', '2.0'), ('SibSp', '1'), ('Parch', '1'), ('Ticket', '230080'), ('Fare', '26.0'), ('Cabin', 'F2'), ('Embarked', 'S')])\n",
            "OrderedDict([('PassengerId', '342'), ('Perished', '0'), ('Pclass', '1'), ('Name', 'Fortune, Miss. Alice Elizabeth'), ('Sex', 'female'), ('Age', '24.0'), ('SibSp', '3'), ('Parch', '2'), ('Ticket', '19950'), ('Fare', '263.0'), ('Cabin', 'C23 C25 C27'), ('Embarked', 'S')])\n",
            "OrderedDict([('PassengerId', '343'), ('Perished', '1'), ('Pclass', '2'), ('Name', 'Collander, Mr. Erik Gustaf'), ('Sex', 'male'), ('Age', '28.0'), ('SibSp', '0'), ('Parch', '0'), ('Ticket', '248740'), ('Fare', '13.0'), ('Cabin', ''), ('Embarked', 'S')])\n",
            "OrderedDict([('PassengerId', '344'), ('Perished', '1'), ('Pclass', '2'), ('Name', 'Sedgwick, Mr. Charles Frederick Waddington'), ('Sex', 'male'), ('Age', '25.0'), ('SibSp', '0'), ('Parch', '0'), ('Ticket', '244361'), ('Fare', '13.0'), ('Cabin', ''), ('Embarked', 'S')])\n",
            "OrderedDict([('PassengerId', '345'), ('Perished', '1'), ('Pclass', '2'), ('Name', 'Fox, Mr. Stanley Hubert'), ('Sex', 'male'), ('Age', '36.0'), ('SibSp', '0'), ('Parch', '0'), ('Ticket', '229236'), ('Fare', '13.0'), ('Cabin', ''), ('Embarked', 'S')])\n",
            "OrderedDict([('PassengerId', '346'), ('Perished', '0'), ('Pclass', '2'), ('Name', 'Brown, Miss. Amelia \"Mildred\"'), ('Sex', 'female'), ('Age', '24.0'), ('SibSp', '0'), ('Parch', '0'), ('Ticket', '248733'), ('Fare', '13.0'), ('Cabin', 'F33'), ('Embarked', 'S')])\n",
            "OrderedDict([('PassengerId', '347'), ('Perished', '0'), ('Pclass', '2'), ('Name', 'Smith, Miss. Marion Elsie'), ('Sex', 'female'), ('Age', '40.0'), ('SibSp', '0'), ('Parch', '0'), ('Ticket', '31418'), ('Fare', '13.0'), ('Cabin', ''), ('Embarked', 'S')])\n",
            "OrderedDict([('PassengerId', '348'), ('Perished', '0'), ('Pclass', '3'), ('Name', 'Davison, Mrs. Thomas Henry (Mary E Finck)'), ('Sex', 'female'), ('Age', ''), ('SibSp', '1'), ('Parch', '0'), ('Ticket', '386525'), ('Fare', '16.1'), ('Cabin', ''), ('Embarked', 'S')])\n",
            "OrderedDict([('PassengerId', '349'), ('Perished', '0'), ('Pclass', '3'), ('Name', 'Coutts, Master. William Loch \"William\"'), ('Sex', 'male'), ('Age', '3.0'), ('SibSp', '1'), ('Parch', '1'), ('Ticket', 'C.A. 37671'), ('Fare', '15.9'), ('Cabin', ''), ('Embarked', 'S')])\n",
            "OrderedDict([('PassengerId', '350'), ('Perished', '1'), ('Pclass', '3'), ('Name', 'Dimic, Mr. Jovan'), ('Sex', 'male'), ('Age', '42.0'), ('SibSp', '0'), ('Parch', '0'), ('Ticket', '315088'), ('Fare', '8.6625'), ('Cabin', ''), ('Embarked', 'S')])\n",
            "OrderedDict([('PassengerId', '351'), ('Perished', '1'), ('Pclass', '3'), ('Name', 'Odahl, Mr. Nils Martin'), ('Sex', 'male'), ('Age', '23.0'), ('SibSp', '0'), ('Parch', '0'), ('Ticket', '7267'), ('Fare', '9.225'), ('Cabin', ''), ('Embarked', 'S')])\n",
            "OrderedDict([('PassengerId', '352'), ('Perished', '1'), ('Pclass', '1'), ('Name', 'Williams-Lambert, Mr. Fletcher Fellows'), ('Sex', 'male'), ('Age', ''), ('SibSp', '0'), ('Parch', '0'), ('Ticket', '113510'), ('Fare', '35.0'), ('Cabin', 'C128'), ('Embarked', 'S')])\n",
            "OrderedDict([('PassengerId', '353'), ('Perished', '1'), ('Pclass', '3'), ('Name', 'Elias, Mr. Tannous'), ('Sex', 'male'), ('Age', '15.0'), ('SibSp', '1'), ('Parch', '1'), ('Ticket', '2695'), ('Fare', '7.2292'), ('Cabin', ''), ('Embarked', 'C')])\n",
            "OrderedDict([('PassengerId', '354'), ('Perished', '1'), ('Pclass', '3'), ('Name', 'Arnold-Franchi, Mr. Josef'), ('Sex', 'male'), ('Age', '25.0'), ('SibSp', '1'), ('Parch', '0'), ('Ticket', '349237'), ('Fare', '17.8'), ('Cabin', ''), ('Embarked', 'S')])\n",
            "OrderedDict([('PassengerId', '355'), ('Perished', '1'), ('Pclass', '3'), ('Name', 'Yousif, Mr. Wazli'), ('Sex', 'male'), ('Age', ''), ('SibSp', '0'), ('Parch', '0'), ('Ticket', '2647'), ('Fare', '7.225'), ('Cabin', ''), ('Embarked', 'C')])\n",
            "OrderedDict([('PassengerId', '356'), ('Perished', '1'), ('Pclass', '3'), ('Name', 'Vanden Steen, Mr. Leo Peter'), ('Sex', 'male'), ('Age', '28.0'), ('SibSp', '0'), ('Parch', '0'), ('Ticket', '345783'), ('Fare', '9.5'), ('Cabin', ''), ('Embarked', 'S')])\n",
            "OrderedDict([('PassengerId', '357'), ('Perished', '0'), ('Pclass', '1'), ('Name', 'Bowerman, Miss. Elsie Edith'), ('Sex', 'female'), ('Age', '22.0'), ('SibSp', '0'), ('Parch', '1'), ('Ticket', '113505'), ('Fare', '55.0'), ('Cabin', 'E33'), ('Embarked', 'S')])\n",
            "OrderedDict([('PassengerId', '358'), ('Perished', '1'), ('Pclass', '2'), ('Name', 'Funk, Miss. Annie Clemmer'), ('Sex', 'female'), ('Age', '38.0'), ('SibSp', '0'), ('Parch', '0'), ('Ticket', '237671'), ('Fare', '13.0'), ('Cabin', ''), ('Embarked', 'S')])\n",
            "OrderedDict([('PassengerId', '359'), ('Perished', '0'), ('Pclass', '3'), ('Name', 'McGovern, Miss. Mary'), ('Sex', 'female'), ('Age', ''), ('SibSp', '0'), ('Parch', '0'), ('Ticket', '330931'), ('Fare', '7.8792'), ('Cabin', ''), ('Embarked', 'Q')])\n",
            "OrderedDict([('PassengerId', '360'), ('Perished', '0'), ('Pclass', '3'), ('Name', 'Mockler, Miss. Helen Mary \"Ellie\"'), ('Sex', 'female'), ('Age', ''), ('SibSp', '0'), ('Parch', '0'), ('Ticket', '330980'), ('Fare', '7.8792'), ('Cabin', ''), ('Embarked', 'Q')])\n",
            "OrderedDict([('PassengerId', '361'), ('Perished', '1'), ('Pclass', '3'), ('Name', 'Skoog, Mr. Wilhelm'), ('Sex', 'male'), ('Age', '40.0'), ('SibSp', '1'), ('Parch', '4'), ('Ticket', '347088'), ('Fare', '27.9'), ('Cabin', ''), ('Embarked', 'S')])\n",
            "OrderedDict([('PassengerId', '362'), ('Perished', '1'), ('Pclass', '2'), ('Name', 'del Carlo, Mr. Sebastiano'), ('Sex', 'male'), ('Age', '29.0'), ('SibSp', '1'), ('Parch', '0'), ('Ticket', 'SC/PARIS 2167'), ('Fare', '27.7208'), ('Cabin', ''), ('Embarked', 'C')])\n",
            "OrderedDict([('PassengerId', '363'), ('Perished', '1'), ('Pclass', '3'), ('Name', 'Barbara, Mrs. (Catherine David)'), ('Sex', 'female'), ('Age', '45.0'), ('SibSp', '0'), ('Parch', '1'), ('Ticket', '2691'), ('Fare', '14.4542'), ('Cabin', ''), ('Embarked', 'C')])\n",
            "OrderedDict([('PassengerId', '364'), ('Perished', '1'), ('Pclass', '3'), ('Name', 'Asim, Mr. Adola'), ('Sex', 'male'), ('Age', '35.0'), ('SibSp', '0'), ('Parch', '0'), ('Ticket', 'SOTON/O.Q. 3101310'), ('Fare', '7.05'), ('Cabin', ''), ('Embarked', 'S')])\n",
            "OrderedDict([('PassengerId', '365'), ('Perished', '1'), ('Pclass', '3'), ('Name', \"O'Brien, Mr. Thomas\"), ('Sex', 'male'), ('Age', ''), ('SibSp', '1'), ('Parch', '0'), ('Ticket', '370365'), ('Fare', '15.5'), ('Cabin', ''), ('Embarked', 'Q')])\n",
            "OrderedDict([('PassengerId', '366'), ('Perished', '1'), ('Pclass', '3'), ('Name', 'Adahl, Mr. Mauritz Nils Martin'), ('Sex', 'male'), ('Age', '30.0'), ('SibSp', '0'), ('Parch', '0'), ('Ticket', 'C 7076'), ('Fare', '7.25'), ('Cabin', ''), ('Embarked', 'S')])\n",
            "OrderedDict([('PassengerId', '367'), ('Perished', '0'), ('Pclass', '1'), ('Name', 'Warren, Mrs. Frank Manley (Anna Sophia Atkinson)'), ('Sex', 'female'), ('Age', '60.0'), ('SibSp', '1'), ('Parch', '0'), ('Ticket', '110813'), ('Fare', '75.25'), ('Cabin', 'D37'), ('Embarked', 'C')])\n",
            "OrderedDict([('PassengerId', '368'), ('Perished', '0'), ('Pclass', '3'), ('Name', 'Moussa, Mrs. (Mantoura Boulos)'), ('Sex', 'female'), ('Age', ''), ('SibSp', '0'), ('Parch', '0'), ('Ticket', '2626'), ('Fare', '7.2292'), ('Cabin', ''), ('Embarked', 'C')])\n",
            "OrderedDict([('PassengerId', '369'), ('Perished', '0'), ('Pclass', '3'), ('Name', 'Jermyn, Miss. Annie'), ('Sex', 'female'), ('Age', ''), ('SibSp', '0'), ('Parch', '0'), ('Ticket', '14313'), ('Fare', '7.75'), ('Cabin', ''), ('Embarked', 'Q')])\n",
            "OrderedDict([('PassengerId', '370'), ('Perished', '0'), ('Pclass', '1'), ('Name', 'Aubart, Mme. Leontine Pauline'), ('Sex', 'female'), ('Age', '24.0'), ('SibSp', '0'), ('Parch', '0'), ('Ticket', 'PC 17477'), ('Fare', '69.3'), ('Cabin', 'B35'), ('Embarked', 'C')])\n",
            "OrderedDict([('PassengerId', '371'), ('Perished', '0'), ('Pclass', '1'), ('Name', 'Harder, Mr. George Achilles'), ('Sex', 'male'), ('Age', '25.0'), ('SibSp', '1'), ('Parch', '0'), ('Ticket', '11765'), ('Fare', '55.4417'), ('Cabin', 'E50'), ('Embarked', 'C')])\n",
            "OrderedDict([('PassengerId', '372'), ('Perished', '1'), ('Pclass', '3'), ('Name', 'Wiklund, Mr. Jakob Alfred'), ('Sex', 'male'), ('Age', '18.0'), ('SibSp', '1'), ('Parch', '0'), ('Ticket', '3101267'), ('Fare', '6.4958'), ('Cabin', ''), ('Embarked', 'S')])\n",
            "OrderedDict([('PassengerId', '373'), ('Perished', '1'), ('Pclass', '3'), ('Name', 'Beavan, Mr. William Thomas'), ('Sex', 'male'), ('Age', '19.0'), ('SibSp', '0'), ('Parch', '0'), ('Ticket', '323951'), ('Fare', '8.05'), ('Cabin', ''), ('Embarked', 'S')])\n",
            "OrderedDict([('PassengerId', '374'), ('Perished', '1'), ('Pclass', '1'), ('Name', 'Ringhini, Mr. Sante'), ('Sex', 'male'), ('Age', '22.0'), ('SibSp', '0'), ('Parch', '0'), ('Ticket', 'PC 17760'), ('Fare', '135.6333'), ('Cabin', ''), ('Embarked', 'C')])\n",
            "OrderedDict([('PassengerId', '375'), ('Perished', '1'), ('Pclass', '3'), ('Name', 'Palsson, Miss. Stina Viola'), ('Sex', 'female'), ('Age', '3.0'), ('SibSp', '3'), ('Parch', '1'), ('Ticket', '349909'), ('Fare', '21.075'), ('Cabin', ''), ('Embarked', 'S')])\n",
            "OrderedDict([('PassengerId', '376'), ('Perished', '0'), ('Pclass', '1'), ('Name', 'Meyer, Mrs. Edgar Joseph (Leila Saks)'), ('Sex', 'female'), ('Age', ''), ('SibSp', '1'), ('Parch', '0'), ('Ticket', 'PC 17604'), ('Fare', '82.1708'), ('Cabin', ''), ('Embarked', 'C')])\n",
            "OrderedDict([('PassengerId', '377'), ('Perished', '0'), ('Pclass', '3'), ('Name', 'Landergren, Miss. Aurora Adelia'), ('Sex', 'female'), ('Age', '22.0'), ('SibSp', '0'), ('Parch', '0'), ('Ticket', 'C 7077'), ('Fare', '7.25'), ('Cabin', ''), ('Embarked', 'S')])\n",
            "OrderedDict([('PassengerId', '378'), ('Perished', '1'), ('Pclass', '1'), ('Name', 'Widener, Mr. Harry Elkins'), ('Sex', 'male'), ('Age', '27.0'), ('SibSp', '0'), ('Parch', '2'), ('Ticket', '113503'), ('Fare', '211.5'), ('Cabin', 'C82'), ('Embarked', 'C')])\n",
            "OrderedDict([('PassengerId', '379'), ('Perished', '1'), ('Pclass', '3'), ('Name', 'Betros, Mr. Tannous'), ('Sex', 'male'), ('Age', '20.0'), ('SibSp', '0'), ('Parch', '0'), ('Ticket', '2648'), ('Fare', '4.0125'), ('Cabin', ''), ('Embarked', 'C')])\n",
            "OrderedDict([('PassengerId', '380'), ('Perished', '1'), ('Pclass', '3'), ('Name', 'Gustafsson, Mr. Karl Gideon'), ('Sex', 'male'), ('Age', '19.0'), ('SibSp', '0'), ('Parch', '0'), ('Ticket', '347069'), ('Fare', '7.775'), ('Cabin', ''), ('Embarked', 'S')])\n",
            "OrderedDict([('PassengerId', '381'), ('Perished', '0'), ('Pclass', '1'), ('Name', 'Bidois, Miss. Rosalie'), ('Sex', 'female'), ('Age', '42.0'), ('SibSp', '0'), ('Parch', '0'), ('Ticket', 'PC 17757'), ('Fare', '227.525'), ('Cabin', ''), ('Embarked', 'C')])\n",
            "OrderedDict([('PassengerId', '382'), ('Perished', '0'), ('Pclass', '3'), ('Name', 'Nakid, Miss. Maria (\"Mary\")'), ('Sex', 'female'), ('Age', '1.0'), ('SibSp', '0'), ('Parch', '2'), ('Ticket', '2653'), ('Fare', '15.7417'), ('Cabin', ''), ('Embarked', 'C')])\n",
            "OrderedDict([('PassengerId', '383'), ('Perished', '1'), ('Pclass', '3'), ('Name', 'Tikkanen, Mr. Juho'), ('Sex', 'male'), ('Age', '32.0'), ('SibSp', '0'), ('Parch', '0'), ('Ticket', 'STON/O 2. 3101293'), ('Fare', '7.925'), ('Cabin', ''), ('Embarked', 'S')])\n",
            "OrderedDict([('PassengerId', '384'), ('Perished', '0'), ('Pclass', '1'), ('Name', 'Holverson, Mrs. Alexander Oskar (Mary Aline Towner)'), ('Sex', 'female'), ('Age', '35.0'), ('SibSp', '1'), ('Parch', '0'), ('Ticket', '113789'), ('Fare', '52.0'), ('Cabin', ''), ('Embarked', 'S')])\n",
            "OrderedDict([('PassengerId', '385'), ('Perished', '1'), ('Pclass', '3'), ('Name', 'Plotcharsky, Mr. Vasil'), ('Sex', 'male'), ('Age', ''), ('SibSp', '0'), ('Parch', '0'), ('Ticket', '349227'), ('Fare', '7.8958'), ('Cabin', ''), ('Embarked', 'S')])\n",
            "OrderedDict([('PassengerId', '386'), ('Perished', '1'), ('Pclass', '2'), ('Name', 'Davies, Mr. Charles Henry'), ('Sex', 'male'), ('Age', '18.0'), ('SibSp', '0'), ('Parch', '0'), ('Ticket', 'S.O.C. 14879'), ('Fare', '73.5'), ('Cabin', ''), ('Embarked', 'S')])\n",
            "OrderedDict([('PassengerId', '387'), ('Perished', '1'), ('Pclass', '3'), ('Name', 'Goodwin, Master. Sidney Leonard'), ('Sex', 'male'), ('Age', '1.0'), ('SibSp', '5'), ('Parch', '2'), ('Ticket', 'CA 2144'), ('Fare', '46.9'), ('Cabin', ''), ('Embarked', 'S')])\n",
            "OrderedDict([('PassengerId', '388'), ('Perished', '0'), ('Pclass', '2'), ('Name', 'Buss, Miss. Kate'), ('Sex', 'female'), ('Age', '36.0'), ('SibSp', '0'), ('Parch', '0'), ('Ticket', '27849'), ('Fare', '13.0'), ('Cabin', ''), ('Embarked', 'S')])\n",
            "OrderedDict([('PassengerId', '389'), ('Perished', '1'), ('Pclass', '3'), ('Name', 'Sadlier, Mr. Matthew'), ('Sex', 'male'), ('Age', ''), ('SibSp', '0'), ('Parch', '0'), ('Ticket', '367655'), ('Fare', '7.7292'), ('Cabin', ''), ('Embarked', 'Q')])\n",
            "OrderedDict([('PassengerId', '390'), ('Perished', '0'), ('Pclass', '2'), ('Name', 'Lehmann, Miss. Bertha'), ('Sex', 'female'), ('Age', '17.0'), ('SibSp', '0'), ('Parch', '0'), ('Ticket', 'SC 1748'), ('Fare', '12.0'), ('Cabin', ''), ('Embarked', 'C')])\n",
            "OrderedDict([('PassengerId', '391'), ('Perished', '0'), ('Pclass', '1'), ('Name', 'Carter, Mr. William Ernest'), ('Sex', 'male'), ('Age', '36.0'), ('SibSp', '1'), ('Parch', '2'), ('Ticket', '113760'), ('Fare', '120.0'), ('Cabin', 'B96 B98'), ('Embarked', 'S')])\n",
            "OrderedDict([('PassengerId', '392'), ('Perished', '0'), ('Pclass', '3'), ('Name', 'Jansson, Mr. Carl Olof'), ('Sex', 'male'), ('Age', '21.0'), ('SibSp', '0'), ('Parch', '0'), ('Ticket', '350034'), ('Fare', '7.7958'), ('Cabin', ''), ('Embarked', 'S')])\n",
            "OrderedDict([('PassengerId', '393'), ('Perished', '1'), ('Pclass', '3'), ('Name', 'Gustafsson, Mr. Johan Birger'), ('Sex', 'male'), ('Age', '28.0'), ('SibSp', '2'), ('Parch', '0'), ('Ticket', '3101277'), ('Fare', '7.925'), ('Cabin', ''), ('Embarked', 'S')])\n",
            "OrderedDict([('PassengerId', '394'), ('Perished', '0'), ('Pclass', '1'), ('Name', 'Newell, Miss. Marjorie'), ('Sex', 'female'), ('Age', '23.0'), ('SibSp', '1'), ('Parch', '0'), ('Ticket', '35273'), ('Fare', '113.275'), ('Cabin', 'D36'), ('Embarked', 'C')])\n",
            "OrderedDict([('PassengerId', '395'), ('Perished', '0'), ('Pclass', '3'), ('Name', 'Sandstrom, Mrs. Hjalmar (Agnes Charlotta Bengtsson)'), ('Sex', 'female'), ('Age', '24.0'), ('SibSp', '0'), ('Parch', '2'), ('Ticket', 'PP 9549'), ('Fare', '16.7'), ('Cabin', 'G6'), ('Embarked', 'S')])\n",
            "OrderedDict([('PassengerId', '396'), ('Perished', '1'), ('Pclass', '3'), ('Name', 'Johansson, Mr. Erik'), ('Sex', 'male'), ('Age', '22.0'), ('SibSp', '0'), ('Parch', '0'), ('Ticket', '350052'), ('Fare', '7.7958'), ('Cabin', ''), ('Embarked', 'S')])\n",
            "OrderedDict([('PassengerId', '397'), ('Perished', '1'), ('Pclass', '3'), ('Name', 'Olsson, Miss. Elina'), ('Sex', 'female'), ('Age', '31.0'), ('SibSp', '0'), ('Parch', '0'), ('Ticket', '350407'), ('Fare', '7.8542'), ('Cabin', ''), ('Embarked', 'S')])\n",
            "OrderedDict([('PassengerId', '398'), ('Perished', '1'), ('Pclass', '2'), ('Name', 'McKane, Mr. Peter David'), ('Sex', 'male'), ('Age', '46.0'), ('SibSp', '0'), ('Parch', '0'), ('Ticket', '28403'), ('Fare', '26.0'), ('Cabin', ''), ('Embarked', 'S')])\n",
            "OrderedDict([('PassengerId', '399'), ('Perished', '1'), ('Pclass', '2'), ('Name', 'Pain, Dr. Alfred'), ('Sex', 'male'), ('Age', '23.0'), ('SibSp', '0'), ('Parch', '0'), ('Ticket', '244278'), ('Fare', '10.5'), ('Cabin', ''), ('Embarked', 'S')])\n",
            "OrderedDict([('PassengerId', '400'), ('Perished', '0'), ('Pclass', '2'), ('Name', 'Trout, Mrs. William H (Jessie L)'), ('Sex', 'female'), ('Age', '28.0'), ('SibSp', '0'), ('Parch', '0'), ('Ticket', '240929'), ('Fare', '12.65'), ('Cabin', ''), ('Embarked', 'S')])\n",
            "OrderedDict([('PassengerId', '401'), ('Perished', '0'), ('Pclass', '3'), ('Name', 'Niskanen, Mr. Juha'), ('Sex', 'male'), ('Age', '39.0'), ('SibSp', '0'), ('Parch', '0'), ('Ticket', 'STON/O 2. 3101289'), ('Fare', '7.925'), ('Cabin', ''), ('Embarked', 'S')])\n",
            "OrderedDict([('PassengerId', '402'), ('Perished', '1'), ('Pclass', '3'), ('Name', 'Adams, Mr. John'), ('Sex', 'male'), ('Age', '26.0'), ('SibSp', '0'), ('Parch', '0'), ('Ticket', '341826'), ('Fare', '8.05'), ('Cabin', ''), ('Embarked', 'S')])\n",
            "OrderedDict([('PassengerId', '403'), ('Perished', '1'), ('Pclass', '3'), ('Name', 'Jussila, Miss. Mari Aina'), ('Sex', 'female'), ('Age', '21.0'), ('SibSp', '1'), ('Parch', '0'), ('Ticket', '4137'), ('Fare', '9.825'), ('Cabin', ''), ('Embarked', 'S')])\n",
            "OrderedDict([('PassengerId', '404'), ('Perished', '1'), ('Pclass', '3'), ('Name', 'Hakkarainen, Mr. Pekka Pietari'), ('Sex', 'male'), ('Age', '28.0'), ('SibSp', '1'), ('Parch', '0'), ('Ticket', 'STON/O2. 3101279'), ('Fare', '15.85'), ('Cabin', ''), ('Embarked', 'S')])\n",
            "OrderedDict([('PassengerId', '405'), ('Perished', '1'), ('Pclass', '3'), ('Name', 'Oreskovic, Miss. Marija'), ('Sex', 'female'), ('Age', '20.0'), ('SibSp', '0'), ('Parch', '0'), ('Ticket', '315096'), ('Fare', '8.6625'), ('Cabin', ''), ('Embarked', 'S')])\n",
            "OrderedDict([('PassengerId', '406'), ('Perished', '1'), ('Pclass', '2'), ('Name', 'Gale, Mr. Shadrach'), ('Sex', 'male'), ('Age', '34.0'), ('SibSp', '1'), ('Parch', '0'), ('Ticket', '28664'), ('Fare', '21.0'), ('Cabin', ''), ('Embarked', 'S')])\n",
            "OrderedDict([('PassengerId', '407'), ('Perished', '1'), ('Pclass', '3'), ('Name', 'Widegren, Mr. Carl/Charles Peter'), ('Sex', 'male'), ('Age', '51.0'), ('SibSp', '0'), ('Parch', '0'), ('Ticket', '347064'), ('Fare', '7.75'), ('Cabin', ''), ('Embarked', 'S')])\n",
            "OrderedDict([('PassengerId', '408'), ('Perished', '0'), ('Pclass', '2'), ('Name', 'Richards, Master. William Rowe'), ('Sex', 'male'), ('Age', '3.0'), ('SibSp', '1'), ('Parch', '1'), ('Ticket', '29106'), ('Fare', '18.75'), ('Cabin', ''), ('Embarked', 'S')])\n",
            "OrderedDict([('PassengerId', '409'), ('Perished', '1'), ('Pclass', '3'), ('Name', 'Birkeland, Mr. Hans Martin Monsen'), ('Sex', 'male'), ('Age', '21.0'), ('SibSp', '0'), ('Parch', '0'), ('Ticket', '312992'), ('Fare', '7.775'), ('Cabin', ''), ('Embarked', 'S')])\n",
            "OrderedDict([('PassengerId', '410'), ('Perished', '1'), ('Pclass', '3'), ('Name', 'Lefebre, Miss. Ida'), ('Sex', 'female'), ('Age', ''), ('SibSp', '3'), ('Parch', '1'), ('Ticket', '4133'), ('Fare', '25.4667'), ('Cabin', ''), ('Embarked', 'S')])\n",
            "OrderedDict([('PassengerId', '411'), ('Perished', '1'), ('Pclass', '3'), ('Name', 'Sdycoff, Mr. Todor'), ('Sex', 'male'), ('Age', ''), ('SibSp', '0'), ('Parch', '0'), ('Ticket', '349222'), ('Fare', '7.8958'), ('Cabin', ''), ('Embarked', 'S')])\n",
            "OrderedDict([('PassengerId', '412'), ('Perished', '1'), ('Pclass', '3'), ('Name', 'Hart, Mr. Henry'), ('Sex', 'male'), ('Age', ''), ('SibSp', '0'), ('Parch', '0'), ('Ticket', '394140'), ('Fare', '6.8583'), ('Cabin', ''), ('Embarked', 'Q')])\n",
            "OrderedDict([('PassengerId', '413'), ('Perished', '0'), ('Pclass', '1'), ('Name', 'Minahan, Miss. Daisy E'), ('Sex', 'female'), ('Age', '33.0'), ('SibSp', '1'), ('Parch', '0'), ('Ticket', '19928'), ('Fare', '90.0'), ('Cabin', 'C78'), ('Embarked', 'Q')])\n",
            "OrderedDict([('PassengerId', '414'), ('Perished', '1'), ('Pclass', '2'), ('Name', 'Cunningham, Mr. Alfred Fleming'), ('Sex', 'male'), ('Age', ''), ('SibSp', '0'), ('Parch', '0'), ('Ticket', '239853'), ('Fare', '0.0'), ('Cabin', ''), ('Embarked', 'S')])\n",
            "OrderedDict([('PassengerId', '415'), ('Perished', '0'), ('Pclass', '3'), ('Name', 'Sundman, Mr. Johan Julian'), ('Sex', 'male'), ('Age', '44.0'), ('SibSp', '0'), ('Parch', '0'), ('Ticket', 'STON/O 2. 3101269'), ('Fare', '7.925'), ('Cabin', ''), ('Embarked', 'S')])\n",
            "OrderedDict([('PassengerId', '416'), ('Perished', '1'), ('Pclass', '3'), ('Name', 'Meek, Mrs. Thomas (Annie Louise Rowley)'), ('Sex', 'female'), ('Age', ''), ('SibSp', '0'), ('Parch', '0'), ('Ticket', '343095'), ('Fare', '8.05'), ('Cabin', ''), ('Embarked', 'S')])\n",
            "OrderedDict([('PassengerId', '417'), ('Perished', '0'), ('Pclass', '2'), ('Name', 'Drew, Mrs. James Vivian (Lulu Thorne Christian)'), ('Sex', 'female'), ('Age', '34.0'), ('SibSp', '1'), ('Parch', '1'), ('Ticket', '28220'), ('Fare', '32.5'), ('Cabin', ''), ('Embarked', 'S')])\n",
            "OrderedDict([('PassengerId', '418'), ('Perished', '0'), ('Pclass', '2'), ('Name', 'Silven, Miss. Lyyli Karoliina'), ('Sex', 'female'), ('Age', '18.0'), ('SibSp', '0'), ('Parch', '2'), ('Ticket', '250652'), ('Fare', '13.0'), ('Cabin', ''), ('Embarked', 'S')])\n",
            "OrderedDict([('PassengerId', '419'), ('Perished', '1'), ('Pclass', '2'), ('Name', 'Matthews, Mr. William John'), ('Sex', 'male'), ('Age', '30.0'), ('SibSp', '0'), ('Parch', '0'), ('Ticket', '28228'), ('Fare', '13.0'), ('Cabin', ''), ('Embarked', 'S')])\n",
            "OrderedDict([('PassengerId', '420'), ('Perished', '1'), ('Pclass', '3'), ('Name', 'Van Impe, Miss. Catharina'), ('Sex', 'female'), ('Age', '10.0'), ('SibSp', '0'), ('Parch', '2'), ('Ticket', '345773'), ('Fare', '24.15'), ('Cabin', ''), ('Embarked', 'S')])\n",
            "OrderedDict([('PassengerId', '421'), ('Perished', '1'), ('Pclass', '3'), ('Name', 'Gheorgheff, Mr. Stanio'), ('Sex', 'male'), ('Age', ''), ('SibSp', '0'), ('Parch', '0'), ('Ticket', '349254'), ('Fare', '7.8958'), ('Cabin', ''), ('Embarked', 'C')])\n",
            "OrderedDict([('PassengerId', '422'), ('Perished', '1'), ('Pclass', '3'), ('Name', 'Charters, Mr. David'), ('Sex', 'male'), ('Age', '21.0'), ('SibSp', '0'), ('Parch', '0'), ('Ticket', 'A/5. 13032'), ('Fare', '7.7333'), ('Cabin', ''), ('Embarked', 'Q')])\n",
            "OrderedDict([('PassengerId', '423'), ('Perished', '1'), ('Pclass', '3'), ('Name', 'Zimmerman, Mr. Leo'), ('Sex', 'male'), ('Age', '29.0'), ('SibSp', '0'), ('Parch', '0'), ('Ticket', '315082'), ('Fare', '7.875'), ('Cabin', ''), ('Embarked', 'S')])\n",
            "OrderedDict([('PassengerId', '424'), ('Perished', '1'), ('Pclass', '3'), ('Name', 'Danbom, Mrs. Ernst Gilbert (Anna Sigrid Maria Brogren)'), ('Sex', 'female'), ('Age', '28.0'), ('SibSp', '1'), ('Parch', '1'), ('Ticket', '347080'), ('Fare', '14.4'), ('Cabin', ''), ('Embarked', 'S')])\n",
            "OrderedDict([('PassengerId', '425'), ('Perished', '1'), ('Pclass', '3'), ('Name', 'Rosblom, Mr. Viktor Richard'), ('Sex', 'male'), ('Age', '18.0'), ('SibSp', '1'), ('Parch', '1'), ('Ticket', '370129'), ('Fare', '20.2125'), ('Cabin', ''), ('Embarked', 'S')])\n",
            "OrderedDict([('PassengerId', '426'), ('Perished', '1'), ('Pclass', '3'), ('Name', 'Wiseman, Mr. Phillippe'), ('Sex', 'male'), ('Age', ''), ('SibSp', '0'), ('Parch', '0'), ('Ticket', 'A/4. 34244'), ('Fare', '7.25'), ('Cabin', ''), ('Embarked', 'S')])\n",
            "OrderedDict([('PassengerId', '427'), ('Perished', '0'), ('Pclass', '2'), ('Name', 'Clarke, Mrs. Charles V (Ada Maria Winfield)'), ('Sex', 'female'), ('Age', '28.0'), ('SibSp', '1'), ('Parch', '0'), ('Ticket', '2003'), ('Fare', '26.0'), ('Cabin', ''), ('Embarked', 'S')])\n",
            "OrderedDict([('PassengerId', '428'), ('Perished', '0'), ('Pclass', '2'), ('Name', 'Phillips, Miss. Kate Florence (\"Mrs Kate Louise Phillips Marshall\")'), ('Sex', 'female'), ('Age', '19.0'), ('SibSp', '0'), ('Parch', '0'), ('Ticket', '250655'), ('Fare', '26.0'), ('Cabin', ''), ('Embarked', 'S')])\n",
            "OrderedDict([('PassengerId', '429'), ('Perished', '1'), ('Pclass', '3'), ('Name', 'Flynn, Mr. James'), ('Sex', 'male'), ('Age', ''), ('SibSp', '0'), ('Parch', '0'), ('Ticket', '364851'), ('Fare', '7.75'), ('Cabin', ''), ('Embarked', 'Q')])\n",
            "OrderedDict([('PassengerId', '430'), ('Perished', '0'), ('Pclass', '3'), ('Name', 'Pickard, Mr. Berk (Berk Trembisky)'), ('Sex', 'male'), ('Age', '32.0'), ('SibSp', '0'), ('Parch', '0'), ('Ticket', 'SOTON/O.Q. 392078'), ('Fare', '8.05'), ('Cabin', 'E10'), ('Embarked', 'S')])\n",
            "OrderedDict([('PassengerId', '431'), ('Perished', '0'), ('Pclass', '1'), ('Name', 'Bjornstrom-Steffansson, Mr. Mauritz Hakan'), ('Sex', 'male'), ('Age', '28.0'), ('SibSp', '0'), ('Parch', '0'), ('Ticket', '110564'), ('Fare', '26.55'), ('Cabin', 'C52'), ('Embarked', 'S')])\n",
            "OrderedDict([('PassengerId', '432'), ('Perished', '0'), ('Pclass', '3'), ('Name', 'Thorneycroft, Mrs. Percival (Florence Kate White)'), ('Sex', 'female'), ('Age', ''), ('SibSp', '1'), ('Parch', '0'), ('Ticket', '376564'), ('Fare', '16.1'), ('Cabin', ''), ('Embarked', 'S')])\n",
            "OrderedDict([('PassengerId', '433'), ('Perished', '0'), ('Pclass', '2'), ('Name', 'Louch, Mrs. Charles Alexander (Alice Adelaide Slow)'), ('Sex', 'female'), ('Age', '42.0'), ('SibSp', '1'), ('Parch', '0'), ('Ticket', 'SC/AH 3085'), ('Fare', '26.0'), ('Cabin', ''), ('Embarked', 'S')])\n",
            "OrderedDict([('PassengerId', '434'), ('Perished', '1'), ('Pclass', '3'), ('Name', 'Kallio, Mr. Nikolai Erland'), ('Sex', 'male'), ('Age', '17.0'), ('SibSp', '0'), ('Parch', '0'), ('Ticket', 'STON/O 2. 3101274'), ('Fare', '7.125'), ('Cabin', ''), ('Embarked', 'S')])\n",
            "OrderedDict([('PassengerId', '435'), ('Perished', '1'), ('Pclass', '1'), ('Name', 'Silvey, Mr. William Baird'), ('Sex', 'male'), ('Age', '50.0'), ('SibSp', '1'), ('Parch', '0'), ('Ticket', '13507'), ('Fare', '55.9'), ('Cabin', 'E44'), ('Embarked', 'S')])\n",
            "OrderedDict([('PassengerId', '436'), ('Perished', '0'), ('Pclass', '1'), ('Name', 'Carter, Miss. Lucile Polk'), ('Sex', 'female'), ('Age', '14.0'), ('SibSp', '1'), ('Parch', '2'), ('Ticket', '113760'), ('Fare', '120.0'), ('Cabin', 'B96 B98'), ('Embarked', 'S')])\n",
            "OrderedDict([('PassengerId', '437'), ('Perished', '1'), ('Pclass', '3'), ('Name', 'Ford, Miss. Doolina Margaret \"Daisy\"'), ('Sex', 'female'), ('Age', '21.0'), ('SibSp', '2'), ('Parch', '2'), ('Ticket', 'W./C. 6608'), ('Fare', '34.375'), ('Cabin', ''), ('Embarked', 'S')])\n",
            "OrderedDict([('PassengerId', '438'), ('Perished', '0'), ('Pclass', '2'), ('Name', 'Richards, Mrs. Sidney (Emily Hocking)'), ('Sex', 'female'), ('Age', '24.0'), ('SibSp', '2'), ('Parch', '3'), ('Ticket', '29106'), ('Fare', '18.75'), ('Cabin', ''), ('Embarked', 'S')])\n",
            "OrderedDict([('PassengerId', '439'), ('Perished', '1'), ('Pclass', '1'), ('Name', 'Fortune, Mr. Mark'), ('Sex', 'male'), ('Age', '64.0'), ('SibSp', '1'), ('Parch', '4'), ('Ticket', '19950'), ('Fare', '263.0'), ('Cabin', 'C23 C25 C27'), ('Embarked', 'S')])\n",
            "OrderedDict([('PassengerId', '440'), ('Perished', '1'), ('Pclass', '2'), ('Name', 'Kvillner, Mr. Johan Henrik Johannesson'), ('Sex', 'male'), ('Age', '31.0'), ('SibSp', '0'), ('Parch', '0'), ('Ticket', 'C.A. 18723'), ('Fare', '10.5'), ('Cabin', ''), ('Embarked', 'S')])\n",
            "OrderedDict([('PassengerId', '441'), ('Perished', '0'), ('Pclass', '2'), ('Name', 'Hart, Mrs. Benjamin (Esther Ada Bloomfield)'), ('Sex', 'female'), ('Age', '45.0'), ('SibSp', '1'), ('Parch', '1'), ('Ticket', 'F.C.C. 13529'), ('Fare', '26.25'), ('Cabin', ''), ('Embarked', 'S')])\n",
            "OrderedDict([('PassengerId', '442'), ('Perished', '1'), ('Pclass', '3'), ('Name', 'Hampe, Mr. Leon'), ('Sex', 'male'), ('Age', '20.0'), ('SibSp', '0'), ('Parch', '0'), ('Ticket', '345769'), ('Fare', '9.5'), ('Cabin', ''), ('Embarked', 'S')])\n",
            "OrderedDict([('PassengerId', '443'), ('Perished', '1'), ('Pclass', '3'), ('Name', 'Petterson, Mr. Johan Emil'), ('Sex', 'male'), ('Age', '25.0'), ('SibSp', '1'), ('Parch', '0'), ('Ticket', '347076'), ('Fare', '7.775'), ('Cabin', ''), ('Embarked', 'S')])\n",
            "OrderedDict([('PassengerId', '444'), ('Perished', '0'), ('Pclass', '2'), ('Name', 'Reynaldo, Ms. Encarnacion'), ('Sex', 'female'), ('Age', '28.0'), ('SibSp', '0'), ('Parch', '0'), ('Ticket', '230434'), ('Fare', '13.0'), ('Cabin', ''), ('Embarked', 'S')])\n",
            "OrderedDict([('PassengerId', '445'), ('Perished', '0'), ('Pclass', '3'), ('Name', 'Johannesen-Bratthammer, Mr. Bernt'), ('Sex', 'male'), ('Age', ''), ('SibSp', '0'), ('Parch', '0'), ('Ticket', '65306'), ('Fare', '8.1125'), ('Cabin', ''), ('Embarked', 'S')])\n",
            "OrderedDict([('PassengerId', '446'), ('Perished', '0'), ('Pclass', '1'), ('Name', 'Dodge, Master. Washington'), ('Sex', 'male'), ('Age', '4.0'), ('SibSp', '0'), ('Parch', '2'), ('Ticket', '33638'), ('Fare', '81.8583'), ('Cabin', 'A34'), ('Embarked', 'S')])\n",
            "OrderedDict([('PassengerId', '447'), ('Perished', '0'), ('Pclass', '2'), ('Name', 'Mellinger, Miss. Madeleine Violet'), ('Sex', 'female'), ('Age', '13.0'), ('SibSp', '0'), ('Parch', '1'), ('Ticket', '250644'), ('Fare', '19.5'), ('Cabin', ''), ('Embarked', 'S')])\n",
            "OrderedDict([('PassengerId', '448'), ('Perished', '0'), ('Pclass', '1'), ('Name', 'Seward, Mr. Frederic Kimber'), ('Sex', 'male'), ('Age', '34.0'), ('SibSp', '0'), ('Parch', '0'), ('Ticket', '113794'), ('Fare', '26.55'), ('Cabin', ''), ('Embarked', 'S')])\n",
            "OrderedDict([('PassengerId', '449'), ('Perished', '0'), ('Pclass', '3'), ('Name', 'Baclini, Miss. Marie Catherine'), ('Sex', 'female'), ('Age', '5.0'), ('SibSp', '2'), ('Parch', '1'), ('Ticket', '2666'), ('Fare', '19.2583'), ('Cabin', ''), ('Embarked', 'C')])\n",
            "OrderedDict([('PassengerId', '450'), ('Perished', '0'), ('Pclass', '1'), ('Name', 'Peuchen, Major. Arthur Godfrey'), ('Sex', 'male'), ('Age', '52.0'), ('SibSp', '0'), ('Parch', '0'), ('Ticket', '113786'), ('Fare', '30.5'), ('Cabin', 'C104'), ('Embarked', 'S')])\n",
            "OrderedDict([('PassengerId', '451'), ('Perished', '1'), ('Pclass', '2'), ('Name', 'West, Mr. Edwy Arthur'), ('Sex', 'male'), ('Age', '36.0'), ('SibSp', '1'), ('Parch', '2'), ('Ticket', 'C.A. 34651'), ('Fare', '27.75'), ('Cabin', ''), ('Embarked', 'S')])\n",
            "OrderedDict([('PassengerId', '452'), ('Perished', '1'), ('Pclass', '3'), ('Name', 'Hagland, Mr. Ingvald Olai Olsen'), ('Sex', 'male'), ('Age', ''), ('SibSp', '1'), ('Parch', '0'), ('Ticket', '65303'), ('Fare', '19.9667'), ('Cabin', ''), ('Embarked', 'S')])\n",
            "OrderedDict([('PassengerId', '453'), ('Perished', '1'), ('Pclass', '1'), ('Name', 'Foreman, Mr. Benjamin Laventall'), ('Sex', 'male'), ('Age', '30.0'), ('SibSp', '0'), ('Parch', '0'), ('Ticket', '113051'), ('Fare', '27.75'), ('Cabin', 'C111'), ('Embarked', 'C')])\n",
            "OrderedDict([('PassengerId', '454'), ('Perished', '0'), ('Pclass', '1'), ('Name', 'Goldenberg, Mr. Samuel L'), ('Sex', 'male'), ('Age', '49.0'), ('SibSp', '1'), ('Parch', '0'), ('Ticket', '17453'), ('Fare', '89.1042'), ('Cabin', 'C92'), ('Embarked', 'C')])\n",
            "OrderedDict([('PassengerId', '455'), ('Perished', '1'), ('Pclass', '3'), ('Name', 'Peduzzi, Mr. Joseph'), ('Sex', 'male'), ('Age', ''), ('SibSp', '0'), ('Parch', '0'), ('Ticket', 'A/5 2817'), ('Fare', '8.05'), ('Cabin', ''), ('Embarked', 'S')])\n",
            "OrderedDict([('PassengerId', '456'), ('Perished', '0'), ('Pclass', '3'), ('Name', 'Jalsevac, Mr. Ivan'), ('Sex', 'male'), ('Age', '29.0'), ('SibSp', '0'), ('Parch', '0'), ('Ticket', '349240'), ('Fare', '7.8958'), ('Cabin', ''), ('Embarked', 'C')])\n",
            "OrderedDict([('PassengerId', '457'), ('Perished', '1'), ('Pclass', '1'), ('Name', 'Millet, Mr. Francis Davis'), ('Sex', 'male'), ('Age', '65.0'), ('SibSp', '0'), ('Parch', '0'), ('Ticket', '13509'), ('Fare', '26.55'), ('Cabin', 'E38'), ('Embarked', 'S')])\n",
            "OrderedDict([('PassengerId', '458'), ('Perished', '0'), ('Pclass', '1'), ('Name', 'Kenyon, Mrs. Frederick R (Marion)'), ('Sex', 'female'), ('Age', ''), ('SibSp', '1'), ('Parch', '0'), ('Ticket', '17464'), ('Fare', '51.8625'), ('Cabin', 'D21'), ('Embarked', 'S')])\n",
            "OrderedDict([('PassengerId', '459'), ('Perished', '0'), ('Pclass', '2'), ('Name', 'Toomey, Miss. Ellen'), ('Sex', 'female'), ('Age', '50.0'), ('SibSp', '0'), ('Parch', '0'), ('Ticket', 'F.C.C. 13531'), ('Fare', '10.5'), ('Cabin', ''), ('Embarked', 'S')])\n",
            "OrderedDict([('PassengerId', '460'), ('Perished', '1'), ('Pclass', '3'), ('Name', \"O'Connor, Mr. Maurice\"), ('Sex', 'male'), ('Age', ''), ('SibSp', '0'), ('Parch', '0'), ('Ticket', '371060'), ('Fare', '7.75'), ('Cabin', ''), ('Embarked', 'Q')])\n",
            "OrderedDict([('PassengerId', '461'), ('Perished', '0'), ('Pclass', '1'), ('Name', 'Anderson, Mr. Harry'), ('Sex', 'male'), ('Age', '48.0'), ('SibSp', '0'), ('Parch', '0'), ('Ticket', '19952'), ('Fare', '26.55'), ('Cabin', 'E12'), ('Embarked', 'S')])\n",
            "OrderedDict([('PassengerId', '462'), ('Perished', '1'), ('Pclass', '3'), ('Name', 'Morley, Mr. William'), ('Sex', 'male'), ('Age', '34.0'), ('SibSp', '0'), ('Parch', '0'), ('Ticket', '364506'), ('Fare', '8.05'), ('Cabin', ''), ('Embarked', 'S')])\n",
            "OrderedDict([('PassengerId', '463'), ('Perished', '1'), ('Pclass', '1'), ('Name', 'Gee, Mr. Arthur H'), ('Sex', 'male'), ('Age', '47.0'), ('SibSp', '0'), ('Parch', '0'), ('Ticket', '111320'), ('Fare', '38.5'), ('Cabin', 'E63'), ('Embarked', 'S')])\n",
            "OrderedDict([('PassengerId', '464'), ('Perished', '1'), ('Pclass', '2'), ('Name', 'Milling, Mr. Jacob Christian'), ('Sex', 'male'), ('Age', '48.0'), ('SibSp', '0'), ('Parch', '0'), ('Ticket', '234360'), ('Fare', '13.0'), ('Cabin', ''), ('Embarked', 'S')])\n",
            "OrderedDict([('PassengerId', '465'), ('Perished', '1'), ('Pclass', '3'), ('Name', 'Maisner, Mr. Simon'), ('Sex', 'male'), ('Age', ''), ('SibSp', '0'), ('Parch', '0'), ('Ticket', 'A/S 2816'), ('Fare', '8.05'), ('Cabin', ''), ('Embarked', 'S')])\n",
            "OrderedDict([('PassengerId', '466'), ('Perished', '1'), ('Pclass', '3'), ('Name', 'Goncalves, Mr. Manuel Estanslas'), ('Sex', 'male'), ('Age', '38.0'), ('SibSp', '0'), ('Parch', '0'), ('Ticket', 'SOTON/O.Q. 3101306'), ('Fare', '7.05'), ('Cabin', ''), ('Embarked', 'S')])\n",
            "OrderedDict([('PassengerId', '467'), ('Perished', '1'), ('Pclass', '2'), ('Name', 'Campbell, Mr. William'), ('Sex', 'male'), ('Age', ''), ('SibSp', '0'), ('Parch', '0'), ('Ticket', '239853'), ('Fare', '0.0'), ('Cabin', ''), ('Embarked', 'S')])\n",
            "OrderedDict([('PassengerId', '468'), ('Perished', '1'), ('Pclass', '1'), ('Name', 'Smart, Mr. John Montgomery'), ('Sex', 'male'), ('Age', '56.0'), ('SibSp', '0'), ('Parch', '0'), ('Ticket', '113792'), ('Fare', '26.55'), ('Cabin', ''), ('Embarked', 'S')])\n",
            "OrderedDict([('PassengerId', '469'), ('Perished', '1'), ('Pclass', '3'), ('Name', 'Scanlan, Mr. James'), ('Sex', 'male'), ('Age', ''), ('SibSp', '0'), ('Parch', '0'), ('Ticket', '36209'), ('Fare', '7.725'), ('Cabin', ''), ('Embarked', 'Q')])\n",
            "OrderedDict([('PassengerId', '470'), ('Perished', '0'), ('Pclass', '3'), ('Name', 'Baclini, Miss. Helene Barbara'), ('Sex', 'female'), ('Age', '0.75'), ('SibSp', '2'), ('Parch', '1'), ('Ticket', '2666'), ('Fare', '19.2583'), ('Cabin', ''), ('Embarked', 'C')])\n",
            "OrderedDict([('PassengerId', '471'), ('Perished', '1'), ('Pclass', '3'), ('Name', 'Keefe, Mr. Arthur'), ('Sex', 'male'), ('Age', ''), ('SibSp', '0'), ('Parch', '0'), ('Ticket', '323592'), ('Fare', '7.25'), ('Cabin', ''), ('Embarked', 'S')])\n",
            "OrderedDict([('PassengerId', '472'), ('Perished', '1'), ('Pclass', '3'), ('Name', 'Cacic, Mr. Luka'), ('Sex', 'male'), ('Age', '38.0'), ('SibSp', '0'), ('Parch', '0'), ('Ticket', '315089'), ('Fare', '8.6625'), ('Cabin', ''), ('Embarked', 'S')])\n",
            "OrderedDict([('PassengerId', '473'), ('Perished', '0'), ('Pclass', '2'), ('Name', 'West, Mrs. Edwy Arthur (Ada Mary Worth)'), ('Sex', 'female'), ('Age', '33.0'), ('SibSp', '1'), ('Parch', '2'), ('Ticket', 'C.A. 34651'), ('Fare', '27.75'), ('Cabin', ''), ('Embarked', 'S')])\n",
            "OrderedDict([('PassengerId', '474'), ('Perished', '0'), ('Pclass', '2'), ('Name', 'Jerwan, Mrs. Amin S (Marie Marthe Thuillard)'), ('Sex', 'female'), ('Age', '23.0'), ('SibSp', '0'), ('Parch', '0'), ('Ticket', 'SC/AH Basle 541'), ('Fare', '13.7917'), ('Cabin', 'D'), ('Embarked', 'C')])\n",
            "OrderedDict([('PassengerId', '475'), ('Perished', '1'), ('Pclass', '3'), ('Name', 'Strandberg, Miss. Ida Sofia'), ('Sex', 'female'), ('Age', '22.0'), ('SibSp', '0'), ('Parch', '0'), ('Ticket', '7553'), ('Fare', '9.8375'), ('Cabin', ''), ('Embarked', 'S')])\n",
            "OrderedDict([('PassengerId', '476'), ('Perished', '1'), ('Pclass', '1'), ('Name', 'Clifford, Mr. George Quincy'), ('Sex', 'male'), ('Age', ''), ('SibSp', '0'), ('Parch', '0'), ('Ticket', '110465'), ('Fare', '52.0'), ('Cabin', 'A14'), ('Embarked', 'S')])\n",
            "OrderedDict([('PassengerId', '477'), ('Perished', '1'), ('Pclass', '2'), ('Name', 'Renouf, Mr. Peter Henry'), ('Sex', 'male'), ('Age', '34.0'), ('SibSp', '1'), ('Parch', '0'), ('Ticket', '31027'), ('Fare', '21.0'), ('Cabin', ''), ('Embarked', 'S')])\n",
            "OrderedDict([('PassengerId', '478'), ('Perished', '1'), ('Pclass', '3'), ('Name', 'Braund, Mr. Lewis Richard'), ('Sex', 'male'), ('Age', '29.0'), ('SibSp', '1'), ('Parch', '0'), ('Ticket', '3460'), ('Fare', '7.0458'), ('Cabin', ''), ('Embarked', 'S')])\n",
            "OrderedDict([('PassengerId', '479'), ('Perished', '1'), ('Pclass', '3'), ('Name', 'Karlsson, Mr. Nils August'), ('Sex', 'male'), ('Age', '22.0'), ('SibSp', '0'), ('Parch', '0'), ('Ticket', '350060'), ('Fare', '7.5208'), ('Cabin', ''), ('Embarked', 'S')])\n",
            "OrderedDict([('PassengerId', '480'), ('Perished', '0'), ('Pclass', '3'), ('Name', 'Hirvonen, Miss. Hildur E'), ('Sex', 'female'), ('Age', '2.0'), ('SibSp', '0'), ('Parch', '1'), ('Ticket', '3101298'), ('Fare', '12.2875'), ('Cabin', ''), ('Embarked', 'S')])\n",
            "OrderedDict([('PassengerId', '481'), ('Perished', '1'), ('Pclass', '3'), ('Name', 'Goodwin, Master. Harold Victor'), ('Sex', 'male'), ('Age', '9.0'), ('SibSp', '5'), ('Parch', '2'), ('Ticket', 'CA 2144'), ('Fare', '46.9'), ('Cabin', ''), ('Embarked', 'S')])\n",
            "OrderedDict([('PassengerId', '482'), ('Perished', '1'), ('Pclass', '2'), ('Name', 'Frost, Mr. Anthony Wood \"Archie\"'), ('Sex', 'male'), ('Age', ''), ('SibSp', '0'), ('Parch', '0'), ('Ticket', '239854'), ('Fare', '0.0'), ('Cabin', ''), ('Embarked', 'S')])\n",
            "OrderedDict([('PassengerId', '483'), ('Perished', '1'), ('Pclass', '3'), ('Name', 'Rouse, Mr. Richard Henry'), ('Sex', 'male'), ('Age', '50.0'), ('SibSp', '0'), ('Parch', '0'), ('Ticket', 'A/5 3594'), ('Fare', '8.05'), ('Cabin', ''), ('Embarked', 'S')])\n",
            "OrderedDict([('PassengerId', '484'), ('Perished', '0'), ('Pclass', '3'), ('Name', 'Turkula, Mrs. (Hedwig)'), ('Sex', 'female'), ('Age', '63.0'), ('SibSp', '0'), ('Parch', '0'), ('Ticket', '4134'), ('Fare', '9.5875'), ('Cabin', ''), ('Embarked', 'S')])\n",
            "OrderedDict([('PassengerId', '485'), ('Perished', '0'), ('Pclass', '1'), ('Name', 'Bishop, Mr. Dickinson H'), ('Sex', 'male'), ('Age', '25.0'), ('SibSp', '1'), ('Parch', '0'), ('Ticket', '11967'), ('Fare', '91.0792'), ('Cabin', 'B49'), ('Embarked', 'C')])\n",
            "OrderedDict([('PassengerId', '486'), ('Perished', '1'), ('Pclass', '3'), ('Name', 'Lefebre, Miss. Jeannie'), ('Sex', 'female'), ('Age', ''), ('SibSp', '3'), ('Parch', '1'), ('Ticket', '4133'), ('Fare', '25.4667'), ('Cabin', ''), ('Embarked', 'S')])\n",
            "OrderedDict([('PassengerId', '487'), ('Perished', '0'), ('Pclass', '1'), ('Name', 'Hoyt, Mrs. Frederick Maxfield (Jane Anne Forby)'), ('Sex', 'female'), ('Age', '35.0'), ('SibSp', '1'), ('Parch', '0'), ('Ticket', '19943'), ('Fare', '90.0'), ('Cabin', 'C93'), ('Embarked', 'S')])\n",
            "OrderedDict([('PassengerId', '488'), ('Perished', '1'), ('Pclass', '1'), ('Name', 'Kent, Mr. Edward Austin'), ('Sex', 'male'), ('Age', '58.0'), ('SibSp', '0'), ('Parch', '0'), ('Ticket', '11771'), ('Fare', '29.7'), ('Cabin', 'B37'), ('Embarked', 'C')])\n",
            "OrderedDict([('PassengerId', '489'), ('Perished', '1'), ('Pclass', '3'), ('Name', 'Somerton, Mr. Francis William'), ('Sex', 'male'), ('Age', '30.0'), ('SibSp', '0'), ('Parch', '0'), ('Ticket', 'A.5. 18509'), ('Fare', '8.05'), ('Cabin', ''), ('Embarked', 'S')])\n",
            "OrderedDict([('PassengerId', '490'), ('Perished', '0'), ('Pclass', '3'), ('Name', 'Coutts, Master. Eden Leslie \"Neville\"'), ('Sex', 'male'), ('Age', '9.0'), ('SibSp', '1'), ('Parch', '1'), ('Ticket', 'C.A. 37671'), ('Fare', '15.9'), ('Cabin', ''), ('Embarked', 'S')])\n",
            "OrderedDict([('PassengerId', '491'), ('Perished', '1'), ('Pclass', '3'), ('Name', 'Hagland, Mr. Konrad Mathias Reiersen'), ('Sex', 'male'), ('Age', ''), ('SibSp', '1'), ('Parch', '0'), ('Ticket', '65304'), ('Fare', '19.9667'), ('Cabin', ''), ('Embarked', 'S')])\n",
            "OrderedDict([('PassengerId', '492'), ('Perished', '1'), ('Pclass', '3'), ('Name', 'Windelov, Mr. Einar'), ('Sex', 'male'), ('Age', '21.0'), ('SibSp', '0'), ('Parch', '0'), ('Ticket', 'SOTON/OQ 3101317'), ('Fare', '7.25'), ('Cabin', ''), ('Embarked', 'S')])\n",
            "OrderedDict([('PassengerId', '493'), ('Perished', '1'), ('Pclass', '1'), ('Name', 'Molson, Mr. Harry Markland'), ('Sex', 'male'), ('Age', '55.0'), ('SibSp', '0'), ('Parch', '0'), ('Ticket', '113787'), ('Fare', '30.5'), ('Cabin', 'C30'), ('Embarked', 'S')])\n",
            "OrderedDict([('PassengerId', '494'), ('Perished', '1'), ('Pclass', '1'), ('Name', 'Artagaveytia, Mr. Ramon'), ('Sex', 'male'), ('Age', '71.0'), ('SibSp', '0'), ('Parch', '0'), ('Ticket', 'PC 17609'), ('Fare', '49.5042'), ('Cabin', ''), ('Embarked', 'C')])\n",
            "OrderedDict([('PassengerId', '495'), ('Perished', '1'), ('Pclass', '3'), ('Name', 'Stanley, Mr. Edward Roland'), ('Sex', 'male'), ('Age', '21.0'), ('SibSp', '0'), ('Parch', '0'), ('Ticket', 'A/4 45380'), ('Fare', '8.05'), ('Cabin', ''), ('Embarked', 'S')])\n",
            "OrderedDict([('PassengerId', '496'), ('Perished', '1'), ('Pclass', '3'), ('Name', 'Yousseff, Mr. Gerious'), ('Sex', 'male'), ('Age', ''), ('SibSp', '0'), ('Parch', '0'), ('Ticket', '2627'), ('Fare', '14.4583'), ('Cabin', ''), ('Embarked', 'C')])\n",
            "OrderedDict([('PassengerId', '497'), ('Perished', '0'), ('Pclass', '1'), ('Name', 'Eustis, Miss. Elizabeth Mussey'), ('Sex', 'female'), ('Age', '54.0'), ('SibSp', '1'), ('Parch', '0'), ('Ticket', '36947'), ('Fare', '78.2667'), ('Cabin', 'D20'), ('Embarked', 'C')])\n",
            "OrderedDict([('PassengerId', '498'), ('Perished', '1'), ('Pclass', '3'), ('Name', 'Shellard, Mr. Frederick William'), ('Sex', 'male'), ('Age', ''), ('SibSp', '0'), ('Parch', '0'), ('Ticket', 'C.A. 6212'), ('Fare', '15.1'), ('Cabin', ''), ('Embarked', 'S')])\n",
            "OrderedDict([('PassengerId', '499'), ('Perished', '1'), ('Pclass', '1'), ('Name', 'Allison, Mrs. Hudson J C (Bessie Waldo Daniels)'), ('Sex', 'female'), ('Age', '25.0'), ('SibSp', '1'), ('Parch', '2'), ('Ticket', '113781'), ('Fare', '151.55'), ('Cabin', 'C22 C26'), ('Embarked', 'S')])\n",
            "OrderedDict([('PassengerId', '500'), ('Perished', '1'), ('Pclass', '3'), ('Name', 'Svensson, Mr. Olof'), ('Sex', 'male'), ('Age', '24.0'), ('SibSp', '0'), ('Parch', '0'), ('Ticket', '350035'), ('Fare', '7.7958'), ('Cabin', ''), ('Embarked', 'S')])\n",
            "OrderedDict([('PassengerId', '501'), ('Perished', '1'), ('Pclass', '3'), ('Name', 'Calic, Mr. Petar'), ('Sex', 'male'), ('Age', '17.0'), ('SibSp', '0'), ('Parch', '0'), ('Ticket', '315086'), ('Fare', '8.6625'), ('Cabin', ''), ('Embarked', 'S')])\n",
            "OrderedDict([('PassengerId', '502'), ('Perished', '1'), ('Pclass', '3'), ('Name', 'Canavan, Miss. Mary'), ('Sex', 'female'), ('Age', '21.0'), ('SibSp', '0'), ('Parch', '0'), ('Ticket', '364846'), ('Fare', '7.75'), ('Cabin', ''), ('Embarked', 'Q')])\n",
            "OrderedDict([('PassengerId', '503'), ('Perished', '1'), ('Pclass', '3'), ('Name', \"O'Sullivan, Miss. Bridget Mary\"), ('Sex', 'female'), ('Age', ''), ('SibSp', '0'), ('Parch', '0'), ('Ticket', '330909'), ('Fare', '7.6292'), ('Cabin', ''), ('Embarked', 'Q')])\n",
            "OrderedDict([('PassengerId', '504'), ('Perished', '1'), ('Pclass', '3'), ('Name', 'Laitinen, Miss. Kristina Sofia'), ('Sex', 'female'), ('Age', '37.0'), ('SibSp', '0'), ('Parch', '0'), ('Ticket', '4135'), ('Fare', '9.5875'), ('Cabin', ''), ('Embarked', 'S')])\n",
            "OrderedDict([('PassengerId', '505'), ('Perished', '0'), ('Pclass', '1'), ('Name', 'Maioni, Miss. Roberta'), ('Sex', 'female'), ('Age', '16.0'), ('SibSp', '0'), ('Parch', '0'), ('Ticket', '110152'), ('Fare', '86.5'), ('Cabin', 'B79'), ('Embarked', 'S')])\n",
            "OrderedDict([('PassengerId', '506'), ('Perished', '1'), ('Pclass', '1'), ('Name', 'Penasco y Castellana, Mr. Victor de Satode'), ('Sex', 'male'), ('Age', '18.0'), ('SibSp', '1'), ('Parch', '0'), ('Ticket', 'PC 17758'), ('Fare', '108.9'), ('Cabin', 'C65'), ('Embarked', 'C')])\n",
            "OrderedDict([('PassengerId', '507'), ('Perished', '0'), ('Pclass', '2'), ('Name', 'Quick, Mrs. Frederick Charles (Jane Richards)'), ('Sex', 'female'), ('Age', '33.0'), ('SibSp', '0'), ('Parch', '2'), ('Ticket', '26360'), ('Fare', '26.0'), ('Cabin', ''), ('Embarked', 'S')])\n",
            "OrderedDict([('PassengerId', '508'), ('Perished', '0'), ('Pclass', '1'), ('Name', 'Bradley, Mr. George (\"George Arthur Brayton\")'), ('Sex', 'male'), ('Age', ''), ('SibSp', '0'), ('Parch', '0'), ('Ticket', '111427'), ('Fare', '26.55'), ('Cabin', ''), ('Embarked', 'S')])\n",
            "OrderedDict([('PassengerId', '509'), ('Perished', '1'), ('Pclass', '3'), ('Name', 'Olsen, Mr. Henry Margido'), ('Sex', 'male'), ('Age', '28.0'), ('SibSp', '0'), ('Parch', '0'), ('Ticket', 'C 4001'), ('Fare', '22.525'), ('Cabin', ''), ('Embarked', 'S')])\n",
            "OrderedDict([('PassengerId', '510'), ('Perished', '0'), ('Pclass', '3'), ('Name', 'Lang, Mr. Fang'), ('Sex', 'male'), ('Age', '26.0'), ('SibSp', '0'), ('Parch', '0'), ('Ticket', '1601'), ('Fare', '56.4958'), ('Cabin', ''), ('Embarked', 'S')])\n",
            "OrderedDict([('PassengerId', '511'), ('Perished', '0'), ('Pclass', '3'), ('Name', 'Daly, Mr. Eugene Patrick'), ('Sex', 'male'), ('Age', '29.0'), ('SibSp', '0'), ('Parch', '0'), ('Ticket', '382651'), ('Fare', '7.75'), ('Cabin', ''), ('Embarked', 'Q')])\n",
            "OrderedDict([('PassengerId', '512'), ('Perished', '1'), ('Pclass', '3'), ('Name', 'Webber, Mr. James'), ('Sex', 'male'), ('Age', ''), ('SibSp', '0'), ('Parch', '0'), ('Ticket', 'SOTON/OQ 3101316'), ('Fare', '8.05'), ('Cabin', ''), ('Embarked', 'S')])\n",
            "OrderedDict([('PassengerId', '513'), ('Perished', '0'), ('Pclass', '1'), ('Name', 'McGough, Mr. James Robert'), ('Sex', 'male'), ('Age', '36.0'), ('SibSp', '0'), ('Parch', '0'), ('Ticket', 'PC 17473'), ('Fare', '26.2875'), ('Cabin', 'E25'), ('Embarked', 'S')])\n",
            "OrderedDict([('PassengerId', '514'), ('Perished', '0'), ('Pclass', '1'), ('Name', 'Rothschild, Mrs. Martin (Elizabeth L. Barrett)'), ('Sex', 'female'), ('Age', '54.0'), ('SibSp', '1'), ('Parch', '0'), ('Ticket', 'PC 17603'), ('Fare', '59.4'), ('Cabin', ''), ('Embarked', 'C')])\n",
            "OrderedDict([('PassengerId', '515'), ('Perished', '1'), ('Pclass', '3'), ('Name', 'Coleff, Mr. Satio'), ('Sex', 'male'), ('Age', '24.0'), ('SibSp', '0'), ('Parch', '0'), ('Ticket', '349209'), ('Fare', '7.4958'), ('Cabin', ''), ('Embarked', 'S')])\n",
            "OrderedDict([('PassengerId', '516'), ('Perished', '1'), ('Pclass', '1'), ('Name', 'Walker, Mr. William Anderson'), ('Sex', 'male'), ('Age', '47.0'), ('SibSp', '0'), ('Parch', '0'), ('Ticket', '36967'), ('Fare', '34.0208'), ('Cabin', 'D46'), ('Embarked', 'S')])\n",
            "OrderedDict([('PassengerId', '517'), ('Perished', '0'), ('Pclass', '2'), ('Name', 'Lemore, Mrs. (Amelia Milley)'), ('Sex', 'female'), ('Age', '34.0'), ('SibSp', '0'), ('Parch', '0'), ('Ticket', 'C.A. 34260'), ('Fare', '10.5'), ('Cabin', 'F33'), ('Embarked', 'S')])\n",
            "OrderedDict([('PassengerId', '518'), ('Perished', '1'), ('Pclass', '3'), ('Name', 'Ryan, Mr. Patrick'), ('Sex', 'male'), ('Age', ''), ('SibSp', '0'), ('Parch', '0'), ('Ticket', '371110'), ('Fare', '24.15'), ('Cabin', ''), ('Embarked', 'Q')])\n",
            "OrderedDict([('PassengerId', '519'), ('Perished', '0'), ('Pclass', '2'), ('Name', 'Angle, Mrs. William A (Florence \"Mary\" Agnes Hughes)'), ('Sex', 'female'), ('Age', '36.0'), ('SibSp', '1'), ('Parch', '0'), ('Ticket', '226875'), ('Fare', '26.0'), ('Cabin', ''), ('Embarked', 'S')])\n",
            "OrderedDict([('PassengerId', '520'), ('Perished', '1'), ('Pclass', '3'), ('Name', 'Pavlovic, Mr. Stefo'), ('Sex', 'male'), ('Age', '32.0'), ('SibSp', '0'), ('Parch', '0'), ('Ticket', '349242'), ('Fare', '7.8958'), ('Cabin', ''), ('Embarked', 'S')])\n",
            "OrderedDict([('PassengerId', '521'), ('Perished', '0'), ('Pclass', '1'), ('Name', 'Perreault, Miss. Anne'), ('Sex', 'female'), ('Age', '30.0'), ('SibSp', '0'), ('Parch', '0'), ('Ticket', '12749'), ('Fare', '93.5'), ('Cabin', 'B73'), ('Embarked', 'S')])\n",
            "OrderedDict([('PassengerId', '522'), ('Perished', '1'), ('Pclass', '3'), ('Name', 'Vovk, Mr. Janko'), ('Sex', 'male'), ('Age', '22.0'), ('SibSp', '0'), ('Parch', '0'), ('Ticket', '349252'), ('Fare', '7.8958'), ('Cabin', ''), ('Embarked', 'S')])\n",
            "OrderedDict([('PassengerId', '523'), ('Perished', '1'), ('Pclass', '3'), ('Name', 'Lahoud, Mr. Sarkis'), ('Sex', 'male'), ('Age', ''), ('SibSp', '0'), ('Parch', '0'), ('Ticket', '2624'), ('Fare', '7.225'), ('Cabin', ''), ('Embarked', 'C')])\n",
            "OrderedDict([('PassengerId', '524'), ('Perished', '0'), ('Pclass', '1'), ('Name', 'Hippach, Mrs. Louis Albert (Ida Sophia Fischer)'), ('Sex', 'female'), ('Age', '44.0'), ('SibSp', '0'), ('Parch', '1'), ('Ticket', '111361'), ('Fare', '57.9792'), ('Cabin', 'B18'), ('Embarked', 'C')])\n",
            "OrderedDict([('PassengerId', '525'), ('Perished', '1'), ('Pclass', '3'), ('Name', 'Kassem, Mr. Fared'), ('Sex', 'male'), ('Age', ''), ('SibSp', '0'), ('Parch', '0'), ('Ticket', '2700'), ('Fare', '7.2292'), ('Cabin', ''), ('Embarked', 'C')])\n",
            "OrderedDict([('PassengerId', '526'), ('Perished', '1'), ('Pclass', '3'), ('Name', 'Farrell, Mr. James'), ('Sex', 'male'), ('Age', '40.5'), ('SibSp', '0'), ('Parch', '0'), ('Ticket', '367232'), ('Fare', '7.75'), ('Cabin', ''), ('Embarked', 'Q')])\n",
            "OrderedDict([('PassengerId', '527'), ('Perished', '0'), ('Pclass', '2'), ('Name', 'Ridsdale, Miss. Lucy'), ('Sex', 'female'), ('Age', '50.0'), ('SibSp', '0'), ('Parch', '0'), ('Ticket', 'W./C. 14258'), ('Fare', '10.5'), ('Cabin', ''), ('Embarked', 'S')])\n",
            "OrderedDict([('PassengerId', '528'), ('Perished', '1'), ('Pclass', '1'), ('Name', 'Farthing, Mr. John'), ('Sex', 'male'), ('Age', ''), ('SibSp', '0'), ('Parch', '0'), ('Ticket', 'PC 17483'), ('Fare', '221.7792'), ('Cabin', 'C95'), ('Embarked', 'S')])\n",
            "OrderedDict([('PassengerId', '529'), ('Perished', '1'), ('Pclass', '3'), ('Name', 'Salonen, Mr. Johan Werner'), ('Sex', 'male'), ('Age', '39.0'), ('SibSp', '0'), ('Parch', '0'), ('Ticket', '3101296'), ('Fare', '7.925'), ('Cabin', ''), ('Embarked', 'S')])\n",
            "OrderedDict([('PassengerId', '530'), ('Perished', '1'), ('Pclass', '2'), ('Name', 'Hocking, Mr. Richard George'), ('Sex', 'male'), ('Age', '23.0'), ('SibSp', '2'), ('Parch', '1'), ('Ticket', '29104'), ('Fare', '11.5'), ('Cabin', ''), ('Embarked', 'S')])\n",
            "OrderedDict([('PassengerId', '531'), ('Perished', '0'), ('Pclass', '2'), ('Name', 'Quick, Miss. Phyllis May'), ('Sex', 'female'), ('Age', '2.0'), ('SibSp', '1'), ('Parch', '1'), ('Ticket', '26360'), ('Fare', '26.0'), ('Cabin', ''), ('Embarked', 'S')])\n",
            "OrderedDict([('PassengerId', '532'), ('Perished', '1'), ('Pclass', '3'), ('Name', 'Toufik, Mr. Nakli'), ('Sex', 'male'), ('Age', ''), ('SibSp', '0'), ('Parch', '0'), ('Ticket', '2641'), ('Fare', '7.2292'), ('Cabin', ''), ('Embarked', 'C')])\n",
            "OrderedDict([('PassengerId', '533'), ('Perished', '1'), ('Pclass', '3'), ('Name', 'Elias, Mr. Joseph Jr'), ('Sex', 'male'), ('Age', '17.0'), ('SibSp', '1'), ('Parch', '1'), ('Ticket', '2690'), ('Fare', '7.2292'), ('Cabin', ''), ('Embarked', 'C')])\n",
            "OrderedDict([('PassengerId', '534'), ('Perished', '0'), ('Pclass', '3'), ('Name', 'Peter, Mrs. Catherine (Catherine Rizk)'), ('Sex', 'female'), ('Age', ''), ('SibSp', '0'), ('Parch', '2'), ('Ticket', '2668'), ('Fare', '22.3583'), ('Cabin', ''), ('Embarked', 'C')])\n",
            "OrderedDict([('PassengerId', '535'), ('Perished', '1'), ('Pclass', '3'), ('Name', 'Cacic, Miss. Marija'), ('Sex', 'female'), ('Age', '30.0'), ('SibSp', '0'), ('Parch', '0'), ('Ticket', '315084'), ('Fare', '8.6625'), ('Cabin', ''), ('Embarked', 'S')])\n",
            "OrderedDict([('PassengerId', '536'), ('Perished', '0'), ('Pclass', '2'), ('Name', 'Hart, Miss. Eva Miriam'), ('Sex', 'female'), ('Age', '7.0'), ('SibSp', '0'), ('Parch', '2'), ('Ticket', 'F.C.C. 13529'), ('Fare', '26.25'), ('Cabin', ''), ('Embarked', 'S')])\n",
            "OrderedDict([('PassengerId', '537'), ('Perished', '1'), ('Pclass', '1'), ('Name', 'Butt, Major. Archibald Willingham'), ('Sex', 'male'), ('Age', '45.0'), ('SibSp', '0'), ('Parch', '0'), ('Ticket', '113050'), ('Fare', '26.55'), ('Cabin', 'B38'), ('Embarked', 'S')])\n",
            "OrderedDict([('PassengerId', '538'), ('Perished', '0'), ('Pclass', '1'), ('Name', 'LeRoy, Miss. Bertha'), ('Sex', 'female'), ('Age', '30.0'), ('SibSp', '0'), ('Parch', '0'), ('Ticket', 'PC 17761'), ('Fare', '106.425'), ('Cabin', ''), ('Embarked', 'C')])\n",
            "OrderedDict([('PassengerId', '539'), ('Perished', '1'), ('Pclass', '3'), ('Name', 'Risien, Mr. Samuel Beard'), ('Sex', 'male'), ('Age', ''), ('SibSp', '0'), ('Parch', '0'), ('Ticket', '364498'), ('Fare', '14.5'), ('Cabin', ''), ('Embarked', 'S')])\n",
            "OrderedDict([('PassengerId', '540'), ('Perished', '0'), ('Pclass', '1'), ('Name', 'Frolicher, Miss. Hedwig Margaritha'), ('Sex', 'female'), ('Age', '22.0'), ('SibSp', '0'), ('Parch', '2'), ('Ticket', '13568'), ('Fare', '49.5'), ('Cabin', 'B39'), ('Embarked', 'C')])\n",
            "OrderedDict([('PassengerId', '541'), ('Perished', '0'), ('Pclass', '1'), ('Name', 'Crosby, Miss. Harriet R'), ('Sex', 'female'), ('Age', '36.0'), ('SibSp', '0'), ('Parch', '2'), ('Ticket', 'WE/P 5735'), ('Fare', '71.0'), ('Cabin', 'B22'), ('Embarked', 'S')])\n",
            "OrderedDict([('PassengerId', '542'), ('Perished', '1'), ('Pclass', '3'), ('Name', 'Andersson, Miss. Ingeborg Constanzia'), ('Sex', 'female'), ('Age', '9.0'), ('SibSp', '4'), ('Parch', '2'), ('Ticket', '347082'), ('Fare', '31.275'), ('Cabin', ''), ('Embarked', 'S')])\n",
            "OrderedDict([('PassengerId', '543'), ('Perished', '1'), ('Pclass', '3'), ('Name', 'Andersson, Miss. Sigrid Elisabeth'), ('Sex', 'female'), ('Age', '11.0'), ('SibSp', '4'), ('Parch', '2'), ('Ticket', '347082'), ('Fare', '31.275'), ('Cabin', ''), ('Embarked', 'S')])\n",
            "OrderedDict([('PassengerId', '544'), ('Perished', '0'), ('Pclass', '2'), ('Name', 'Beane, Mr. Edward'), ('Sex', 'male'), ('Age', '32.0'), ('SibSp', '1'), ('Parch', '0'), ('Ticket', '2908'), ('Fare', '26.0'), ('Cabin', ''), ('Embarked', 'S')])\n",
            "OrderedDict([('PassengerId', '545'), ('Perished', '1'), ('Pclass', '1'), ('Name', 'Douglas, Mr. Walter Donald'), ('Sex', 'male'), ('Age', '50.0'), ('SibSp', '1'), ('Parch', '0'), ('Ticket', 'PC 17761'), ('Fare', '106.425'), ('Cabin', 'C86'), ('Embarked', 'C')])\n",
            "OrderedDict([('PassengerId', '546'), ('Perished', '1'), ('Pclass', '1'), ('Name', 'Nicholson, Mr. Arthur Ernest'), ('Sex', 'male'), ('Age', '64.0'), ('SibSp', '0'), ('Parch', '0'), ('Ticket', '693'), ('Fare', '26.0'), ('Cabin', ''), ('Embarked', 'S')])\n",
            "OrderedDict([('PassengerId', '547'), ('Perished', '0'), ('Pclass', '2'), ('Name', 'Beane, Mrs. Edward (Ethel Clarke)'), ('Sex', 'female'), ('Age', '19.0'), ('SibSp', '1'), ('Parch', '0'), ('Ticket', '2908'), ('Fare', '26.0'), ('Cabin', ''), ('Embarked', 'S')])\n",
            "OrderedDict([('PassengerId', '548'), ('Perished', '0'), ('Pclass', '2'), ('Name', 'Padro y Manent, Mr. Julian'), ('Sex', 'male'), ('Age', ''), ('SibSp', '0'), ('Parch', '0'), ('Ticket', 'SC/PARIS 2146'), ('Fare', '13.8625'), ('Cabin', ''), ('Embarked', 'C')])\n",
            "OrderedDict([('PassengerId', '549'), ('Perished', '1'), ('Pclass', '3'), ('Name', 'Goldsmith, Mr. Frank John'), ('Sex', 'male'), ('Age', '33.0'), ('SibSp', '1'), ('Parch', '1'), ('Ticket', '363291'), ('Fare', '20.525'), ('Cabin', ''), ('Embarked', 'S')])\n",
            "OrderedDict([('PassengerId', '550'), ('Perished', '0'), ('Pclass', '2'), ('Name', 'Davies, Master. John Morgan Jr'), ('Sex', 'male'), ('Age', '8.0'), ('SibSp', '1'), ('Parch', '1'), ('Ticket', 'C.A. 33112'), ('Fare', '36.75'), ('Cabin', ''), ('Embarked', 'S')])\n",
            "OrderedDict([('PassengerId', '551'), ('Perished', '0'), ('Pclass', '1'), ('Name', 'Thayer, Mr. John Borland Jr'), ('Sex', 'male'), ('Age', '17.0'), ('SibSp', '0'), ('Parch', '2'), ('Ticket', '17421'), ('Fare', '110.8833'), ('Cabin', 'C70'), ('Embarked', 'C')])\n",
            "OrderedDict([('PassengerId', '552'), ('Perished', '1'), ('Pclass', '2'), ('Name', 'Sharp, Mr. Percival James R'), ('Sex', 'male'), ('Age', '27.0'), ('SibSp', '0'), ('Parch', '0'), ('Ticket', '244358'), ('Fare', '26.0'), ('Cabin', ''), ('Embarked', 'S')])\n",
            "OrderedDict([('PassengerId', '553'), ('Perished', '1'), ('Pclass', '3'), ('Name', \"O'Brien, Mr. Timothy\"), ('Sex', 'male'), ('Age', ''), ('SibSp', '0'), ('Parch', '0'), ('Ticket', '330979'), ('Fare', '7.8292'), ('Cabin', ''), ('Embarked', 'Q')])\n",
            "OrderedDict([('PassengerId', '554'), ('Perished', '0'), ('Pclass', '3'), ('Name', 'Leeni, Mr. Fahim (\"Philip Zenni\")'), ('Sex', 'male'), ('Age', '22.0'), ('SibSp', '0'), ('Parch', '0'), ('Ticket', '2620'), ('Fare', '7.225'), ('Cabin', ''), ('Embarked', 'C')])\n",
            "OrderedDict([('PassengerId', '555'), ('Perished', '0'), ('Pclass', '3'), ('Name', 'Ohman, Miss. Velin'), ('Sex', 'female'), ('Age', '22.0'), ('SibSp', '0'), ('Parch', '0'), ('Ticket', '347085'), ('Fare', '7.775'), ('Cabin', ''), ('Embarked', 'S')])\n",
            "OrderedDict([('PassengerId', '556'), ('Perished', '1'), ('Pclass', '1'), ('Name', 'Wright, Mr. George'), ('Sex', 'male'), ('Age', '62.0'), ('SibSp', '0'), ('Parch', '0'), ('Ticket', '113807'), ('Fare', '26.55'), ('Cabin', ''), ('Embarked', 'S')])\n",
            "OrderedDict([('PassengerId', '557'), ('Perished', '0'), ('Pclass', '1'), ('Name', 'Duff Gordon, Lady. (Lucille Christiana Sutherland) (\"Mrs Morgan\")'), ('Sex', 'female'), ('Age', '48.0'), ('SibSp', '1'), ('Parch', '0'), ('Ticket', '11755'), ('Fare', '39.6'), ('Cabin', 'A16'), ('Embarked', 'C')])\n",
            "OrderedDict([('PassengerId', '558'), ('Perished', '1'), ('Pclass', '1'), ('Name', 'Robbins, Mr. Victor'), ('Sex', 'male'), ('Age', ''), ('SibSp', '0'), ('Parch', '0'), ('Ticket', 'PC 17757'), ('Fare', '227.525'), ('Cabin', ''), ('Embarked', 'C')])\n",
            "OrderedDict([('PassengerId', '559'), ('Perished', '0'), ('Pclass', '1'), ('Name', 'Taussig, Mrs. Emil (Tillie Mandelbaum)'), ('Sex', 'female'), ('Age', '39.0'), ('SibSp', '1'), ('Parch', '1'), ('Ticket', '110413'), ('Fare', '79.65'), ('Cabin', 'E67'), ('Embarked', 'S')])\n",
            "OrderedDict([('PassengerId', '560'), ('Perished', '0'), ('Pclass', '3'), ('Name', 'de Messemaeker, Mrs. Guillaume Joseph (Emma)'), ('Sex', 'female'), ('Age', '36.0'), ('SibSp', '1'), ('Parch', '0'), ('Ticket', '345572'), ('Fare', '17.4'), ('Cabin', ''), ('Embarked', 'S')])\n",
            "OrderedDict([('PassengerId', '561'), ('Perished', '1'), ('Pclass', '3'), ('Name', 'Morrow, Mr. Thomas Rowan'), ('Sex', 'male'), ('Age', ''), ('SibSp', '0'), ('Parch', '0'), ('Ticket', '372622'), ('Fare', '7.75'), ('Cabin', ''), ('Embarked', 'Q')])\n",
            "OrderedDict([('PassengerId', '562'), ('Perished', '1'), ('Pclass', '3'), ('Name', 'Sivic, Mr. Husein'), ('Sex', 'male'), ('Age', '40.0'), ('SibSp', '0'), ('Parch', '0'), ('Ticket', '349251'), ('Fare', '7.8958'), ('Cabin', ''), ('Embarked', 'S')])\n",
            "OrderedDict([('PassengerId', '563'), ('Perished', '1'), ('Pclass', '2'), ('Name', 'Norman, Mr. Robert Douglas'), ('Sex', 'male'), ('Age', '28.0'), ('SibSp', '0'), ('Parch', '0'), ('Ticket', '218629'), ('Fare', '13.5'), ('Cabin', ''), ('Embarked', 'S')])\n",
            "OrderedDict([('PassengerId', '564'), ('Perished', '1'), ('Pclass', '3'), ('Name', 'Simmons, Mr. John'), ('Sex', 'male'), ('Age', ''), ('SibSp', '0'), ('Parch', '0'), ('Ticket', 'SOTON/OQ 392082'), ('Fare', '8.05'), ('Cabin', ''), ('Embarked', 'S')])\n",
            "OrderedDict([('PassengerId', '565'), ('Perished', '1'), ('Pclass', '3'), ('Name', 'Meanwell, Miss. (Marion Ogden)'), ('Sex', 'female'), ('Age', ''), ('SibSp', '0'), ('Parch', '0'), ('Ticket', 'SOTON/O.Q. 392087'), ('Fare', '8.05'), ('Cabin', ''), ('Embarked', 'S')])\n",
            "OrderedDict([('PassengerId', '566'), ('Perished', '1'), ('Pclass', '3'), ('Name', 'Davies, Mr. Alfred J'), ('Sex', 'male'), ('Age', '24.0'), ('SibSp', '2'), ('Parch', '0'), ('Ticket', 'A/4 48871'), ('Fare', '24.15'), ('Cabin', ''), ('Embarked', 'S')])\n",
            "OrderedDict([('PassengerId', '567'), ('Perished', '1'), ('Pclass', '3'), ('Name', 'Stoytcheff, Mr. Ilia'), ('Sex', 'male'), ('Age', '19.0'), ('SibSp', '0'), ('Parch', '0'), ('Ticket', '349205'), ('Fare', '7.8958'), ('Cabin', ''), ('Embarked', 'S')])\n",
            "OrderedDict([('PassengerId', '568'), ('Perished', '1'), ('Pclass', '3'), ('Name', 'Palsson, Mrs. Nils (Alma Cornelia Berglund)'), ('Sex', 'female'), ('Age', '29.0'), ('SibSp', '0'), ('Parch', '4'), ('Ticket', '349909'), ('Fare', '21.075'), ('Cabin', ''), ('Embarked', 'S')])\n",
            "OrderedDict([('PassengerId', '569'), ('Perished', '1'), ('Pclass', '3'), ('Name', 'Doharr, Mr. Tannous'), ('Sex', 'male'), ('Age', ''), ('SibSp', '0'), ('Parch', '0'), ('Ticket', '2686'), ('Fare', '7.2292'), ('Cabin', ''), ('Embarked', 'C')])\n",
            "OrderedDict([('PassengerId', '570'), ('Perished', '0'), ('Pclass', '3'), ('Name', 'Jonsson, Mr. Carl'), ('Sex', 'male'), ('Age', '32.0'), ('SibSp', '0'), ('Parch', '0'), ('Ticket', '350417'), ('Fare', '7.8542'), ('Cabin', ''), ('Embarked', 'S')])\n",
            "OrderedDict([('PassengerId', '571'), ('Perished', '0'), ('Pclass', '2'), ('Name', 'Harris, Mr. George'), ('Sex', 'male'), ('Age', '62.0'), ('SibSp', '0'), ('Parch', '0'), ('Ticket', 'S.W./PP 752'), ('Fare', '10.5'), ('Cabin', ''), ('Embarked', 'S')])\n",
            "OrderedDict([('PassengerId', '572'), ('Perished', '0'), ('Pclass', '1'), ('Name', 'Appleton, Mrs. Edward Dale (Charlotte Lamson)'), ('Sex', 'female'), ('Age', '53.0'), ('SibSp', '2'), ('Parch', '0'), ('Ticket', '11769'), ('Fare', '51.4792'), ('Cabin', 'C101'), ('Embarked', 'S')])\n",
            "OrderedDict([('PassengerId', '573'), ('Perished', '0'), ('Pclass', '1'), ('Name', 'Flynn, Mr. John Irwin (\"Irving\")'), ('Sex', 'male'), ('Age', '36.0'), ('SibSp', '0'), ('Parch', '0'), ('Ticket', 'PC 17474'), ('Fare', '26.3875'), ('Cabin', 'E25'), ('Embarked', 'S')])\n",
            "OrderedDict([('PassengerId', '574'), ('Perished', '0'), ('Pclass', '3'), ('Name', 'Kelly, Miss. Mary'), ('Sex', 'female'), ('Age', ''), ('SibSp', '0'), ('Parch', '0'), ('Ticket', '14312'), ('Fare', '7.75'), ('Cabin', ''), ('Embarked', 'Q')])\n",
            "OrderedDict([('PassengerId', '575'), ('Perished', '1'), ('Pclass', '3'), ('Name', 'Rush, Mr. Alfred George John'), ('Sex', 'male'), ('Age', '16.0'), ('SibSp', '0'), ('Parch', '0'), ('Ticket', 'A/4. 20589'), ('Fare', '8.05'), ('Cabin', ''), ('Embarked', 'S')])\n",
            "OrderedDict([('PassengerId', '576'), ('Perished', '1'), ('Pclass', '3'), ('Name', 'Patchett, Mr. George'), ('Sex', 'male'), ('Age', '19.0'), ('SibSp', '0'), ('Parch', '0'), ('Ticket', '358585'), ('Fare', '14.5'), ('Cabin', ''), ('Embarked', 'S')])\n",
            "OrderedDict([('PassengerId', '577'), ('Perished', '0'), ('Pclass', '2'), ('Name', 'Garside, Miss. Ethel'), ('Sex', 'female'), ('Age', '34.0'), ('SibSp', '0'), ('Parch', '0'), ('Ticket', '243880'), ('Fare', '13.0'), ('Cabin', ''), ('Embarked', 'S')])\n",
            "OrderedDict([('PassengerId', '578'), ('Perished', '0'), ('Pclass', '1'), ('Name', 'Silvey, Mrs. William Baird (Alice Munger)'), ('Sex', 'female'), ('Age', '39.0'), ('SibSp', '1'), ('Parch', '0'), ('Ticket', '13507'), ('Fare', '55.9'), ('Cabin', 'E44'), ('Embarked', 'S')])\n",
            "OrderedDict([('PassengerId', '579'), ('Perished', '1'), ('Pclass', '3'), ('Name', 'Caram, Mrs. Joseph (Maria Elias)'), ('Sex', 'female'), ('Age', ''), ('SibSp', '1'), ('Parch', '0'), ('Ticket', '2689'), ('Fare', '14.4583'), ('Cabin', ''), ('Embarked', 'C')])\n",
            "OrderedDict([('PassengerId', '580'), ('Perished', '0'), ('Pclass', '3'), ('Name', 'Jussila, Mr. Eiriik'), ('Sex', 'male'), ('Age', '32.0'), ('SibSp', '0'), ('Parch', '0'), ('Ticket', 'STON/O 2. 3101286'), ('Fare', '7.925'), ('Cabin', ''), ('Embarked', 'S')])\n",
            "OrderedDict([('PassengerId', '581'), ('Perished', '0'), ('Pclass', '2'), ('Name', 'Christy, Miss. Julie Rachel'), ('Sex', 'female'), ('Age', '25.0'), ('SibSp', '1'), ('Parch', '1'), ('Ticket', '237789'), ('Fare', '30.0'), ('Cabin', ''), ('Embarked', 'S')])\n",
            "OrderedDict([('PassengerId', '582'), ('Perished', '0'), ('Pclass', '1'), ('Name', 'Thayer, Mrs. John Borland (Marian Longstreth Morris)'), ('Sex', 'female'), ('Age', '39.0'), ('SibSp', '1'), ('Parch', '1'), ('Ticket', '17421'), ('Fare', '110.8833'), ('Cabin', 'C68'), ('Embarked', 'C')])\n",
            "OrderedDict([('PassengerId', '583'), ('Perished', '1'), ('Pclass', '2'), ('Name', 'Downton, Mr. William James'), ('Sex', 'male'), ('Age', '54.0'), ('SibSp', '0'), ('Parch', '0'), ('Ticket', '28403'), ('Fare', '26.0'), ('Cabin', ''), ('Embarked', 'S')])\n",
            "OrderedDict([('PassengerId', '584'), ('Perished', '1'), ('Pclass', '1'), ('Name', 'Ross, Mr. John Hugo'), ('Sex', 'male'), ('Age', '36.0'), ('SibSp', '0'), ('Parch', '0'), ('Ticket', '13049'), ('Fare', '40.125'), ('Cabin', 'A10'), ('Embarked', 'C')])\n",
            "OrderedDict([('PassengerId', '585'), ('Perished', '1'), ('Pclass', '3'), ('Name', 'Paulner, Mr. Uscher'), ('Sex', 'male'), ('Age', ''), ('SibSp', '0'), ('Parch', '0'), ('Ticket', '3411'), ('Fare', '8.7125'), ('Cabin', ''), ('Embarked', 'C')])\n",
            "OrderedDict([('PassengerId', '586'), ('Perished', '0'), ('Pclass', '1'), ('Name', 'Taussig, Miss. Ruth'), ('Sex', 'female'), ('Age', '18.0'), ('SibSp', '0'), ('Parch', '2'), ('Ticket', '110413'), ('Fare', '79.65'), ('Cabin', 'E68'), ('Embarked', 'S')])\n",
            "OrderedDict([('PassengerId', '587'), ('Perished', '1'), ('Pclass', '2'), ('Name', 'Jarvis, Mr. John Denzil'), ('Sex', 'male'), ('Age', '47.0'), ('SibSp', '0'), ('Parch', '0'), ('Ticket', '237565'), ('Fare', '15.0'), ('Cabin', ''), ('Embarked', 'S')])\n",
            "OrderedDict([('PassengerId', '588'), ('Perished', '0'), ('Pclass', '1'), ('Name', 'Frolicher-Stehli, Mr. Maxmillian'), ('Sex', 'male'), ('Age', '60.0'), ('SibSp', '1'), ('Parch', '1'), ('Ticket', '13567'), ('Fare', '79.2'), ('Cabin', 'B41'), ('Embarked', 'C')])\n",
            "OrderedDict([('PassengerId', '589'), ('Perished', '1'), ('Pclass', '3'), ('Name', 'Gilinski, Mr. Eliezer'), ('Sex', 'male'), ('Age', '22.0'), ('SibSp', '0'), ('Parch', '0'), ('Ticket', '14973'), ('Fare', '8.05'), ('Cabin', ''), ('Embarked', 'S')])\n",
            "OrderedDict([('PassengerId', '590'), ('Perished', '1'), ('Pclass', '3'), ('Name', 'Murdlin, Mr. Joseph'), ('Sex', 'male'), ('Age', ''), ('SibSp', '0'), ('Parch', '0'), ('Ticket', 'A./5. 3235'), ('Fare', '8.05'), ('Cabin', ''), ('Embarked', 'S')])\n",
            "OrderedDict([('PassengerId', '591'), ('Perished', '1'), ('Pclass', '3'), ('Name', 'Rintamaki, Mr. Matti'), ('Sex', 'male'), ('Age', '35.0'), ('SibSp', '0'), ('Parch', '0'), ('Ticket', 'STON/O 2. 3101273'), ('Fare', '7.125'), ('Cabin', ''), ('Embarked', 'S')])\n",
            "OrderedDict([('PassengerId', '592'), ('Perished', '0'), ('Pclass', '1'), ('Name', 'Stephenson, Mrs. Walter Bertram (Martha Eustis)'), ('Sex', 'female'), ('Age', '52.0'), ('SibSp', '1'), ('Parch', '0'), ('Ticket', '36947'), ('Fare', '78.2667'), ('Cabin', 'D20'), ('Embarked', 'C')])\n",
            "OrderedDict([('PassengerId', '593'), ('Perished', '1'), ('Pclass', '3'), ('Name', 'Elsbury, Mr. William James'), ('Sex', 'male'), ('Age', '47.0'), ('SibSp', '0'), ('Parch', '0'), ('Ticket', 'A/5 3902'), ('Fare', '7.25'), ('Cabin', ''), ('Embarked', 'S')])\n",
            "OrderedDict([('PassengerId', '594'), ('Perished', '1'), ('Pclass', '3'), ('Name', 'Bourke, Miss. Mary'), ('Sex', 'female'), ('Age', ''), ('SibSp', '0'), ('Parch', '2'), ('Ticket', '364848'), ('Fare', '7.75'), ('Cabin', ''), ('Embarked', 'Q')])\n",
            "OrderedDict([('PassengerId', '595'), ('Perished', '1'), ('Pclass', '2'), ('Name', 'Chapman, Mr. John Henry'), ('Sex', 'male'), ('Age', '37.0'), ('SibSp', '1'), ('Parch', '0'), ('Ticket', 'SC/AH 29037'), ('Fare', '26.0'), ('Cabin', ''), ('Embarked', 'S')])\n",
            "OrderedDict([('PassengerId', '596'), ('Perished', '1'), ('Pclass', '3'), ('Name', 'Van Impe, Mr. Jean Baptiste'), ('Sex', 'male'), ('Age', '36.0'), ('SibSp', '1'), ('Parch', '1'), ('Ticket', '345773'), ('Fare', '24.15'), ('Cabin', ''), ('Embarked', 'S')])\n",
            "OrderedDict([('PassengerId', '597'), ('Perished', '0'), ('Pclass', '2'), ('Name', 'Leitch, Miss. Jessie Wills'), ('Sex', 'female'), ('Age', ''), ('SibSp', '0'), ('Parch', '0'), ('Ticket', '248727'), ('Fare', '33.0'), ('Cabin', ''), ('Embarked', 'S')])\n",
            "OrderedDict([('PassengerId', '598'), ('Perished', '1'), ('Pclass', '3'), ('Name', 'Johnson, Mr. Alfred'), ('Sex', 'male'), ('Age', '49.0'), ('SibSp', '0'), ('Parch', '0'), ('Ticket', 'LINE'), ('Fare', '0.0'), ('Cabin', ''), ('Embarked', 'S')])\n",
            "OrderedDict([('PassengerId', '599'), ('Perished', '1'), ('Pclass', '3'), ('Name', 'Boulos, Mr. Hanna'), ('Sex', 'male'), ('Age', ''), ('SibSp', '0'), ('Parch', '0'), ('Ticket', '2664'), ('Fare', '7.225'), ('Cabin', ''), ('Embarked', 'C')])\n",
            "OrderedDict([('PassengerId', '600'), ('Perished', '0'), ('Pclass', '1'), ('Name', 'Duff Gordon, Sir. Cosmo Edmund (\"Mr Morgan\")'), ('Sex', 'male'), ('Age', '49.0'), ('SibSp', '1'), ('Parch', '0'), ('Ticket', 'PC 17485'), ('Fare', '56.9292'), ('Cabin', 'A20'), ('Embarked', 'C')])\n",
            "OrderedDict([('PassengerId', '601'), ('Perished', '0'), ('Pclass', '2'), ('Name', 'Jacobsohn, Mrs. Sidney Samuel (Amy Frances Christy)'), ('Sex', 'female'), ('Age', '24.0'), ('SibSp', '2'), ('Parch', '1'), ('Ticket', '243847'), ('Fare', '27.0'), ('Cabin', ''), ('Embarked', 'S')])\n",
            "OrderedDict([('PassengerId', '602'), ('Perished', '1'), ('Pclass', '3'), ('Name', 'Slabenoff, Mr. Petco'), ('Sex', 'male'), ('Age', ''), ('SibSp', '0'), ('Parch', '0'), ('Ticket', '349214'), ('Fare', '7.8958'), ('Cabin', ''), ('Embarked', 'S')])\n",
            "OrderedDict([('PassengerId', '603'), ('Perished', '1'), ('Pclass', '1'), ('Name', 'Harrington, Mr. Charles H'), ('Sex', 'male'), ('Age', ''), ('SibSp', '0'), ('Parch', '0'), ('Ticket', '113796'), ('Fare', '42.4'), ('Cabin', ''), ('Embarked', 'S')])\n",
            "OrderedDict([('PassengerId', '604'), ('Perished', '1'), ('Pclass', '3'), ('Name', 'Torber, Mr. Ernst William'), ('Sex', 'male'), ('Age', '44.0'), ('SibSp', '0'), ('Parch', '0'), ('Ticket', '364511'), ('Fare', '8.05'), ('Cabin', ''), ('Embarked', 'S')])\n",
            "OrderedDict([('PassengerId', '605'), ('Perished', '0'), ('Pclass', '1'), ('Name', 'Homer, Mr. Harry (\"Mr E Haven\")'), ('Sex', 'male'), ('Age', '35.0'), ('SibSp', '0'), ('Parch', '0'), ('Ticket', '111426'), ('Fare', '26.55'), ('Cabin', ''), ('Embarked', 'C')])\n",
            "OrderedDict([('PassengerId', '606'), ('Perished', '1'), ('Pclass', '3'), ('Name', 'Lindell, Mr. Edvard Bengtsson'), ('Sex', 'male'), ('Age', '36.0'), ('SibSp', '1'), ('Parch', '0'), ('Ticket', '349910'), ('Fare', '15.55'), ('Cabin', ''), ('Embarked', 'S')])\n",
            "OrderedDict([('PassengerId', '607'), ('Perished', '1'), ('Pclass', '3'), ('Name', 'Karaic, Mr. Milan'), ('Sex', 'male'), ('Age', '30.0'), ('SibSp', '0'), ('Parch', '0'), ('Ticket', '349246'), ('Fare', '7.8958'), ('Cabin', ''), ('Embarked', 'S')])\n",
            "OrderedDict([('PassengerId', '608'), ('Perished', '0'), ('Pclass', '1'), ('Name', 'Daniel, Mr. Robert Williams'), ('Sex', 'male'), ('Age', '27.0'), ('SibSp', '0'), ('Parch', '0'), ('Ticket', '113804'), ('Fare', '30.5'), ('Cabin', ''), ('Embarked', 'S')])\n",
            "OrderedDict([('PassengerId', '609'), ('Perished', '0'), ('Pclass', '2'), ('Name', 'Laroche, Mrs. Joseph (Juliette Marie Louise Lafargue)'), ('Sex', 'female'), ('Age', '22.0'), ('SibSp', '1'), ('Parch', '2'), ('Ticket', 'SC/Paris 2123'), ('Fare', '41.5792'), ('Cabin', ''), ('Embarked', 'C')])\n",
            "OrderedDict([('PassengerId', '610'), ('Perished', '0'), ('Pclass', '1'), ('Name', 'Shutes, Miss. Elizabeth W'), ('Sex', 'female'), ('Age', '40.0'), ('SibSp', '0'), ('Parch', '0'), ('Ticket', 'PC 17582'), ('Fare', '153.4625'), ('Cabin', 'C125'), ('Embarked', 'S')])\n",
            "OrderedDict([('PassengerId', '611'), ('Perished', '1'), ('Pclass', '3'), ('Name', 'Andersson, Mrs. Anders Johan (Alfrida Konstantia Brogren)'), ('Sex', 'female'), ('Age', '39.0'), ('SibSp', '1'), ('Parch', '5'), ('Ticket', '347082'), ('Fare', '31.275'), ('Cabin', ''), ('Embarked', 'S')])\n",
            "OrderedDict([('PassengerId', '612'), ('Perished', '1'), ('Pclass', '3'), ('Name', 'Jardin, Mr. Jose Neto'), ('Sex', 'male'), ('Age', ''), ('SibSp', '0'), ('Parch', '0'), ('Ticket', 'SOTON/O.Q. 3101305'), ('Fare', '7.05'), ('Cabin', ''), ('Embarked', 'S')])\n",
            "OrderedDict([('PassengerId', '613'), ('Perished', '0'), ('Pclass', '3'), ('Name', 'Murphy, Miss. Margaret Jane'), ('Sex', 'female'), ('Age', ''), ('SibSp', '1'), ('Parch', '0'), ('Ticket', '367230'), ('Fare', '15.5'), ('Cabin', ''), ('Embarked', 'Q')])\n",
            "OrderedDict([('PassengerId', '614'), ('Perished', '1'), ('Pclass', '3'), ('Name', 'Horgan, Mr. John'), ('Sex', 'male'), ('Age', ''), ('SibSp', '0'), ('Parch', '0'), ('Ticket', '370377'), ('Fare', '7.75'), ('Cabin', ''), ('Embarked', 'Q')])\n",
            "OrderedDict([('PassengerId', '615'), ('Perished', '1'), ('Pclass', '3'), ('Name', 'Brocklebank, Mr. William Alfred'), ('Sex', 'male'), ('Age', '35.0'), ('SibSp', '0'), ('Parch', '0'), ('Ticket', '364512'), ('Fare', '8.05'), ('Cabin', ''), ('Embarked', 'S')])\n",
            "OrderedDict([('PassengerId', '616'), ('Perished', '0'), ('Pclass', '2'), ('Name', 'Herman, Miss. Alice'), ('Sex', 'female'), ('Age', '24.0'), ('SibSp', '1'), ('Parch', '2'), ('Ticket', '220845'), ('Fare', '65.0'), ('Cabin', ''), ('Embarked', 'S')])\n",
            "OrderedDict([('PassengerId', '617'), ('Perished', '1'), ('Pclass', '3'), ('Name', 'Danbom, Mr. Ernst Gilbert'), ('Sex', 'male'), ('Age', '34.0'), ('SibSp', '1'), ('Parch', '1'), ('Ticket', '347080'), ('Fare', '14.4'), ('Cabin', ''), ('Embarked', 'S')])\n",
            "OrderedDict([('PassengerId', '618'), ('Perished', '1'), ('Pclass', '3'), ('Name', 'Lobb, Mrs. William Arthur (Cordelia K Stanlick)'), ('Sex', 'female'), ('Age', '26.0'), ('SibSp', '1'), ('Parch', '0'), ('Ticket', 'A/5. 3336'), ('Fare', '16.1'), ('Cabin', ''), ('Embarked', 'S')])\n",
            "OrderedDict([('PassengerId', '619'), ('Perished', '0'), ('Pclass', '2'), ('Name', 'Becker, Miss. Marion Louise'), ('Sex', 'female'), ('Age', '4.0'), ('SibSp', '2'), ('Parch', '1'), ('Ticket', '230136'), ('Fare', '39.0'), ('Cabin', 'F4'), ('Embarked', 'S')])\n",
            "OrderedDict([('PassengerId', '620'), ('Perished', '1'), ('Pclass', '2'), ('Name', 'Gavey, Mr. Lawrence'), ('Sex', 'male'), ('Age', '26.0'), ('SibSp', '0'), ('Parch', '0'), ('Ticket', '31028'), ('Fare', '10.5'), ('Cabin', ''), ('Embarked', 'S')])\n",
            "OrderedDict([('PassengerId', '621'), ('Perished', '1'), ('Pclass', '3'), ('Name', 'Yasbeck, Mr. Antoni'), ('Sex', 'male'), ('Age', '27.0'), ('SibSp', '1'), ('Parch', '0'), ('Ticket', '2659'), ('Fare', '14.4542'), ('Cabin', ''), ('Embarked', 'C')])\n",
            "OrderedDict([('PassengerId', '622'), ('Perished', '0'), ('Pclass', '1'), ('Name', 'Kimball, Mr. Edwin Nelson Jr'), ('Sex', 'male'), ('Age', '42.0'), ('SibSp', '1'), ('Parch', '0'), ('Ticket', '11753'), ('Fare', '52.5542'), ('Cabin', 'D19'), ('Embarked', 'S')])\n",
            "OrderedDict([('PassengerId', '623'), ('Perished', '0'), ('Pclass', '3'), ('Name', 'Nakid, Mr. Sahid'), ('Sex', 'male'), ('Age', '20.0'), ('SibSp', '1'), ('Parch', '1'), ('Ticket', '2653'), ('Fare', '15.7417'), ('Cabin', ''), ('Embarked', 'C')])\n",
            "OrderedDict([('PassengerId', '624'), ('Perished', '1'), ('Pclass', '3'), ('Name', 'Hansen, Mr. Henry Damsgaard'), ('Sex', 'male'), ('Age', '21.0'), ('SibSp', '0'), ('Parch', '0'), ('Ticket', '350029'), ('Fare', '7.8542'), ('Cabin', ''), ('Embarked', 'S')])\n",
            "OrderedDict([('PassengerId', '625'), ('Perished', '1'), ('Pclass', '3'), ('Name', 'Bowen, Mr. David John \"Dai\"'), ('Sex', 'male'), ('Age', '21.0'), ('SibSp', '0'), ('Parch', '0'), ('Ticket', '54636'), ('Fare', '16.1'), ('Cabin', ''), ('Embarked', 'S')])\n",
            "OrderedDict([('PassengerId', '626'), ('Perished', '1'), ('Pclass', '1'), ('Name', 'Sutton, Mr. Frederick'), ('Sex', 'male'), ('Age', '61.0'), ('SibSp', '0'), ('Parch', '0'), ('Ticket', '36963'), ('Fare', '32.3208'), ('Cabin', 'D50'), ('Embarked', 'S')])\n",
            "OrderedDict([('PassengerId', '627'), ('Perished', '1'), ('Pclass', '2'), ('Name', 'Kirkland, Rev. Charles Leonard'), ('Sex', 'male'), ('Age', '57.0'), ('SibSp', '0'), ('Parch', '0'), ('Ticket', '219533'), ('Fare', '12.35'), ('Cabin', ''), ('Embarked', 'Q')])\n",
            "OrderedDict([('PassengerId', '628'), ('Perished', '0'), ('Pclass', '1'), ('Name', 'Longley, Miss. Gretchen Fiske'), ('Sex', 'female'), ('Age', '21.0'), ('SibSp', '0'), ('Parch', '0'), ('Ticket', '13502'), ('Fare', '77.9583'), ('Cabin', 'D9'), ('Embarked', 'S')])\n",
            "OrderedDict([('PassengerId', '629'), ('Perished', '1'), ('Pclass', '3'), ('Name', 'Bostandyeff, Mr. Guentcho'), ('Sex', 'male'), ('Age', '26.0'), ('SibSp', '0'), ('Parch', '0'), ('Ticket', '349224'), ('Fare', '7.8958'), ('Cabin', ''), ('Embarked', 'S')])\n",
            "OrderedDict([('PassengerId', '630'), ('Perished', '1'), ('Pclass', '3'), ('Name', \"O'Connell, Mr. Patrick D\"), ('Sex', 'male'), ('Age', ''), ('SibSp', '0'), ('Parch', '0'), ('Ticket', '334912'), ('Fare', '7.7333'), ('Cabin', ''), ('Embarked', 'Q')])\n",
            "OrderedDict([('PassengerId', '631'), ('Perished', '0'), ('Pclass', '1'), ('Name', 'Barkworth, Mr. Algernon Henry Wilson'), ('Sex', 'male'), ('Age', '80.0'), ('SibSp', '0'), ('Parch', '0'), ('Ticket', '27042'), ('Fare', '30.0'), ('Cabin', 'A23'), ('Embarked', 'S')])\n",
            "OrderedDict([('PassengerId', '632'), ('Perished', '1'), ('Pclass', '3'), ('Name', 'Lundahl, Mr. Johan Svensson'), ('Sex', 'male'), ('Age', '51.0'), ('SibSp', '0'), ('Parch', '0'), ('Ticket', '347743'), ('Fare', '7.0542'), ('Cabin', ''), ('Embarked', 'S')])\n",
            "OrderedDict([('PassengerId', '633'), ('Perished', '0'), ('Pclass', '1'), ('Name', 'Stahelin-Maeglin, Dr. Max'), ('Sex', 'male'), ('Age', '32.0'), ('SibSp', '0'), ('Parch', '0'), ('Ticket', '13214'), ('Fare', '30.5'), ('Cabin', 'B50'), ('Embarked', 'C')])\n",
            "OrderedDict([('PassengerId', '634'), ('Perished', '1'), ('Pclass', '1'), ('Name', 'Parr, Mr. William Henry Marsh'), ('Sex', 'male'), ('Age', ''), ('SibSp', '0'), ('Parch', '0'), ('Ticket', '112052'), ('Fare', '0.0'), ('Cabin', ''), ('Embarked', 'S')])\n",
            "OrderedDict([('PassengerId', '635'), ('Perished', '1'), ('Pclass', '3'), ('Name', 'Skoog, Miss. Mabel'), ('Sex', 'female'), ('Age', '9.0'), ('SibSp', '3'), ('Parch', '2'), ('Ticket', '347088'), ('Fare', '27.9'), ('Cabin', ''), ('Embarked', 'S')])\n",
            "OrderedDict([('PassengerId', '636'), ('Perished', '0'), ('Pclass', '2'), ('Name', 'Davis, Miss. Mary'), ('Sex', 'female'), ('Age', '28.0'), ('SibSp', '0'), ('Parch', '0'), ('Ticket', '237668'), ('Fare', '13.0'), ('Cabin', ''), ('Embarked', 'S')])\n",
            "OrderedDict([('PassengerId', '637'), ('Perished', '1'), ('Pclass', '3'), ('Name', 'Leinonen, Mr. Antti Gustaf'), ('Sex', 'male'), ('Age', '32.0'), ('SibSp', '0'), ('Parch', '0'), ('Ticket', 'STON/O 2. 3101292'), ('Fare', '7.925'), ('Cabin', ''), ('Embarked', 'S')])\n",
            "OrderedDict([('PassengerId', '638'), ('Perished', '1'), ('Pclass', '2'), ('Name', 'Collyer, Mr. Harvey'), ('Sex', 'male'), ('Age', '31.0'), ('SibSp', '1'), ('Parch', '1'), ('Ticket', 'C.A. 31921'), ('Fare', '26.25'), ('Cabin', ''), ('Embarked', 'S')])\n",
            "OrderedDict([('PassengerId', '639'), ('Perished', '1'), ('Pclass', '3'), ('Name', 'Panula, Mrs. Juha (Maria Emilia Ojala)'), ('Sex', 'female'), ('Age', '41.0'), ('SibSp', '0'), ('Parch', '5'), ('Ticket', '3101295'), ('Fare', '39.6875'), ('Cabin', ''), ('Embarked', 'S')])\n",
            "OrderedDict([('PassengerId', '640'), ('Perished', '1'), ('Pclass', '3'), ('Name', 'Thorneycroft, Mr. Percival'), ('Sex', 'male'), ('Age', ''), ('SibSp', '1'), ('Parch', '0'), ('Ticket', '376564'), ('Fare', '16.1'), ('Cabin', ''), ('Embarked', 'S')])\n",
            "OrderedDict([('PassengerId', '641'), ('Perished', '1'), ('Pclass', '3'), ('Name', 'Jensen, Mr. Hans Peder'), ('Sex', 'male'), ('Age', '20.0'), ('SibSp', '0'), ('Parch', '0'), ('Ticket', '350050'), ('Fare', '7.8542'), ('Cabin', ''), ('Embarked', 'S')])\n",
            "OrderedDict([('PassengerId', '642'), ('Perished', '0'), ('Pclass', '1'), ('Name', 'Sagesser, Mlle. Emma'), ('Sex', 'female'), ('Age', '24.0'), ('SibSp', '0'), ('Parch', '0'), ('Ticket', 'PC 17477'), ('Fare', '69.3'), ('Cabin', 'B35'), ('Embarked', 'C')])\n",
            "OrderedDict([('PassengerId', '643'), ('Perished', '1'), ('Pclass', '3'), ('Name', 'Skoog, Miss. Margit Elizabeth'), ('Sex', 'female'), ('Age', '2.0'), ('SibSp', '3'), ('Parch', '2'), ('Ticket', '347088'), ('Fare', '27.9'), ('Cabin', ''), ('Embarked', 'S')])\n",
            "OrderedDict([('PassengerId', '644'), ('Perished', '0'), ('Pclass', '3'), ('Name', 'Foo, Mr. Choong'), ('Sex', 'male'), ('Age', ''), ('SibSp', '0'), ('Parch', '0'), ('Ticket', '1601'), ('Fare', '56.4958'), ('Cabin', ''), ('Embarked', 'S')])\n",
            "OrderedDict([('PassengerId', '645'), ('Perished', '0'), ('Pclass', '3'), ('Name', 'Baclini, Miss. Eugenie'), ('Sex', 'female'), ('Age', '0.75'), ('SibSp', '2'), ('Parch', '1'), ('Ticket', '2666'), ('Fare', '19.2583'), ('Cabin', ''), ('Embarked', 'C')])\n",
            "OrderedDict([('PassengerId', '646'), ('Perished', '0'), ('Pclass', '1'), ('Name', 'Harper, Mr. Henry Sleeper'), ('Sex', 'male'), ('Age', '48.0'), ('SibSp', '1'), ('Parch', '0'), ('Ticket', 'PC 17572'), ('Fare', '76.7292'), ('Cabin', 'D33'), ('Embarked', 'C')])\n",
            "OrderedDict([('PassengerId', '647'), ('Perished', '1'), ('Pclass', '3'), ('Name', 'Cor, Mr. Liudevit'), ('Sex', 'male'), ('Age', '19.0'), ('SibSp', '0'), ('Parch', '0'), ('Ticket', '349231'), ('Fare', '7.8958'), ('Cabin', ''), ('Embarked', 'S')])\n",
            "OrderedDict([('PassengerId', '648'), ('Perished', '0'), ('Pclass', '1'), ('Name', 'Simonius-Blumer, Col. Oberst Alfons'), ('Sex', 'male'), ('Age', '56.0'), ('SibSp', '0'), ('Parch', '0'), ('Ticket', '13213'), ('Fare', '35.5'), ('Cabin', 'A26'), ('Embarked', 'C')])\n",
            "OrderedDict([('PassengerId', '649'), ('Perished', '1'), ('Pclass', '3'), ('Name', 'Willey, Mr. Edward'), ('Sex', 'male'), ('Age', ''), ('SibSp', '0'), ('Parch', '0'), ('Ticket', 'S.O./P.P. 751'), ('Fare', '7.55'), ('Cabin', ''), ('Embarked', 'S')])\n",
            "OrderedDict([('PassengerId', '650'), ('Perished', '0'), ('Pclass', '3'), ('Name', 'Stanley, Miss. Amy Zillah Elsie'), ('Sex', 'female'), ('Age', '23.0'), ('SibSp', '0'), ('Parch', '0'), ('Ticket', 'CA. 2314'), ('Fare', '7.55'), ('Cabin', ''), ('Embarked', 'S')])\n",
            "OrderedDict([('PassengerId', '651'), ('Perished', '1'), ('Pclass', '3'), ('Name', 'Mitkoff, Mr. Mito'), ('Sex', 'male'), ('Age', ''), ('SibSp', '0'), ('Parch', '0'), ('Ticket', '349221'), ('Fare', '7.8958'), ('Cabin', ''), ('Embarked', 'S')])\n",
            "OrderedDict([('PassengerId', '652'), ('Perished', '0'), ('Pclass', '2'), ('Name', 'Doling, Miss. Elsie'), ('Sex', 'female'), ('Age', '18.0'), ('SibSp', '0'), ('Parch', '1'), ('Ticket', '231919'), ('Fare', '23.0'), ('Cabin', ''), ('Embarked', 'S')])\n",
            "OrderedDict([('PassengerId', '653'), ('Perished', '1'), ('Pclass', '3'), ('Name', 'Kalvik, Mr. Johannes Halvorsen'), ('Sex', 'male'), ('Age', '21.0'), ('SibSp', '0'), ('Parch', '0'), ('Ticket', '8475'), ('Fare', '8.4333'), ('Cabin', ''), ('Embarked', 'S')])\n",
            "OrderedDict([('PassengerId', '654'), ('Perished', '0'), ('Pclass', '3'), ('Name', 'O\\'Leary, Miss. Hanora \"Norah\"'), ('Sex', 'female'), ('Age', ''), ('SibSp', '0'), ('Parch', '0'), ('Ticket', '330919'), ('Fare', '7.8292'), ('Cabin', ''), ('Embarked', 'Q')])\n",
            "OrderedDict([('PassengerId', '655'), ('Perished', '1'), ('Pclass', '3'), ('Name', 'Hegarty, Miss. Hanora \"Nora\"'), ('Sex', 'female'), ('Age', '18.0'), ('SibSp', '0'), ('Parch', '0'), ('Ticket', '365226'), ('Fare', '6.75'), ('Cabin', ''), ('Embarked', 'Q')])\n",
            "OrderedDict([('PassengerId', '656'), ('Perished', '1'), ('Pclass', '2'), ('Name', 'Hickman, Mr. Leonard Mark'), ('Sex', 'male'), ('Age', '24.0'), ('SibSp', '2'), ('Parch', '0'), ('Ticket', 'S.O.C. 14879'), ('Fare', '73.5'), ('Cabin', ''), ('Embarked', 'S')])\n",
            "OrderedDict([('PassengerId', '657'), ('Perished', '1'), ('Pclass', '3'), ('Name', 'Radeff, Mr. Alexander'), ('Sex', 'male'), ('Age', ''), ('SibSp', '0'), ('Parch', '0'), ('Ticket', '349223'), ('Fare', '7.8958'), ('Cabin', ''), ('Embarked', 'S')])\n",
            "OrderedDict([('PassengerId', '658'), ('Perished', '1'), ('Pclass', '3'), ('Name', 'Bourke, Mrs. John (Catherine)'), ('Sex', 'female'), ('Age', '32.0'), ('SibSp', '1'), ('Parch', '1'), ('Ticket', '364849'), ('Fare', '15.5'), ('Cabin', ''), ('Embarked', 'Q')])\n",
            "OrderedDict([('PassengerId', '659'), ('Perished', '1'), ('Pclass', '2'), ('Name', 'Eitemiller, Mr. George Floyd'), ('Sex', 'male'), ('Age', '23.0'), ('SibSp', '0'), ('Parch', '0'), ('Ticket', '29751'), ('Fare', '13.0'), ('Cabin', ''), ('Embarked', 'S')])\n",
            "OrderedDict([('PassengerId', '660'), ('Perished', '1'), ('Pclass', '1'), ('Name', 'Newell, Mr. Arthur Webster'), ('Sex', 'male'), ('Age', '58.0'), ('SibSp', '0'), ('Parch', '2'), ('Ticket', '35273'), ('Fare', '113.275'), ('Cabin', 'D48'), ('Embarked', 'C')])\n",
            "OrderedDict([('PassengerId', '661'), ('Perished', '0'), ('Pclass', '1'), ('Name', 'Frauenthal, Dr. Henry William'), ('Sex', 'male'), ('Age', '50.0'), ('SibSp', '2'), ('Parch', '0'), ('Ticket', 'PC 17611'), ('Fare', '133.65'), ('Cabin', ''), ('Embarked', 'S')])\n",
            "OrderedDict([('PassengerId', '662'), ('Perished', '1'), ('Pclass', '3'), ('Name', 'Badt, Mr. Mohamed'), ('Sex', 'male'), ('Age', '40.0'), ('SibSp', '0'), ('Parch', '0'), ('Ticket', '2623'), ('Fare', '7.225'), ('Cabin', ''), ('Embarked', 'C')])\n",
            "OrderedDict([('PassengerId', '663'), ('Perished', '1'), ('Pclass', '1'), ('Name', 'Colley, Mr. Edward Pomeroy'), ('Sex', 'male'), ('Age', '47.0'), ('SibSp', '0'), ('Parch', '0'), ('Ticket', '5727'), ('Fare', '25.5875'), ('Cabin', 'E58'), ('Embarked', 'S')])\n",
            "OrderedDict([('PassengerId', '664'), ('Perished', '1'), ('Pclass', '3'), ('Name', 'Coleff, Mr. Peju'), ('Sex', 'male'), ('Age', '36.0'), ('SibSp', '0'), ('Parch', '0'), ('Ticket', '349210'), ('Fare', '7.4958'), ('Cabin', ''), ('Embarked', 'S')])\n",
            "OrderedDict([('PassengerId', '665'), ('Perished', '0'), ('Pclass', '3'), ('Name', 'Lindqvist, Mr. Eino William'), ('Sex', 'male'), ('Age', '20.0'), ('SibSp', '1'), ('Parch', '0'), ('Ticket', 'STON/O 2. 3101285'), ('Fare', '7.925'), ('Cabin', ''), ('Embarked', 'S')])\n",
            "OrderedDict([('PassengerId', '666'), ('Perished', '1'), ('Pclass', '2'), ('Name', 'Hickman, Mr. Lewis'), ('Sex', 'male'), ('Age', '32.0'), ('SibSp', '2'), ('Parch', '0'), ('Ticket', 'S.O.C. 14879'), ('Fare', '73.5'), ('Cabin', ''), ('Embarked', 'S')])\n",
            "OrderedDict([('PassengerId', '667'), ('Perished', '1'), ('Pclass', '2'), ('Name', 'Butler, Mr. Reginald Fenton'), ('Sex', 'male'), ('Age', '25.0'), ('SibSp', '0'), ('Parch', '0'), ('Ticket', '234686'), ('Fare', '13.0'), ('Cabin', ''), ('Embarked', 'S')])\n",
            "OrderedDict([('PassengerId', '668'), ('Perished', '1'), ('Pclass', '3'), ('Name', 'Rommetvedt, Mr. Knud Paust'), ('Sex', 'male'), ('Age', ''), ('SibSp', '0'), ('Parch', '0'), ('Ticket', '312993'), ('Fare', '7.775'), ('Cabin', ''), ('Embarked', 'S')])\n",
            "OrderedDict([('PassengerId', '669'), ('Perished', '1'), ('Pclass', '3'), ('Name', 'Cook, Mr. Jacob'), ('Sex', 'male'), ('Age', '43.0'), ('SibSp', '0'), ('Parch', '0'), ('Ticket', 'A/5 3536'), ('Fare', '8.05'), ('Cabin', ''), ('Embarked', 'S')])\n",
            "OrderedDict([('PassengerId', '670'), ('Perished', '0'), ('Pclass', '1'), ('Name', 'Taylor, Mrs. Elmer Zebley (Juliet Cummins Wright)'), ('Sex', 'female'), ('Age', ''), ('SibSp', '1'), ('Parch', '0'), ('Ticket', '19996'), ('Fare', '52.0'), ('Cabin', 'C126'), ('Embarked', 'S')])\n",
            "OrderedDict([('PassengerId', '671'), ('Perished', '0'), ('Pclass', '2'), ('Name', 'Brown, Mrs. Thomas William Solomon (Elizabeth Catherine Ford)'), ('Sex', 'female'), ('Age', '40.0'), ('SibSp', '1'), ('Parch', '1'), ('Ticket', '29750'), ('Fare', '39.0'), ('Cabin', ''), ('Embarked', 'S')])\n",
            "OrderedDict([('PassengerId', '672'), ('Perished', '1'), ('Pclass', '1'), ('Name', 'Davidson, Mr. Thornton'), ('Sex', 'male'), ('Age', '31.0'), ('SibSp', '1'), ('Parch', '0'), ('Ticket', 'F.C. 12750'), ('Fare', '52.0'), ('Cabin', 'B71'), ('Embarked', 'S')])\n",
            "OrderedDict([('PassengerId', '673'), ('Perished', '1'), ('Pclass', '2'), ('Name', 'Mitchell, Mr. Henry Michael'), ('Sex', 'male'), ('Age', '70.0'), ('SibSp', '0'), ('Parch', '0'), ('Ticket', 'C.A. 24580'), ('Fare', '10.5'), ('Cabin', ''), ('Embarked', 'S')])\n",
            "OrderedDict([('PassengerId', '674'), ('Perished', '0'), ('Pclass', '2'), ('Name', 'Wilhelms, Mr. Charles'), ('Sex', 'male'), ('Age', '31.0'), ('SibSp', '0'), ('Parch', '0'), ('Ticket', '244270'), ('Fare', '13.0'), ('Cabin', ''), ('Embarked', 'S')])\n",
            "OrderedDict([('PassengerId', '675'), ('Perished', '1'), ('Pclass', '2'), ('Name', 'Watson, Mr. Ennis Hastings'), ('Sex', 'male'), ('Age', ''), ('SibSp', '0'), ('Parch', '0'), ('Ticket', '239856'), ('Fare', '0.0'), ('Cabin', ''), ('Embarked', 'S')])\n",
            "OrderedDict([('PassengerId', '676'), ('Perished', '1'), ('Pclass', '3'), ('Name', 'Edvardsson, Mr. Gustaf Hjalmar'), ('Sex', 'male'), ('Age', '18.0'), ('SibSp', '0'), ('Parch', '0'), ('Ticket', '349912'), ('Fare', '7.775'), ('Cabin', ''), ('Embarked', 'S')])\n",
            "OrderedDict([('PassengerId', '677'), ('Perished', '1'), ('Pclass', '3'), ('Name', 'Sawyer, Mr. Frederick Charles'), ('Sex', 'male'), ('Age', '24.5'), ('SibSp', '0'), ('Parch', '0'), ('Ticket', '342826'), ('Fare', '8.05'), ('Cabin', ''), ('Embarked', 'S')])\n",
            "OrderedDict([('PassengerId', '678'), ('Perished', '0'), ('Pclass', '3'), ('Name', 'Turja, Miss. Anna Sofia'), ('Sex', 'female'), ('Age', '18.0'), ('SibSp', '0'), ('Parch', '0'), ('Ticket', '4138'), ('Fare', '9.8417'), ('Cabin', ''), ('Embarked', 'S')])\n",
            "OrderedDict([('PassengerId', '679'), ('Perished', '1'), ('Pclass', '3'), ('Name', 'Goodwin, Mrs. Frederick (Augusta Tyler)'), ('Sex', 'female'), ('Age', '43.0'), ('SibSp', '1'), ('Parch', '6'), ('Ticket', 'CA 2144'), ('Fare', '46.9'), ('Cabin', ''), ('Embarked', 'S')])\n",
            "OrderedDict([('PassengerId', '680'), ('Perished', '0'), ('Pclass', '1'), ('Name', 'Cardeza, Mr. Thomas Drake Martinez'), ('Sex', 'male'), ('Age', '36.0'), ('SibSp', '0'), ('Parch', '1'), ('Ticket', 'PC 17755'), ('Fare', '512.3292'), ('Cabin', 'B51 B53 B55'), ('Embarked', 'C')])\n",
            "OrderedDict([('PassengerId', '681'), ('Perished', '1'), ('Pclass', '3'), ('Name', 'Peters, Miss. Katie'), ('Sex', 'female'), ('Age', ''), ('SibSp', '0'), ('Parch', '0'), ('Ticket', '330935'), ('Fare', '8.1375'), ('Cabin', ''), ('Embarked', 'Q')])\n",
            "OrderedDict([('PassengerId', '682'), ('Perished', '0'), ('Pclass', '1'), ('Name', 'Hassab, Mr. Hammad'), ('Sex', 'male'), ('Age', '27.0'), ('SibSp', '0'), ('Parch', '0'), ('Ticket', 'PC 17572'), ('Fare', '76.7292'), ('Cabin', 'D49'), ('Embarked', 'C')])\n",
            "OrderedDict([('PassengerId', '683'), ('Perished', '1'), ('Pclass', '3'), ('Name', 'Olsvigen, Mr. Thor Anderson'), ('Sex', 'male'), ('Age', '20.0'), ('SibSp', '0'), ('Parch', '0'), ('Ticket', '6563'), ('Fare', '9.225'), ('Cabin', ''), ('Embarked', 'S')])\n",
            "OrderedDict([('PassengerId', '684'), ('Perished', '1'), ('Pclass', '3'), ('Name', 'Goodwin, Mr. Charles Edward'), ('Sex', 'male'), ('Age', '14.0'), ('SibSp', '5'), ('Parch', '2'), ('Ticket', 'CA 2144'), ('Fare', '46.9'), ('Cabin', ''), ('Embarked', 'S')])\n",
            "OrderedDict([('PassengerId', '685'), ('Perished', '1'), ('Pclass', '2'), ('Name', 'Brown, Mr. Thomas William Solomon'), ('Sex', 'male'), ('Age', '60.0'), ('SibSp', '1'), ('Parch', '1'), ('Ticket', '29750'), ('Fare', '39.0'), ('Cabin', ''), ('Embarked', 'S')])\n",
            "OrderedDict([('PassengerId', '686'), ('Perished', '1'), ('Pclass', '2'), ('Name', 'Laroche, Mr. Joseph Philippe Lemercier'), ('Sex', 'male'), ('Age', '25.0'), ('SibSp', '1'), ('Parch', '2'), ('Ticket', 'SC/Paris 2123'), ('Fare', '41.5792'), ('Cabin', ''), ('Embarked', 'C')])\n",
            "OrderedDict([('PassengerId', '687'), ('Perished', '1'), ('Pclass', '3'), ('Name', 'Panula, Mr. Jaako Arnold'), ('Sex', 'male'), ('Age', '14.0'), ('SibSp', '4'), ('Parch', '1'), ('Ticket', '3101295'), ('Fare', '39.6875'), ('Cabin', ''), ('Embarked', 'S')])\n",
            "OrderedDict([('PassengerId', '688'), ('Perished', '1'), ('Pclass', '3'), ('Name', 'Dakic, Mr. Branko'), ('Sex', 'male'), ('Age', '19.0'), ('SibSp', '0'), ('Parch', '0'), ('Ticket', '349228'), ('Fare', '10.1708'), ('Cabin', ''), ('Embarked', 'S')])\n",
            "OrderedDict([('PassengerId', '689'), ('Perished', '1'), ('Pclass', '3'), ('Name', 'Fischer, Mr. Eberhard Thelander'), ('Sex', 'male'), ('Age', '18.0'), ('SibSp', '0'), ('Parch', '0'), ('Ticket', '350036'), ('Fare', '7.7958'), ('Cabin', ''), ('Embarked', 'S')])\n",
            "OrderedDict([('PassengerId', '690'), ('Perished', '0'), ('Pclass', '1'), ('Name', 'Madill, Miss. Georgette Alexandra'), ('Sex', 'female'), ('Age', '15.0'), ('SibSp', '0'), ('Parch', '1'), ('Ticket', '24160'), ('Fare', '211.3375'), ('Cabin', 'B5'), ('Embarked', 'S')])\n",
            "OrderedDict([('PassengerId', '691'), ('Perished', '0'), ('Pclass', '1'), ('Name', 'Dick, Mr. Albert Adrian'), ('Sex', 'male'), ('Age', '31.0'), ('SibSp', '1'), ('Parch', '0'), ('Ticket', '17474'), ('Fare', '57.0'), ('Cabin', 'B20'), ('Embarked', 'S')])\n",
            "OrderedDict([('PassengerId', '692'), ('Perished', '0'), ('Pclass', '3'), ('Name', 'Karun, Miss. Manca'), ('Sex', 'female'), ('Age', '4.0'), ('SibSp', '0'), ('Parch', '1'), ('Ticket', '349256'), ('Fare', '13.4167'), ('Cabin', ''), ('Embarked', 'C')])\n",
            "OrderedDict([('PassengerId', '693'), ('Perished', '0'), ('Pclass', '3'), ('Name', 'Lam, Mr. Ali'), ('Sex', 'male'), ('Age', ''), ('SibSp', '0'), ('Parch', '0'), ('Ticket', '1601'), ('Fare', '56.4958'), ('Cabin', ''), ('Embarked', 'S')])\n",
            "OrderedDict([('PassengerId', '694'), ('Perished', '1'), ('Pclass', '3'), ('Name', 'Saad, Mr. Khalil'), ('Sex', 'male'), ('Age', '25.0'), ('SibSp', '0'), ('Parch', '0'), ('Ticket', '2672'), ('Fare', '7.225'), ('Cabin', ''), ('Embarked', 'C')])\n",
            "OrderedDict([('PassengerId', '695'), ('Perished', '1'), ('Pclass', '1'), ('Name', 'Weir, Col. John'), ('Sex', 'male'), ('Age', '60.0'), ('SibSp', '0'), ('Parch', '0'), ('Ticket', '113800'), ('Fare', '26.55'), ('Cabin', ''), ('Embarked', 'S')])\n",
            "OrderedDict([('PassengerId', '696'), ('Perished', '1'), ('Pclass', '2'), ('Name', 'Chapman, Mr. Charles Henry'), ('Sex', 'male'), ('Age', '52.0'), ('SibSp', '0'), ('Parch', '0'), ('Ticket', '248731'), ('Fare', '13.5'), ('Cabin', ''), ('Embarked', 'S')])\n",
            "OrderedDict([('PassengerId', '697'), ('Perished', '1'), ('Pclass', '3'), ('Name', 'Kelly, Mr. James'), ('Sex', 'male'), ('Age', '44.0'), ('SibSp', '0'), ('Parch', '0'), ('Ticket', '363592'), ('Fare', '8.05'), ('Cabin', ''), ('Embarked', 'S')])\n",
            "OrderedDict([('PassengerId', '698'), ('Perished', '0'), ('Pclass', '3'), ('Name', 'Mullens, Miss. Katherine \"Katie\"'), ('Sex', 'female'), ('Age', ''), ('SibSp', '0'), ('Parch', '0'), ('Ticket', '35852'), ('Fare', '7.7333'), ('Cabin', ''), ('Embarked', 'Q')])\n",
            "OrderedDict([('PassengerId', '699'), ('Perished', '1'), ('Pclass', '1'), ('Name', 'Thayer, Mr. John Borland'), ('Sex', 'male'), ('Age', '49.0'), ('SibSp', '1'), ('Parch', '1'), ('Ticket', '17421'), ('Fare', '110.8833'), ('Cabin', 'C68'), ('Embarked', 'C')])\n",
            "OrderedDict([('PassengerId', '700'), ('Perished', '1'), ('Pclass', '3'), ('Name', 'Humblen, Mr. Adolf Mathias Nicolai Olsen'), ('Sex', 'male'), ('Age', '42.0'), ('SibSp', '0'), ('Parch', '0'), ('Ticket', '348121'), ('Fare', '7.65'), ('Cabin', 'F G63'), ('Embarked', 'S')])\n",
            "OrderedDict([('PassengerId', '701'), ('Perished', '0'), ('Pclass', '1'), ('Name', 'Astor, Mrs. John Jacob (Madeleine Talmadge Force)'), ('Sex', 'female'), ('Age', '18.0'), ('SibSp', '1'), ('Parch', '0'), ('Ticket', 'PC 17757'), ('Fare', '227.525'), ('Cabin', 'C62 C64'), ('Embarked', 'C')])\n",
            "OrderedDict([('PassengerId', '702'), ('Perished', '0'), ('Pclass', '1'), ('Name', 'Silverthorne, Mr. Spencer Victor'), ('Sex', 'male'), ('Age', '35.0'), ('SibSp', '0'), ('Parch', '0'), ('Ticket', 'PC 17475'), ('Fare', '26.2875'), ('Cabin', 'E24'), ('Embarked', 'S')])\n",
            "OrderedDict([('PassengerId', '703'), ('Perished', '1'), ('Pclass', '3'), ('Name', 'Barbara, Miss. Saiide'), ('Sex', 'female'), ('Age', '18.0'), ('SibSp', '0'), ('Parch', '1'), ('Ticket', '2691'), ('Fare', '14.4542'), ('Cabin', ''), ('Embarked', 'C')])\n",
            "OrderedDict([('PassengerId', '704'), ('Perished', '1'), ('Pclass', '3'), ('Name', 'Gallagher, Mr. Martin'), ('Sex', 'male'), ('Age', '25.0'), ('SibSp', '0'), ('Parch', '0'), ('Ticket', '36864'), ('Fare', '7.7417'), ('Cabin', ''), ('Embarked', 'Q')])\n",
            "OrderedDict([('PassengerId', '705'), ('Perished', '1'), ('Pclass', '3'), ('Name', 'Hansen, Mr. Henrik Juul'), ('Sex', 'male'), ('Age', '26.0'), ('SibSp', '1'), ('Parch', '0'), ('Ticket', '350025'), ('Fare', '7.8542'), ('Cabin', ''), ('Embarked', 'S')])\n",
            "OrderedDict([('PassengerId', '706'), ('Perished', '1'), ('Pclass', '2'), ('Name', 'Morley, Mr. Henry Samuel (\"Mr Henry Marshall\")'), ('Sex', 'male'), ('Age', '39.0'), ('SibSp', '0'), ('Parch', '0'), ('Ticket', '250655'), ('Fare', '26.0'), ('Cabin', ''), ('Embarked', 'S')])\n",
            "OrderedDict([('PassengerId', '707'), ('Perished', '0'), ('Pclass', '2'), ('Name', 'Kelly, Mrs. Florence \"Fannie\"'), ('Sex', 'female'), ('Age', '45.0'), ('SibSp', '0'), ('Parch', '0'), ('Ticket', '223596'), ('Fare', '13.5'), ('Cabin', ''), ('Embarked', 'S')])\n",
            "OrderedDict([('PassengerId', '708'), ('Perished', '0'), ('Pclass', '1'), ('Name', 'Calderhead, Mr. Edward Pennington'), ('Sex', 'male'), ('Age', '42.0'), ('SibSp', '0'), ('Parch', '0'), ('Ticket', 'PC 17476'), ('Fare', '26.2875'), ('Cabin', 'E24'), ('Embarked', 'S')])\n",
            "OrderedDict([('PassengerId', '709'), ('Perished', '0'), ('Pclass', '1'), ('Name', 'Cleaver, Miss. Alice'), ('Sex', 'female'), ('Age', '22.0'), ('SibSp', '0'), ('Parch', '0'), ('Ticket', '113781'), ('Fare', '151.55'), ('Cabin', ''), ('Embarked', 'S')])\n",
            "OrderedDict([('PassengerId', '710'), ('Perished', '0'), ('Pclass', '3'), ('Name', 'Moubarek, Master. Halim Gonios (\"William George\")'), ('Sex', 'male'), ('Age', ''), ('SibSp', '1'), ('Parch', '1'), ('Ticket', '2661'), ('Fare', '15.2458'), ('Cabin', ''), ('Embarked', 'C')])\n",
            "OrderedDict([('PassengerId', '711'), ('Perished', '0'), ('Pclass', '1'), ('Name', 'Mayne, Mlle. Berthe Antonine (\"Mrs de Villiers\")'), ('Sex', 'female'), ('Age', '24.0'), ('SibSp', '0'), ('Parch', '0'), ('Ticket', 'PC 17482'), ('Fare', '49.5042'), ('Cabin', 'C90'), ('Embarked', 'C')])\n",
            "OrderedDict([('PassengerId', '712'), ('Perished', '1'), ('Pclass', '1'), ('Name', 'Klaber, Mr. Herman'), ('Sex', 'male'), ('Age', ''), ('SibSp', '0'), ('Parch', '0'), ('Ticket', '113028'), ('Fare', '26.55'), ('Cabin', 'C124'), ('Embarked', 'S')])\n",
            "OrderedDict([('PassengerId', '713'), ('Perished', '0'), ('Pclass', '1'), ('Name', 'Taylor, Mr. Elmer Zebley'), ('Sex', 'male'), ('Age', '48.0'), ('SibSp', '1'), ('Parch', '0'), ('Ticket', '19996'), ('Fare', '52.0'), ('Cabin', 'C126'), ('Embarked', 'S')])\n",
            "OrderedDict([('PassengerId', '714'), ('Perished', '1'), ('Pclass', '3'), ('Name', 'Larsson, Mr. August Viktor'), ('Sex', 'male'), ('Age', '29.0'), ('SibSp', '0'), ('Parch', '0'), ('Ticket', '7545'), ('Fare', '9.4833'), ('Cabin', ''), ('Embarked', 'S')])\n",
            "OrderedDict([('PassengerId', '715'), ('Perished', '1'), ('Pclass', '2'), ('Name', 'Greenberg, Mr. Samuel'), ('Sex', 'male'), ('Age', '52.0'), ('SibSp', '0'), ('Parch', '0'), ('Ticket', '250647'), ('Fare', '13.0'), ('Cabin', ''), ('Embarked', 'S')])\n",
            "OrderedDict([('PassengerId', '716'), ('Perished', '1'), ('Pclass', '3'), ('Name', 'Soholt, Mr. Peter Andreas Lauritz Andersen'), ('Sex', 'male'), ('Age', '19.0'), ('SibSp', '0'), ('Parch', '0'), ('Ticket', '348124'), ('Fare', '7.65'), ('Cabin', 'F G73'), ('Embarked', 'S')])\n",
            "OrderedDict([('PassengerId', '717'), ('Perished', '0'), ('Pclass', '1'), ('Name', 'Endres, Miss. Caroline Louise'), ('Sex', 'female'), ('Age', '38.0'), ('SibSp', '0'), ('Parch', '0'), ('Ticket', 'PC 17757'), ('Fare', '227.525'), ('Cabin', 'C45'), ('Embarked', 'C')])\n",
            "OrderedDict([('PassengerId', '718'), ('Perished', '0'), ('Pclass', '2'), ('Name', 'Troutt, Miss. Edwina Celia \"Winnie\"'), ('Sex', 'female'), ('Age', '27.0'), ('SibSp', '0'), ('Parch', '0'), ('Ticket', '34218'), ('Fare', '10.5'), ('Cabin', 'E101'), ('Embarked', 'S')])\n",
            "OrderedDict([('PassengerId', '719'), ('Perished', '1'), ('Pclass', '3'), ('Name', 'McEvoy, Mr. Michael'), ('Sex', 'male'), ('Age', ''), ('SibSp', '0'), ('Parch', '0'), ('Ticket', '36568'), ('Fare', '15.5'), ('Cabin', ''), ('Embarked', 'Q')])\n",
            "OrderedDict([('PassengerId', '720'), ('Perished', '1'), ('Pclass', '3'), ('Name', 'Johnson, Mr. Malkolm Joackim'), ('Sex', 'male'), ('Age', '33.0'), ('SibSp', '0'), ('Parch', '0'), ('Ticket', '347062'), ('Fare', '7.775'), ('Cabin', ''), ('Embarked', 'S')])\n",
            "OrderedDict([('PassengerId', '721'), ('Perished', '0'), ('Pclass', '2'), ('Name', 'Harper, Miss. Annie Jessie \"Nina\"'), ('Sex', 'female'), ('Age', '6.0'), ('SibSp', '0'), ('Parch', '1'), ('Ticket', '248727'), ('Fare', '33.0'), ('Cabin', ''), ('Embarked', 'S')])\n",
            "OrderedDict([('PassengerId', '722'), ('Perished', '1'), ('Pclass', '3'), ('Name', 'Jensen, Mr. Svend Lauritz'), ('Sex', 'male'), ('Age', '17.0'), ('SibSp', '1'), ('Parch', '0'), ('Ticket', '350048'), ('Fare', '7.0542'), ('Cabin', ''), ('Embarked', 'S')])\n",
            "OrderedDict([('PassengerId', '723'), ('Perished', '1'), ('Pclass', '2'), ('Name', 'Gillespie, Mr. William Henry'), ('Sex', 'male'), ('Age', '34.0'), ('SibSp', '0'), ('Parch', '0'), ('Ticket', '12233'), ('Fare', '13.0'), ('Cabin', ''), ('Embarked', 'S')])\n",
            "OrderedDict([('PassengerId', '724'), ('Perished', '1'), ('Pclass', '2'), ('Name', 'Hodges, Mr. Henry Price'), ('Sex', 'male'), ('Age', '50.0'), ('SibSp', '0'), ('Parch', '0'), ('Ticket', '250643'), ('Fare', '13.0'), ('Cabin', ''), ('Embarked', 'S')])\n",
            "OrderedDict([('PassengerId', '725'), ('Perished', '0'), ('Pclass', '1'), ('Name', 'Chambers, Mr. Norman Campbell'), ('Sex', 'male'), ('Age', '27.0'), ('SibSp', '1'), ('Parch', '0'), ('Ticket', '113806'), ('Fare', '53.1'), ('Cabin', 'E8'), ('Embarked', 'S')])\n",
            "OrderedDict([('PassengerId', '726'), ('Perished', '1'), ('Pclass', '3'), ('Name', 'Oreskovic, Mr. Luka'), ('Sex', 'male'), ('Age', '20.0'), ('SibSp', '0'), ('Parch', '0'), ('Ticket', '315094'), ('Fare', '8.6625'), ('Cabin', ''), ('Embarked', 'S')])\n",
            "OrderedDict([('PassengerId', '727'), ('Perished', '0'), ('Pclass', '2'), ('Name', 'Renouf, Mrs. Peter Henry (Lillian Jefferys)'), ('Sex', 'female'), ('Age', '30.0'), ('SibSp', '3'), ('Parch', '0'), ('Ticket', '31027'), ('Fare', '21.0'), ('Cabin', ''), ('Embarked', 'S')])\n",
            "OrderedDict([('PassengerId', '728'), ('Perished', '0'), ('Pclass', '3'), ('Name', 'Mannion, Miss. Margareth'), ('Sex', 'female'), ('Age', ''), ('SibSp', '0'), ('Parch', '0'), ('Ticket', '36866'), ('Fare', '7.7375'), ('Cabin', ''), ('Embarked', 'Q')])\n",
            "OrderedDict([('PassengerId', '729'), ('Perished', '1'), ('Pclass', '2'), ('Name', 'Bryhl, Mr. Kurt Arnold Gottfrid'), ('Sex', 'male'), ('Age', '25.0'), ('SibSp', '1'), ('Parch', '0'), ('Ticket', '236853'), ('Fare', '26.0'), ('Cabin', ''), ('Embarked', 'S')])\n",
            "OrderedDict([('PassengerId', '730'), ('Perished', '1'), ('Pclass', '3'), ('Name', 'Ilmakangas, Miss. Pieta Sofia'), ('Sex', 'female'), ('Age', '25.0'), ('SibSp', '1'), ('Parch', '0'), ('Ticket', 'STON/O2. 3101271'), ('Fare', '7.925'), ('Cabin', ''), ('Embarked', 'S')])\n",
            "OrderedDict([('PassengerId', '731'), ('Perished', '0'), ('Pclass', '1'), ('Name', 'Allen, Miss. Elisabeth Walton'), ('Sex', 'female'), ('Age', '29.0'), ('SibSp', '0'), ('Parch', '0'), ('Ticket', '24160'), ('Fare', '211.3375'), ('Cabin', 'B5'), ('Embarked', 'S')])\n",
            "OrderedDict([('PassengerId', '732'), ('Perished', '1'), ('Pclass', '3'), ('Name', 'Hassan, Mr. Houssein G N'), ('Sex', 'male'), ('Age', '11.0'), ('SibSp', '0'), ('Parch', '0'), ('Ticket', '2699'), ('Fare', '18.7875'), ('Cabin', ''), ('Embarked', 'C')])\n",
            "OrderedDict([('PassengerId', '733'), ('Perished', '1'), ('Pclass', '2'), ('Name', 'Knight, Mr. Robert J'), ('Sex', 'male'), ('Age', ''), ('SibSp', '0'), ('Parch', '0'), ('Ticket', '239855'), ('Fare', '0.0'), ('Cabin', ''), ('Embarked', 'S')])\n",
            "OrderedDict([('PassengerId', '734'), ('Perished', '1'), ('Pclass', '2'), ('Name', 'Berriman, Mr. William John'), ('Sex', 'male'), ('Age', '23.0'), ('SibSp', '0'), ('Parch', '0'), ('Ticket', '28425'), ('Fare', '13.0'), ('Cabin', ''), ('Embarked', 'S')])\n",
            "OrderedDict([('PassengerId', '735'), ('Perished', '1'), ('Pclass', '2'), ('Name', 'Troupiansky, Mr. Moses Aaron'), ('Sex', 'male'), ('Age', '23.0'), ('SibSp', '0'), ('Parch', '0'), ('Ticket', '233639'), ('Fare', '13.0'), ('Cabin', ''), ('Embarked', 'S')])\n",
            "OrderedDict([('PassengerId', '736'), ('Perished', '1'), ('Pclass', '3'), ('Name', 'Williams, Mr. Leslie'), ('Sex', 'male'), ('Age', '28.5'), ('SibSp', '0'), ('Parch', '0'), ('Ticket', '54636'), ('Fare', '16.1'), ('Cabin', ''), ('Embarked', 'S')])\n",
            "OrderedDict([('PassengerId', '737'), ('Perished', '1'), ('Pclass', '3'), ('Name', 'Ford, Mrs. Edward (Margaret Ann Watson)'), ('Sex', 'female'), ('Age', '48.0'), ('SibSp', '1'), ('Parch', '3'), ('Ticket', 'W./C. 6608'), ('Fare', '34.375'), ('Cabin', ''), ('Embarked', 'S')])\n",
            "OrderedDict([('PassengerId', '738'), ('Perished', '0'), ('Pclass', '1'), ('Name', 'Lesurer, Mr. Gustave J'), ('Sex', 'male'), ('Age', '35.0'), ('SibSp', '0'), ('Parch', '0'), ('Ticket', 'PC 17755'), ('Fare', '512.3292'), ('Cabin', 'B101'), ('Embarked', 'C')])\n",
            "OrderedDict([('PassengerId', '739'), ('Perished', '1'), ('Pclass', '3'), ('Name', 'Ivanoff, Mr. Kanio'), ('Sex', 'male'), ('Age', ''), ('SibSp', '0'), ('Parch', '0'), ('Ticket', '349201'), ('Fare', '7.8958'), ('Cabin', ''), ('Embarked', 'S')])\n",
            "OrderedDict([('PassengerId', '740'), ('Perished', '1'), ('Pclass', '3'), ('Name', 'Nankoff, Mr. Minko'), ('Sex', 'male'), ('Age', ''), ('SibSp', '0'), ('Parch', '0'), ('Ticket', '349218'), ('Fare', '7.8958'), ('Cabin', ''), ('Embarked', 'S')])\n",
            "OrderedDict([('PassengerId', '741'), ('Perished', '0'), ('Pclass', '1'), ('Name', 'Hawksford, Mr. Walter James'), ('Sex', 'male'), ('Age', ''), ('SibSp', '0'), ('Parch', '0'), ('Ticket', '16988'), ('Fare', '30.0'), ('Cabin', 'D45'), ('Embarked', 'S')])\n",
            "OrderedDict([('PassengerId', '742'), ('Perished', '1'), ('Pclass', '1'), ('Name', 'Cavendish, Mr. Tyrell William'), ('Sex', 'male'), ('Age', '36.0'), ('SibSp', '1'), ('Parch', '0'), ('Ticket', '19877'), ('Fare', '78.85'), ('Cabin', 'C46'), ('Embarked', 'S')])\n",
            "OrderedDict([('PassengerId', '743'), ('Perished', '0'), ('Pclass', '1'), ('Name', 'Ryerson, Miss. Susan Parker \"Suzette\"'), ('Sex', 'female'), ('Age', '21.0'), ('SibSp', '2'), ('Parch', '2'), ('Ticket', 'PC 17608'), ('Fare', '262.375'), ('Cabin', 'B57 B59 B63 B66'), ('Embarked', 'C')])\n",
            "OrderedDict([('PassengerId', '744'), ('Perished', '1'), ('Pclass', '3'), ('Name', 'McNamee, Mr. Neal'), ('Sex', 'male'), ('Age', '24.0'), ('SibSp', '1'), ('Parch', '0'), ('Ticket', '376566'), ('Fare', '16.1'), ('Cabin', ''), ('Embarked', 'S')])\n",
            "OrderedDict([('PassengerId', '745'), ('Perished', '0'), ('Pclass', '3'), ('Name', 'Stranden, Mr. Juho'), ('Sex', 'male'), ('Age', '31.0'), ('SibSp', '0'), ('Parch', '0'), ('Ticket', 'STON/O 2. 3101288'), ('Fare', '7.925'), ('Cabin', ''), ('Embarked', 'S')])\n",
            "OrderedDict([('PassengerId', '746'), ('Perished', '1'), ('Pclass', '1'), ('Name', 'Crosby, Capt. Edward Gifford'), ('Sex', 'male'), ('Age', '70.0'), ('SibSp', '1'), ('Parch', '1'), ('Ticket', 'WE/P 5735'), ('Fare', '71.0'), ('Cabin', 'B22'), ('Embarked', 'S')])\n",
            "OrderedDict([('PassengerId', '747'), ('Perished', '1'), ('Pclass', '3'), ('Name', 'Abbott, Mr. Rossmore Edward'), ('Sex', 'male'), ('Age', '16.0'), ('SibSp', '1'), ('Parch', '1'), ('Ticket', 'C.A. 2673'), ('Fare', '20.25'), ('Cabin', ''), ('Embarked', 'S')])\n",
            "OrderedDict([('PassengerId', '748'), ('Perished', '0'), ('Pclass', '2'), ('Name', 'Sinkkonen, Miss. Anna'), ('Sex', 'female'), ('Age', '30.0'), ('SibSp', '0'), ('Parch', '0'), ('Ticket', '250648'), ('Fare', '13.0'), ('Cabin', ''), ('Embarked', 'S')])\n",
            "OrderedDict([('PassengerId', '749'), ('Perished', '1'), ('Pclass', '1'), ('Name', 'Marvin, Mr. Daniel Warner'), ('Sex', 'male'), ('Age', '19.0'), ('SibSp', '1'), ('Parch', '0'), ('Ticket', '113773'), ('Fare', '53.1'), ('Cabin', 'D30'), ('Embarked', 'S')])\n",
            "OrderedDict([('PassengerId', '750'), ('Perished', '1'), ('Pclass', '3'), ('Name', 'Connaghton, Mr. Michael'), ('Sex', 'male'), ('Age', '31.0'), ('SibSp', '0'), ('Parch', '0'), ('Ticket', '335097'), ('Fare', '7.75'), ('Cabin', ''), ('Embarked', 'Q')])\n",
            "OrderedDict([('PassengerId', '751'), ('Perished', '0'), ('Pclass', '2'), ('Name', 'Wells, Miss. Joan'), ('Sex', 'female'), ('Age', '4.0'), ('SibSp', '1'), ('Parch', '1'), ('Ticket', '29103'), ('Fare', '23.0'), ('Cabin', ''), ('Embarked', 'S')])\n",
            "OrderedDict([('PassengerId', '752'), ('Perished', '0'), ('Pclass', '3'), ('Name', 'Moor, Master. Meier'), ('Sex', 'male'), ('Age', '6.0'), ('SibSp', '0'), ('Parch', '1'), ('Ticket', '392096'), ('Fare', '12.475'), ('Cabin', 'E121'), ('Embarked', 'S')])\n",
            "OrderedDict([('PassengerId', '753'), ('Perished', '1'), ('Pclass', '3'), ('Name', 'Vande Velde, Mr. Johannes Joseph'), ('Sex', 'male'), ('Age', '33.0'), ('SibSp', '0'), ('Parch', '0'), ('Ticket', '345780'), ('Fare', '9.5'), ('Cabin', ''), ('Embarked', 'S')])\n",
            "OrderedDict([('PassengerId', '754'), ('Perished', '1'), ('Pclass', '3'), ('Name', 'Jonkoff, Mr. Lalio'), ('Sex', 'male'), ('Age', '23.0'), ('SibSp', '0'), ('Parch', '0'), ('Ticket', '349204'), ('Fare', '7.8958'), ('Cabin', ''), ('Embarked', 'S')])\n",
            "OrderedDict([('PassengerId', '755'), ('Perished', '0'), ('Pclass', '2'), ('Name', 'Herman, Mrs. Samuel (Jane Laver)'), ('Sex', 'female'), ('Age', '48.0'), ('SibSp', '1'), ('Parch', '2'), ('Ticket', '220845'), ('Fare', '65.0'), ('Cabin', ''), ('Embarked', 'S')])\n",
            "OrderedDict([('PassengerId', '756'), ('Perished', '0'), ('Pclass', '2'), ('Name', 'Hamalainen, Master. Viljo'), ('Sex', 'male'), ('Age', '0.67'), ('SibSp', '1'), ('Parch', '1'), ('Ticket', '250649'), ('Fare', '14.5'), ('Cabin', ''), ('Embarked', 'S')])\n",
            "OrderedDict([('PassengerId', '757'), ('Perished', '1'), ('Pclass', '3'), ('Name', 'Carlsson, Mr. August Sigfrid'), ('Sex', 'male'), ('Age', '28.0'), ('SibSp', '0'), ('Parch', '0'), ('Ticket', '350042'), ('Fare', '7.7958'), ('Cabin', ''), ('Embarked', 'S')])\n",
            "OrderedDict([('PassengerId', '758'), ('Perished', '1'), ('Pclass', '2'), ('Name', 'Bailey, Mr. Percy Andrew'), ('Sex', 'male'), ('Age', '18.0'), ('SibSp', '0'), ('Parch', '0'), ('Ticket', '29108'), ('Fare', '11.5'), ('Cabin', ''), ('Embarked', 'S')])\n",
            "OrderedDict([('PassengerId', '759'), ('Perished', '1'), ('Pclass', '3'), ('Name', 'Theobald, Mr. Thomas Leonard'), ('Sex', 'male'), ('Age', '34.0'), ('SibSp', '0'), ('Parch', '0'), ('Ticket', '363294'), ('Fare', '8.05'), ('Cabin', ''), ('Embarked', 'S')])\n",
            "OrderedDict([('PassengerId', '760'), ('Perished', '0'), ('Pclass', '1'), ('Name', 'Rothes, the Countess. of (Lucy Noel Martha Dyer-Edwards)'), ('Sex', 'female'), ('Age', '33.0'), ('SibSp', '0'), ('Parch', '0'), ('Ticket', '110152'), ('Fare', '86.5'), ('Cabin', 'B77'), ('Embarked', 'S')])\n",
            "OrderedDict([('PassengerId', '761'), ('Perished', '1'), ('Pclass', '3'), ('Name', 'Garfirth, Mr. John'), ('Sex', 'male'), ('Age', ''), ('SibSp', '0'), ('Parch', '0'), ('Ticket', '358585'), ('Fare', '14.5'), ('Cabin', ''), ('Embarked', 'S')])\n",
            "OrderedDict([('PassengerId', '762'), ('Perished', '1'), ('Pclass', '3'), ('Name', 'Nirva, Mr. Iisakki Antino Aijo'), ('Sex', 'male'), ('Age', '41.0'), ('SibSp', '0'), ('Parch', '0'), ('Ticket', 'SOTON/O2 3101272'), ('Fare', '7.125'), ('Cabin', ''), ('Embarked', 'S')])\n",
            "OrderedDict([('PassengerId', '763'), ('Perished', '0'), ('Pclass', '3'), ('Name', 'Barah, Mr. Hanna Assi'), ('Sex', 'male'), ('Age', '20.0'), ('SibSp', '0'), ('Parch', '0'), ('Ticket', '2663'), ('Fare', '7.2292'), ('Cabin', ''), ('Embarked', 'C')])\n",
            "OrderedDict([('PassengerId', '764'), ('Perished', '0'), ('Pclass', '1'), ('Name', 'Carter, Mrs. William Ernest (Lucile Polk)'), ('Sex', 'female'), ('Age', '36.0'), ('SibSp', '1'), ('Parch', '2'), ('Ticket', '113760'), ('Fare', '120.0'), ('Cabin', 'B96 B98'), ('Embarked', 'S')])\n",
            "OrderedDict([('PassengerId', '765'), ('Perished', '1'), ('Pclass', '3'), ('Name', 'Eklund, Mr. Hans Linus'), ('Sex', 'male'), ('Age', '16.0'), ('SibSp', '0'), ('Parch', '0'), ('Ticket', '347074'), ('Fare', '7.775'), ('Cabin', ''), ('Embarked', 'S')])\n",
            "OrderedDict([('PassengerId', '766'), ('Perished', '0'), ('Pclass', '1'), ('Name', 'Hogeboom, Mrs. John C (Anna Andrews)'), ('Sex', 'female'), ('Age', '51.0'), ('SibSp', '1'), ('Parch', '0'), ('Ticket', '13502'), ('Fare', '77.9583'), ('Cabin', 'D11'), ('Embarked', 'S')])\n",
            "OrderedDict([('PassengerId', '767'), ('Perished', '1'), ('Pclass', '1'), ('Name', 'Brewe, Dr. Arthur Jackson'), ('Sex', 'male'), ('Age', ''), ('SibSp', '0'), ('Parch', '0'), ('Ticket', '112379'), ('Fare', '39.6'), ('Cabin', ''), ('Embarked', 'C')])\n",
            "OrderedDict([('PassengerId', '768'), ('Perished', '1'), ('Pclass', '3'), ('Name', 'Mangan, Miss. Mary'), ('Sex', 'female'), ('Age', '30.5'), ('SibSp', '0'), ('Parch', '0'), ('Ticket', '364850'), ('Fare', '7.75'), ('Cabin', ''), ('Embarked', 'Q')])\n",
            "OrderedDict([('PassengerId', '769'), ('Perished', '1'), ('Pclass', '3'), ('Name', 'Moran, Mr. Daniel J'), ('Sex', 'male'), ('Age', ''), ('SibSp', '1'), ('Parch', '0'), ('Ticket', '371110'), ('Fare', '24.15'), ('Cabin', ''), ('Embarked', 'Q')])\n",
            "OrderedDict([('PassengerId', '770'), ('Perished', '1'), ('Pclass', '3'), ('Name', 'Gronnestad, Mr. Daniel Danielsen'), ('Sex', 'male'), ('Age', '32.0'), ('SibSp', '0'), ('Parch', '0'), ('Ticket', '8471'), ('Fare', '8.3625'), ('Cabin', ''), ('Embarked', 'S')])\n",
            "OrderedDict([('PassengerId', '771'), ('Perished', '1'), ('Pclass', '3'), ('Name', 'Lievens, Mr. Rene Aime'), ('Sex', 'male'), ('Age', '24.0'), ('SibSp', '0'), ('Parch', '0'), ('Ticket', '345781'), ('Fare', '9.5'), ('Cabin', ''), ('Embarked', 'S')])\n",
            "OrderedDict([('PassengerId', '772'), ('Perished', '1'), ('Pclass', '3'), ('Name', 'Jensen, Mr. Niels Peder'), ('Sex', 'male'), ('Age', '48.0'), ('SibSp', '0'), ('Parch', '0'), ('Ticket', '350047'), ('Fare', '7.8542'), ('Cabin', ''), ('Embarked', 'S')])\n",
            "OrderedDict([('PassengerId', '773'), ('Perished', '1'), ('Pclass', '2'), ('Name', 'Mack, Mrs. (Mary)'), ('Sex', 'female'), ('Age', '57.0'), ('SibSp', '0'), ('Parch', '0'), ('Ticket', 'S.O./P.P. 3'), ('Fare', '10.5'), ('Cabin', 'E77'), ('Embarked', 'S')])\n",
            "OrderedDict([('PassengerId', '774'), ('Perished', '1'), ('Pclass', '3'), ('Name', 'Elias, Mr. Dibo'), ('Sex', 'male'), ('Age', ''), ('SibSp', '0'), ('Parch', '0'), ('Ticket', '2674'), ('Fare', '7.225'), ('Cabin', ''), ('Embarked', 'C')])\n",
            "OrderedDict([('PassengerId', '775'), ('Perished', '0'), ('Pclass', '2'), ('Name', 'Hocking, Mrs. Elizabeth (Eliza Needs)'), ('Sex', 'female'), ('Age', '54.0'), ('SibSp', '1'), ('Parch', '3'), ('Ticket', '29105'), ('Fare', '23.0'), ('Cabin', ''), ('Embarked', 'S')])\n",
            "OrderedDict([('PassengerId', '776'), ('Perished', '1'), ('Pclass', '3'), ('Name', 'Myhrman, Mr. Pehr Fabian Oliver Malkolm'), ('Sex', 'male'), ('Age', '18.0'), ('SibSp', '0'), ('Parch', '0'), ('Ticket', '347078'), ('Fare', '7.75'), ('Cabin', ''), ('Embarked', 'S')])\n",
            "OrderedDict([('PassengerId', '777'), ('Perished', '1'), ('Pclass', '3'), ('Name', 'Tobin, Mr. Roger'), ('Sex', 'male'), ('Age', ''), ('SibSp', '0'), ('Parch', '0'), ('Ticket', '383121'), ('Fare', '7.75'), ('Cabin', 'F38'), ('Embarked', 'Q')])\n",
            "OrderedDict([('PassengerId', '778'), ('Perished', '0'), ('Pclass', '3'), ('Name', 'Emanuel, Miss. Virginia Ethel'), ('Sex', 'female'), ('Age', '5.0'), ('SibSp', '0'), ('Parch', '0'), ('Ticket', '364516'), ('Fare', '12.475'), ('Cabin', ''), ('Embarked', 'S')])\n",
            "OrderedDict([('PassengerId', '779'), ('Perished', '1'), ('Pclass', '3'), ('Name', 'Kilgannon, Mr. Thomas J'), ('Sex', 'male'), ('Age', ''), ('SibSp', '0'), ('Parch', '0'), ('Ticket', '36865'), ('Fare', '7.7375'), ('Cabin', ''), ('Embarked', 'Q')])\n",
            "OrderedDict([('PassengerId', '780'), ('Perished', '0'), ('Pclass', '1'), ('Name', 'Robert, Mrs. Edward Scott (Elisabeth Walton McMillan)'), ('Sex', 'female'), ('Age', '43.0'), ('SibSp', '0'), ('Parch', '1'), ('Ticket', '24160'), ('Fare', '211.3375'), ('Cabin', 'B3'), ('Embarked', 'S')])\n",
            "OrderedDict([('PassengerId', '781'), ('Perished', '0'), ('Pclass', '3'), ('Name', 'Ayoub, Miss. Banoura'), ('Sex', 'female'), ('Age', '13.0'), ('SibSp', '0'), ('Parch', '0'), ('Ticket', '2687'), ('Fare', '7.2292'), ('Cabin', ''), ('Embarked', 'C')])\n",
            "OrderedDict([('PassengerId', '782'), ('Perished', '0'), ('Pclass', '1'), ('Name', 'Dick, Mrs. Albert Adrian (Vera Gillespie)'), ('Sex', 'female'), ('Age', '17.0'), ('SibSp', '1'), ('Parch', '0'), ('Ticket', '17474'), ('Fare', '57.0'), ('Cabin', 'B20'), ('Embarked', 'S')])\n",
            "OrderedDict([('PassengerId', '783'), ('Perished', '1'), ('Pclass', '1'), ('Name', 'Long, Mr. Milton Clyde'), ('Sex', 'male'), ('Age', '29.0'), ('SibSp', '0'), ('Parch', '0'), ('Ticket', '113501'), ('Fare', '30.0'), ('Cabin', 'D6'), ('Embarked', 'S')])\n",
            "OrderedDict([('PassengerId', '784'), ('Perished', '1'), ('Pclass', '3'), ('Name', 'Johnston, Mr. Andrew G'), ('Sex', 'male'), ('Age', ''), ('SibSp', '1'), ('Parch', '2'), ('Ticket', 'W./C. 6607'), ('Fare', '23.45'), ('Cabin', ''), ('Embarked', 'S')])\n",
            "OrderedDict([('PassengerId', '785'), ('Perished', '1'), ('Pclass', '3'), ('Name', 'Ali, Mr. William'), ('Sex', 'male'), ('Age', '25.0'), ('SibSp', '0'), ('Parch', '0'), ('Ticket', 'SOTON/O.Q. 3101312'), ('Fare', '7.05'), ('Cabin', ''), ('Embarked', 'S')])\n",
            "OrderedDict([('PassengerId', '786'), ('Perished', '1'), ('Pclass', '3'), ('Name', 'Harmer, Mr. Abraham (David Lishin)'), ('Sex', 'male'), ('Age', '25.0'), ('SibSp', '0'), ('Parch', '0'), ('Ticket', '374887'), ('Fare', '7.25'), ('Cabin', ''), ('Embarked', 'S')])\n",
            "OrderedDict([('PassengerId', '787'), ('Perished', '0'), ('Pclass', '3'), ('Name', 'Sjoblom, Miss. Anna Sofia'), ('Sex', 'female'), ('Age', '18.0'), ('SibSp', '0'), ('Parch', '0'), ('Ticket', '3101265'), ('Fare', '7.4958'), ('Cabin', ''), ('Embarked', 'S')])\n",
            "OrderedDict([('PassengerId', '788'), ('Perished', '1'), ('Pclass', '3'), ('Name', 'Rice, Master. George Hugh'), ('Sex', 'male'), ('Age', '8.0'), ('SibSp', '4'), ('Parch', '1'), ('Ticket', '382652'), ('Fare', '29.125'), ('Cabin', ''), ('Embarked', 'Q')])\n",
            "OrderedDict([('PassengerId', '789'), ('Perished', '0'), ('Pclass', '3'), ('Name', 'Dean, Master. Bertram Vere'), ('Sex', 'male'), ('Age', '1.0'), ('SibSp', '1'), ('Parch', '2'), ('Ticket', 'C.A. 2315'), ('Fare', '20.575'), ('Cabin', ''), ('Embarked', 'S')])\n",
            "OrderedDict([('PassengerId', '790'), ('Perished', '1'), ('Pclass', '1'), ('Name', 'Guggenheim, Mr. Benjamin'), ('Sex', 'male'), ('Age', '46.0'), ('SibSp', '0'), ('Parch', '0'), ('Ticket', 'PC 17593'), ('Fare', '79.2'), ('Cabin', 'B82 B84'), ('Embarked', 'C')])\n",
            "OrderedDict([('PassengerId', '791'), ('Perished', '1'), ('Pclass', '3'), ('Name', 'Keane, Mr. Andrew \"Andy\"'), ('Sex', 'male'), ('Age', ''), ('SibSp', '0'), ('Parch', '0'), ('Ticket', '12460'), ('Fare', '7.75'), ('Cabin', ''), ('Embarked', 'Q')])\n",
            "OrderedDict([('PassengerId', '792'), ('Perished', '1'), ('Pclass', '2'), ('Name', 'Gaskell, Mr. Alfred'), ('Sex', 'male'), ('Age', '16.0'), ('SibSp', '0'), ('Parch', '0'), ('Ticket', '239865'), ('Fare', '26.0'), ('Cabin', ''), ('Embarked', 'S')])\n",
            "OrderedDict([('PassengerId', '793'), ('Perished', '1'), ('Pclass', '3'), ('Name', 'Sage, Miss. Stella Anna'), ('Sex', 'female'), ('Age', ''), ('SibSp', '8'), ('Parch', '2'), ('Ticket', 'CA. 2343'), ('Fare', '69.55'), ('Cabin', ''), ('Embarked', 'S')])\n",
            "OrderedDict([('PassengerId', '794'), ('Perished', '1'), ('Pclass', '1'), ('Name', 'Hoyt, Mr. William Fisher'), ('Sex', 'male'), ('Age', ''), ('SibSp', '0'), ('Parch', '0'), ('Ticket', 'PC 17600'), ('Fare', '30.6958'), ('Cabin', ''), ('Embarked', 'C')])\n",
            "OrderedDict([('PassengerId', '795'), ('Perished', '1'), ('Pclass', '3'), ('Name', 'Dantcheff, Mr. Ristiu'), ('Sex', 'male'), ('Age', '25.0'), ('SibSp', '0'), ('Parch', '0'), ('Ticket', '349203'), ('Fare', '7.8958'), ('Cabin', ''), ('Embarked', 'S')])\n",
            "OrderedDict([('PassengerId', '796'), ('Perished', '1'), ('Pclass', '2'), ('Name', 'Otter, Mr. Richard'), ('Sex', 'male'), ('Age', '39.0'), ('SibSp', '0'), ('Parch', '0'), ('Ticket', '28213'), ('Fare', '13.0'), ('Cabin', ''), ('Embarked', 'S')])\n",
            "OrderedDict([('PassengerId', '797'), ('Perished', '0'), ('Pclass', '1'), ('Name', 'Leader, Dr. Alice (Farnham)'), ('Sex', 'female'), ('Age', '49.0'), ('SibSp', '0'), ('Parch', '0'), ('Ticket', '17465'), ('Fare', '25.9292'), ('Cabin', 'D17'), ('Embarked', 'S')])\n",
            "OrderedDict([('PassengerId', '798'), ('Perished', '0'), ('Pclass', '3'), ('Name', 'Osman, Mrs. Mara'), ('Sex', 'female'), ('Age', '31.0'), ('SibSp', '0'), ('Parch', '0'), ('Ticket', '349244'), ('Fare', '8.6833'), ('Cabin', ''), ('Embarked', 'S')])\n",
            "OrderedDict([('PassengerId', '799'), ('Perished', '1'), ('Pclass', '3'), ('Name', 'Ibrahim Shawah, Mr. Yousseff'), ('Sex', 'male'), ('Age', '30.0'), ('SibSp', '0'), ('Parch', '0'), ('Ticket', '2685'), ('Fare', '7.2292'), ('Cabin', ''), ('Embarked', 'C')])\n",
            "OrderedDict([('PassengerId', '800'), ('Perished', '1'), ('Pclass', '3'), ('Name', 'Van Impe, Mrs. Jean Baptiste (Rosalie Paula Govaert)'), ('Sex', 'female'), ('Age', '30.0'), ('SibSp', '1'), ('Parch', '1'), ('Ticket', '345773'), ('Fare', '24.15'), ('Cabin', ''), ('Embarked', 'S')])\n",
            "OrderedDict([('PassengerId', '801'), ('Perished', '1'), ('Pclass', '2'), ('Name', 'Ponesell, Mr. Martin'), ('Sex', 'male'), ('Age', '34.0'), ('SibSp', '0'), ('Parch', '0'), ('Ticket', '250647'), ('Fare', '13.0'), ('Cabin', ''), ('Embarked', 'S')])\n",
            "OrderedDict([('PassengerId', '802'), ('Perished', '0'), ('Pclass', '2'), ('Name', 'Collyer, Mrs. Harvey (Charlotte Annie Tate)'), ('Sex', 'female'), ('Age', '31.0'), ('SibSp', '1'), ('Parch', '1'), ('Ticket', 'C.A. 31921'), ('Fare', '26.25'), ('Cabin', ''), ('Embarked', 'S')])\n",
            "OrderedDict([('PassengerId', '803'), ('Perished', '0'), ('Pclass', '1'), ('Name', 'Carter, Master. William Thornton II'), ('Sex', 'male'), ('Age', '11.0'), ('SibSp', '1'), ('Parch', '2'), ('Ticket', '113760'), ('Fare', '120.0'), ('Cabin', 'B96 B98'), ('Embarked', 'S')])\n",
            "OrderedDict([('PassengerId', '804'), ('Perished', '0'), ('Pclass', '3'), ('Name', 'Thomas, Master. Assad Alexander'), ('Sex', 'male'), ('Age', '0.42'), ('SibSp', '0'), ('Parch', '1'), ('Ticket', '2625'), ('Fare', '8.5167'), ('Cabin', ''), ('Embarked', 'C')])\n",
            "OrderedDict([('PassengerId', '805'), ('Perished', '0'), ('Pclass', '3'), ('Name', 'Hedman, Mr. Oskar Arvid'), ('Sex', 'male'), ('Age', '27.0'), ('SibSp', '0'), ('Parch', '0'), ('Ticket', '347089'), ('Fare', '6.975'), ('Cabin', ''), ('Embarked', 'S')])\n",
            "OrderedDict([('PassengerId', '806'), ('Perished', '1'), ('Pclass', '3'), ('Name', 'Johansson, Mr. Karl Johan'), ('Sex', 'male'), ('Age', '31.0'), ('SibSp', '0'), ('Parch', '0'), ('Ticket', '347063'), ('Fare', '7.775'), ('Cabin', ''), ('Embarked', 'S')])\n",
            "OrderedDict([('PassengerId', '807'), ('Perished', '1'), ('Pclass', '1'), ('Name', 'Andrews, Mr. Thomas Jr'), ('Sex', 'male'), ('Age', '39.0'), ('SibSp', '0'), ('Parch', '0'), ('Ticket', '112050'), ('Fare', '0.0'), ('Cabin', 'A36'), ('Embarked', 'S')])\n",
            "OrderedDict([('PassengerId', '808'), ('Perished', '1'), ('Pclass', '3'), ('Name', 'Pettersson, Miss. Ellen Natalia'), ('Sex', 'female'), ('Age', '18.0'), ('SibSp', '0'), ('Parch', '0'), ('Ticket', '347087'), ('Fare', '7.775'), ('Cabin', ''), ('Embarked', 'S')])\n",
            "OrderedDict([('PassengerId', '809'), ('Perished', '1'), ('Pclass', '2'), ('Name', 'Meyer, Mr. August'), ('Sex', 'male'), ('Age', '39.0'), ('SibSp', '0'), ('Parch', '0'), ('Ticket', '248723'), ('Fare', '13.0'), ('Cabin', ''), ('Embarked', 'S')])\n",
            "OrderedDict([('PassengerId', '810'), ('Perished', '0'), ('Pclass', '1'), ('Name', 'Chambers, Mrs. Norman Campbell (Bertha Griggs)'), ('Sex', 'female'), ('Age', '33.0'), ('SibSp', '1'), ('Parch', '0'), ('Ticket', '113806'), ('Fare', '53.1'), ('Cabin', 'E8'), ('Embarked', 'S')])\n",
            "OrderedDict([('PassengerId', '811'), ('Perished', '1'), ('Pclass', '3'), ('Name', 'Alexander, Mr. William'), ('Sex', 'male'), ('Age', '26.0'), ('SibSp', '0'), ('Parch', '0'), ('Ticket', '3474'), ('Fare', '7.8875'), ('Cabin', ''), ('Embarked', 'S')])\n",
            "OrderedDict([('PassengerId', '812'), ('Perished', '1'), ('Pclass', '3'), ('Name', 'Lester, Mr. James'), ('Sex', 'male'), ('Age', '39.0'), ('SibSp', '0'), ('Parch', '0'), ('Ticket', 'A/4 48871'), ('Fare', '24.15'), ('Cabin', ''), ('Embarked', 'S')])\n",
            "OrderedDict([('PassengerId', '813'), ('Perished', '1'), ('Pclass', '2'), ('Name', 'Slemen, Mr. Richard James'), ('Sex', 'male'), ('Age', '35.0'), ('SibSp', '0'), ('Parch', '0'), ('Ticket', '28206'), ('Fare', '10.5'), ('Cabin', ''), ('Embarked', 'S')])\n",
            "OrderedDict([('PassengerId', '814'), ('Perished', '1'), ('Pclass', '3'), ('Name', 'Andersson, Miss. Ebba Iris Alfrida'), ('Sex', 'female'), ('Age', '6.0'), ('SibSp', '4'), ('Parch', '2'), ('Ticket', '347082'), ('Fare', '31.275'), ('Cabin', ''), ('Embarked', 'S')])\n",
            "OrderedDict([('PassengerId', '815'), ('Perished', '1'), ('Pclass', '3'), ('Name', 'Tomlin, Mr. Ernest Portage'), ('Sex', 'male'), ('Age', '30.5'), ('SibSp', '0'), ('Parch', '0'), ('Ticket', '364499'), ('Fare', '8.05'), ('Cabin', ''), ('Embarked', 'S')])\n",
            "OrderedDict([('PassengerId', '816'), ('Perished', '1'), ('Pclass', '1'), ('Name', 'Fry, Mr. Richard'), ('Sex', 'male'), ('Age', ''), ('SibSp', '0'), ('Parch', '0'), ('Ticket', '112058'), ('Fare', '0.0'), ('Cabin', 'B102'), ('Embarked', 'S')])\n",
            "OrderedDict([('PassengerId', '817'), ('Perished', '1'), ('Pclass', '3'), ('Name', 'Heininen, Miss. Wendla Maria'), ('Sex', 'female'), ('Age', '23.0'), ('SibSp', '0'), ('Parch', '0'), ('Ticket', 'STON/O2. 3101290'), ('Fare', '7.925'), ('Cabin', ''), ('Embarked', 'S')])\n",
            "OrderedDict([('PassengerId', '818'), ('Perished', '1'), ('Pclass', '2'), ('Name', 'Mallet, Mr. Albert'), ('Sex', 'male'), ('Age', '31.0'), ('SibSp', '1'), ('Parch', '1'), ('Ticket', 'S.C./PARIS 2079'), ('Fare', '37.0042'), ('Cabin', ''), ('Embarked', 'C')])\n",
            "OrderedDict([('PassengerId', '819'), ('Perished', '1'), ('Pclass', '3'), ('Name', 'Holm, Mr. John Fredrik Alexander'), ('Sex', 'male'), ('Age', '43.0'), ('SibSp', '0'), ('Parch', '0'), ('Ticket', 'C 7075'), ('Fare', '6.45'), ('Cabin', ''), ('Embarked', 'S')])\n",
            "OrderedDict([('PassengerId', '820'), ('Perished', '1'), ('Pclass', '3'), ('Name', 'Skoog, Master. Karl Thorsten'), ('Sex', 'male'), ('Age', '10.0'), ('SibSp', '3'), ('Parch', '2'), ('Ticket', '347088'), ('Fare', '27.9'), ('Cabin', ''), ('Embarked', 'S')])\n",
            "OrderedDict([('PassengerId', '821'), ('Perished', '0'), ('Pclass', '1'), ('Name', 'Hays, Mrs. Charles Melville (Clara Jennings Gregg)'), ('Sex', 'female'), ('Age', '52.0'), ('SibSp', '1'), ('Parch', '1'), ('Ticket', '12749'), ('Fare', '93.5'), ('Cabin', 'B69'), ('Embarked', 'S')])\n",
            "OrderedDict([('PassengerId', '822'), ('Perished', '0'), ('Pclass', '3'), ('Name', 'Lulic, Mr. Nikola'), ('Sex', 'male'), ('Age', '27.0'), ('SibSp', '0'), ('Parch', '0'), ('Ticket', '315098'), ('Fare', '8.6625'), ('Cabin', ''), ('Embarked', 'S')])\n",
            "OrderedDict([('PassengerId', '823'), ('Perished', '1'), ('Pclass', '1'), ('Name', 'Reuchlin, Jonkheer. John George'), ('Sex', 'male'), ('Age', '38.0'), ('SibSp', '0'), ('Parch', '0'), ('Ticket', '19972'), ('Fare', '0.0'), ('Cabin', ''), ('Embarked', 'S')])\n",
            "OrderedDict([('PassengerId', '824'), ('Perished', '0'), ('Pclass', '3'), ('Name', 'Moor, Mrs. (Beila)'), ('Sex', 'female'), ('Age', '27.0'), ('SibSp', '0'), ('Parch', '1'), ('Ticket', '392096'), ('Fare', '12.475'), ('Cabin', 'E121'), ('Embarked', 'S')])\n",
            "OrderedDict([('PassengerId', '825'), ('Perished', '1'), ('Pclass', '3'), ('Name', 'Panula, Master. Urho Abraham'), ('Sex', 'male'), ('Age', '2.0'), ('SibSp', '4'), ('Parch', '1'), ('Ticket', '3101295'), ('Fare', '39.6875'), ('Cabin', ''), ('Embarked', 'S')])\n",
            "OrderedDict([('PassengerId', '826'), ('Perished', '1'), ('Pclass', '3'), ('Name', 'Flynn, Mr. John'), ('Sex', 'male'), ('Age', ''), ('SibSp', '0'), ('Parch', '0'), ('Ticket', '368323'), ('Fare', '6.95'), ('Cabin', ''), ('Embarked', 'Q')])\n",
            "OrderedDict([('PassengerId', '827'), ('Perished', '1'), ('Pclass', '3'), ('Name', 'Lam, Mr. Len'), ('Sex', 'male'), ('Age', ''), ('SibSp', '0'), ('Parch', '0'), ('Ticket', '1601'), ('Fare', '56.4958'), ('Cabin', ''), ('Embarked', 'S')])\n",
            "OrderedDict([('PassengerId', '828'), ('Perished', '0'), ('Pclass', '2'), ('Name', 'Mallet, Master. Andre'), ('Sex', 'male'), ('Age', '1.0'), ('SibSp', '0'), ('Parch', '2'), ('Ticket', 'S.C./PARIS 2079'), ('Fare', '37.0042'), ('Cabin', ''), ('Embarked', 'C')])\n",
            "OrderedDict([('PassengerId', '829'), ('Perished', '0'), ('Pclass', '3'), ('Name', 'McCormack, Mr. Thomas Joseph'), ('Sex', 'male'), ('Age', ''), ('SibSp', '0'), ('Parch', '0'), ('Ticket', '367228'), ('Fare', '7.75'), ('Cabin', ''), ('Embarked', 'Q')])\n",
            "OrderedDict([('PassengerId', '830'), ('Perished', '0'), ('Pclass', '1'), ('Name', 'Stone, Mrs. George Nelson (Martha Evelyn)'), ('Sex', 'female'), ('Age', '62.0'), ('SibSp', '0'), ('Parch', '0'), ('Ticket', '113572'), ('Fare', '80.0'), ('Cabin', 'B28'), ('Embarked', '')])\n",
            "OrderedDict([('PassengerId', '831'), ('Perished', '0'), ('Pclass', '3'), ('Name', 'Yasbeck, Mrs. Antoni (Selini Alexander)'), ('Sex', 'female'), ('Age', '15.0'), ('SibSp', '1'), ('Parch', '0'), ('Ticket', '2659'), ('Fare', '14.4542'), ('Cabin', ''), ('Embarked', 'C')])\n",
            "OrderedDict([('PassengerId', '832'), ('Perished', '0'), ('Pclass', '2'), ('Name', 'Richards, Master. George Sibley'), ('Sex', 'male'), ('Age', '0.83'), ('SibSp', '1'), ('Parch', '1'), ('Ticket', '29106'), ('Fare', '18.75'), ('Cabin', ''), ('Embarked', 'S')])\n",
            "OrderedDict([('PassengerId', '833'), ('Perished', '1'), ('Pclass', '3'), ('Name', 'Saad, Mr. Amin'), ('Sex', 'male'), ('Age', ''), ('SibSp', '0'), ('Parch', '0'), ('Ticket', '2671'), ('Fare', '7.2292'), ('Cabin', ''), ('Embarked', 'C')])\n",
            "OrderedDict([('PassengerId', '834'), ('Perished', '1'), ('Pclass', '3'), ('Name', 'Augustsson, Mr. Albert'), ('Sex', 'male'), ('Age', '23.0'), ('SibSp', '0'), ('Parch', '0'), ('Ticket', '347468'), ('Fare', '7.8542'), ('Cabin', ''), ('Embarked', 'S')])\n",
            "OrderedDict([('PassengerId', '835'), ('Perished', '1'), ('Pclass', '3'), ('Name', 'Allum, Mr. Owen George'), ('Sex', 'male'), ('Age', '18.0'), ('SibSp', '0'), ('Parch', '0'), ('Ticket', '2223'), ('Fare', '8.3'), ('Cabin', ''), ('Embarked', 'S')])\n",
            "OrderedDict([('PassengerId', '836'), ('Perished', '0'), ('Pclass', '1'), ('Name', 'Compton, Miss. Sara Rebecca'), ('Sex', 'female'), ('Age', '39.0'), ('SibSp', '1'), ('Parch', '1'), ('Ticket', 'PC 17756'), ('Fare', '83.1583'), ('Cabin', 'E49'), ('Embarked', 'C')])\n",
            "OrderedDict([('PassengerId', '837'), ('Perished', '1'), ('Pclass', '3'), ('Name', 'Pasic, Mr. Jakob'), ('Sex', 'male'), ('Age', '21.0'), ('SibSp', '0'), ('Parch', '0'), ('Ticket', '315097'), ('Fare', '8.6625'), ('Cabin', ''), ('Embarked', 'S')])\n",
            "OrderedDict([('PassengerId', '838'), ('Perished', '1'), ('Pclass', '3'), ('Name', 'Sirota, Mr. Maurice'), ('Sex', 'male'), ('Age', ''), ('SibSp', '0'), ('Parch', '0'), ('Ticket', '392092'), ('Fare', '8.05'), ('Cabin', ''), ('Embarked', 'S')])\n",
            "OrderedDict([('PassengerId', '839'), ('Perished', '0'), ('Pclass', '3'), ('Name', 'Chip, Mr. Chang'), ('Sex', 'male'), ('Age', '32.0'), ('SibSp', '0'), ('Parch', '0'), ('Ticket', '1601'), ('Fare', '56.4958'), ('Cabin', ''), ('Embarked', 'S')])\n",
            "OrderedDict([('PassengerId', '840'), ('Perished', '0'), ('Pclass', '1'), ('Name', 'Marechal, Mr. Pierre'), ('Sex', 'male'), ('Age', ''), ('SibSp', '0'), ('Parch', '0'), ('Ticket', '11774'), ('Fare', '29.7'), ('Cabin', 'C47'), ('Embarked', 'C')])\n",
            "OrderedDict([('PassengerId', '841'), ('Perished', '1'), ('Pclass', '3'), ('Name', 'Alhomaki, Mr. Ilmari Rudolf'), ('Sex', 'male'), ('Age', '20.0'), ('SibSp', '0'), ('Parch', '0'), ('Ticket', 'SOTON/O2 3101287'), ('Fare', '7.925'), ('Cabin', ''), ('Embarked', 'S')])\n",
            "OrderedDict([('PassengerId', '842'), ('Perished', '1'), ('Pclass', '2'), ('Name', 'Mudd, Mr. Thomas Charles'), ('Sex', 'male'), ('Age', '16.0'), ('SibSp', '0'), ('Parch', '0'), ('Ticket', 'S.O./P.P. 3'), ('Fare', '10.5'), ('Cabin', ''), ('Embarked', 'S')])\n",
            "OrderedDict([('PassengerId', '843'), ('Perished', '0'), ('Pclass', '1'), ('Name', 'Serepeca, Miss. Augusta'), ('Sex', 'female'), ('Age', '30.0'), ('SibSp', '0'), ('Parch', '0'), ('Ticket', '113798'), ('Fare', '31.0'), ('Cabin', ''), ('Embarked', 'C')])\n",
            "OrderedDict([('PassengerId', '844'), ('Perished', '1'), ('Pclass', '3'), ('Name', 'Lemberopolous, Mr. Peter L'), ('Sex', 'male'), ('Age', '34.5'), ('SibSp', '0'), ('Parch', '0'), ('Ticket', '2683'), ('Fare', '6.4375'), ('Cabin', ''), ('Embarked', 'C')])\n",
            "OrderedDict([('PassengerId', '845'), ('Perished', '1'), ('Pclass', '3'), ('Name', 'Culumovic, Mr. Jeso'), ('Sex', 'male'), ('Age', '17.0'), ('SibSp', '0'), ('Parch', '0'), ('Ticket', '315090'), ('Fare', '8.6625'), ('Cabin', ''), ('Embarked', 'S')])\n",
            "OrderedDict([('PassengerId', '846'), ('Perished', '1'), ('Pclass', '3'), ('Name', 'Abbing, Mr. Anthony'), ('Sex', 'male'), ('Age', '42.0'), ('SibSp', '0'), ('Parch', '0'), ('Ticket', 'C.A. 5547'), ('Fare', '7.55'), ('Cabin', ''), ('Embarked', 'S')])\n",
            "OrderedDict([('PassengerId', '847'), ('Perished', '1'), ('Pclass', '3'), ('Name', 'Sage, Mr. Douglas Bullen'), ('Sex', 'male'), ('Age', ''), ('SibSp', '8'), ('Parch', '2'), ('Ticket', 'CA. 2343'), ('Fare', '69.55'), ('Cabin', ''), ('Embarked', 'S')])\n",
            "OrderedDict([('PassengerId', '848'), ('Perished', '1'), ('Pclass', '3'), ('Name', 'Markoff, Mr. Marin'), ('Sex', 'male'), ('Age', '35.0'), ('SibSp', '0'), ('Parch', '0'), ('Ticket', '349213'), ('Fare', '7.8958'), ('Cabin', ''), ('Embarked', 'C')])\n",
            "OrderedDict([('PassengerId', '849'), ('Perished', '1'), ('Pclass', '2'), ('Name', 'Harper, Rev. John'), ('Sex', 'male'), ('Age', '28.0'), ('SibSp', '0'), ('Parch', '1'), ('Ticket', '248727'), ('Fare', '33.0'), ('Cabin', ''), ('Embarked', 'S')])\n",
            "OrderedDict([('PassengerId', '850'), ('Perished', '0'), ('Pclass', '1'), ('Name', 'Goldenberg, Mrs. Samuel L (Edwiga Grabowska)'), ('Sex', 'female'), ('Age', ''), ('SibSp', '1'), ('Parch', '0'), ('Ticket', '17453'), ('Fare', '89.1042'), ('Cabin', 'C92'), ('Embarked', 'C')])\n",
            "OrderedDict([('PassengerId', '851'), ('Perished', '1'), ('Pclass', '3'), ('Name', 'Andersson, Master. Sigvard Harald Elias'), ('Sex', 'male'), ('Age', '4.0'), ('SibSp', '4'), ('Parch', '2'), ('Ticket', '347082'), ('Fare', '31.275'), ('Cabin', ''), ('Embarked', 'S')])\n",
            "OrderedDict([('PassengerId', '852'), ('Perished', '1'), ('Pclass', '3'), ('Name', 'Svensson, Mr. Johan'), ('Sex', 'male'), ('Age', '74.0'), ('SibSp', '0'), ('Parch', '0'), ('Ticket', '347060'), ('Fare', '7.775'), ('Cabin', ''), ('Embarked', 'S')])\n",
            "OrderedDict([('PassengerId', '853'), ('Perished', '1'), ('Pclass', '3'), ('Name', 'Boulos, Miss. Nourelain'), ('Sex', 'female'), ('Age', '9.0'), ('SibSp', '1'), ('Parch', '1'), ('Ticket', '2678'), ('Fare', '15.2458'), ('Cabin', ''), ('Embarked', 'C')])\n",
            "OrderedDict([('PassengerId', '854'), ('Perished', '0'), ('Pclass', '1'), ('Name', 'Lines, Miss. Mary Conover'), ('Sex', 'female'), ('Age', '16.0'), ('SibSp', '0'), ('Parch', '1'), ('Ticket', 'PC 17592'), ('Fare', '39.4'), ('Cabin', 'D28'), ('Embarked', 'S')])\n",
            "OrderedDict([('PassengerId', '855'), ('Perished', '1'), ('Pclass', '2'), ('Name', 'Carter, Mrs. Ernest Courtenay (Lilian Hughes)'), ('Sex', 'female'), ('Age', '44.0'), ('SibSp', '1'), ('Parch', '0'), ('Ticket', '244252'), ('Fare', '26.0'), ('Cabin', ''), ('Embarked', 'S')])\n",
            "OrderedDict([('PassengerId', '856'), ('Perished', '0'), ('Pclass', '3'), ('Name', 'Aks, Mrs. Sam (Leah Rosen)'), ('Sex', 'female'), ('Age', '18.0'), ('SibSp', '0'), ('Parch', '1'), ('Ticket', '392091'), ('Fare', '9.35'), ('Cabin', ''), ('Embarked', 'S')])\n",
            "OrderedDict([('PassengerId', '857'), ('Perished', '0'), ('Pclass', '1'), ('Name', 'Wick, Mrs. George Dennick (Mary Hitchcock)'), ('Sex', 'female'), ('Age', '45.0'), ('SibSp', '1'), ('Parch', '1'), ('Ticket', '36928'), ('Fare', '164.8667'), ('Cabin', ''), ('Embarked', 'S')])\n",
            "OrderedDict([('PassengerId', '858'), ('Perished', '0'), ('Pclass', '1'), ('Name', 'Daly, Mr. Peter Denis '), ('Sex', 'male'), ('Age', '51.0'), ('SibSp', '0'), ('Parch', '0'), ('Ticket', '113055'), ('Fare', '26.55'), ('Cabin', 'E17'), ('Embarked', 'S')])\n",
            "OrderedDict([('PassengerId', '859'), ('Perished', '0'), ('Pclass', '3'), ('Name', 'Baclini, Mrs. Solomon (Latifa Qurban)'), ('Sex', 'female'), ('Age', '24.0'), ('SibSp', '0'), ('Parch', '3'), ('Ticket', '2666'), ('Fare', '19.2583'), ('Cabin', ''), ('Embarked', 'C')])\n",
            "OrderedDict([('PassengerId', '860'), ('Perished', '1'), ('Pclass', '3'), ('Name', 'Razi, Mr. Raihed'), ('Sex', 'male'), ('Age', ''), ('SibSp', '0'), ('Parch', '0'), ('Ticket', '2629'), ('Fare', '7.2292'), ('Cabin', ''), ('Embarked', 'C')])\n",
            "OrderedDict([('PassengerId', '861'), ('Perished', '1'), ('Pclass', '3'), ('Name', 'Hansen, Mr. Claus Peter'), ('Sex', 'male'), ('Age', '41.0'), ('SibSp', '2'), ('Parch', '0'), ('Ticket', '350026'), ('Fare', '14.1083'), ('Cabin', ''), ('Embarked', 'S')])\n",
            "OrderedDict([('PassengerId', '862'), ('Perished', '1'), ('Pclass', '2'), ('Name', 'Giles, Mr. Frederick Edward'), ('Sex', 'male'), ('Age', '21.0'), ('SibSp', '1'), ('Parch', '0'), ('Ticket', '28134'), ('Fare', '11.5'), ('Cabin', ''), ('Embarked', 'S')])\n",
            "OrderedDict([('PassengerId', '863'), ('Perished', '0'), ('Pclass', '1'), ('Name', 'Swift, Mrs. Frederick Joel (Margaret Welles Barron)'), ('Sex', 'female'), ('Age', '48.0'), ('SibSp', '0'), ('Parch', '0'), ('Ticket', '17466'), ('Fare', '25.9292'), ('Cabin', 'D17'), ('Embarked', 'S')])\n",
            "OrderedDict([('PassengerId', '864'), ('Perished', '1'), ('Pclass', '3'), ('Name', 'Sage, Miss. Dorothy Edith \"Dolly\"'), ('Sex', 'female'), ('Age', ''), ('SibSp', '8'), ('Parch', '2'), ('Ticket', 'CA. 2343'), ('Fare', '69.55'), ('Cabin', ''), ('Embarked', 'S')])\n",
            "OrderedDict([('PassengerId', '865'), ('Perished', '1'), ('Pclass', '2'), ('Name', 'Gill, Mr. John William'), ('Sex', 'male'), ('Age', '24.0'), ('SibSp', '0'), ('Parch', '0'), ('Ticket', '233866'), ('Fare', '13.0'), ('Cabin', ''), ('Embarked', 'S')])\n",
            "OrderedDict([('PassengerId', '866'), ('Perished', '0'), ('Pclass', '2'), ('Name', 'Bystrom, Mrs. (Karolina)'), ('Sex', 'female'), ('Age', '42.0'), ('SibSp', '0'), ('Parch', '0'), ('Ticket', '236852'), ('Fare', '13.0'), ('Cabin', ''), ('Embarked', 'S')])\n",
            "OrderedDict([('PassengerId', '867'), ('Perished', '0'), ('Pclass', '2'), ('Name', 'Duran y More, Miss. Asuncion'), ('Sex', 'female'), ('Age', '27.0'), ('SibSp', '1'), ('Parch', '0'), ('Ticket', 'SC/PARIS 2149'), ('Fare', '13.8583'), ('Cabin', ''), ('Embarked', 'C')])\n",
            "OrderedDict([('PassengerId', '868'), ('Perished', '1'), ('Pclass', '1'), ('Name', 'Roebling, Mr. Washington Augustus II'), ('Sex', 'male'), ('Age', '31.0'), ('SibSp', '0'), ('Parch', '0'), ('Ticket', 'PC 17590'), ('Fare', '50.4958'), ('Cabin', 'A24'), ('Embarked', 'S')])\n",
            "OrderedDict([('PassengerId', '869'), ('Perished', '1'), ('Pclass', '3'), ('Name', 'van Melkebeke, Mr. Philemon'), ('Sex', 'male'), ('Age', ''), ('SibSp', '0'), ('Parch', '0'), ('Ticket', '345777'), ('Fare', '9.5'), ('Cabin', ''), ('Embarked', 'S')])\n",
            "OrderedDict([('PassengerId', '870'), ('Perished', '0'), ('Pclass', '3'), ('Name', 'Johnson, Master. Harold Theodor'), ('Sex', 'male'), ('Age', '4.0'), ('SibSp', '1'), ('Parch', '1'), ('Ticket', '347742'), ('Fare', '11.1333'), ('Cabin', ''), ('Embarked', 'S')])\n",
            "OrderedDict([('PassengerId', '871'), ('Perished', '1'), ('Pclass', '3'), ('Name', 'Balkic, Mr. Cerin'), ('Sex', 'male'), ('Age', '26.0'), ('SibSp', '0'), ('Parch', '0'), ('Ticket', '349248'), ('Fare', '7.8958'), ('Cabin', ''), ('Embarked', 'S')])\n",
            "OrderedDict([('PassengerId', '872'), ('Perished', '0'), ('Pclass', '1'), ('Name', 'Beckwith, Mrs. Richard Leonard (Sallie Monypeny)'), ('Sex', 'female'), ('Age', '47.0'), ('SibSp', '1'), ('Parch', '1'), ('Ticket', '11751'), ('Fare', '52.5542'), ('Cabin', 'D35'), ('Embarked', 'S')])\n",
            "OrderedDict([('PassengerId', '873'), ('Perished', '1'), ('Pclass', '1'), ('Name', 'Carlsson, Mr. Frans Olof'), ('Sex', 'male'), ('Age', '33.0'), ('SibSp', '0'), ('Parch', '0'), ('Ticket', '695'), ('Fare', '5.0'), ('Cabin', 'B51 B53 B55'), ('Embarked', 'S')])\n",
            "OrderedDict([('PassengerId', '874'), ('Perished', '1'), ('Pclass', '3'), ('Name', 'Vander Cruyssen, Mr. Victor'), ('Sex', 'male'), ('Age', '47.0'), ('SibSp', '0'), ('Parch', '0'), ('Ticket', '345765'), ('Fare', '9.0'), ('Cabin', ''), ('Embarked', 'S')])\n",
            "OrderedDict([('PassengerId', '875'), ('Perished', '0'), ('Pclass', '2'), ('Name', 'Abelson, Mrs. Samuel (Hannah Wizosky)'), ('Sex', 'female'), ('Age', '28.0'), ('SibSp', '1'), ('Parch', '0'), ('Ticket', 'P/PP 3381'), ('Fare', '24.0'), ('Cabin', ''), ('Embarked', 'C')])\n",
            "OrderedDict([('PassengerId', '876'), ('Perished', '0'), ('Pclass', '3'), ('Name', 'Najib, Miss. Adele Kiamie \"Jane\"'), ('Sex', 'female'), ('Age', '15.0'), ('SibSp', '0'), ('Parch', '0'), ('Ticket', '2667'), ('Fare', '7.225'), ('Cabin', ''), ('Embarked', 'C')])\n",
            "OrderedDict([('PassengerId', '877'), ('Perished', '1'), ('Pclass', '3'), ('Name', 'Gustafsson, Mr. Alfred Ossian'), ('Sex', 'male'), ('Age', '20.0'), ('SibSp', '0'), ('Parch', '0'), ('Ticket', '7534'), ('Fare', '9.8458'), ('Cabin', ''), ('Embarked', 'S')])\n",
            "OrderedDict([('PassengerId', '878'), ('Perished', '1'), ('Pclass', '3'), ('Name', 'Petroff, Mr. Nedelio'), ('Sex', 'male'), ('Age', '19.0'), ('SibSp', '0'), ('Parch', '0'), ('Ticket', '349212'), ('Fare', '7.8958'), ('Cabin', ''), ('Embarked', 'S')])\n",
            "OrderedDict([('PassengerId', '879'), ('Perished', '1'), ('Pclass', '3'), ('Name', 'Laleff, Mr. Kristo'), ('Sex', 'male'), ('Age', ''), ('SibSp', '0'), ('Parch', '0'), ('Ticket', '349217'), ('Fare', '7.8958'), ('Cabin', ''), ('Embarked', 'S')])\n",
            "OrderedDict([('PassengerId', '880'), ('Perished', '0'), ('Pclass', '1'), ('Name', 'Potter, Mrs. Thomas Jr (Lily Alexenia Wilson)'), ('Sex', 'female'), ('Age', '56.0'), ('SibSp', '0'), ('Parch', '1'), ('Ticket', '11767'), ('Fare', '83.1583'), ('Cabin', 'C50'), ('Embarked', 'C')])\n",
            "OrderedDict([('PassengerId', '881'), ('Perished', '0'), ('Pclass', '2'), ('Name', 'Shelley, Mrs. William (Imanita Parrish Hall)'), ('Sex', 'female'), ('Age', '25.0'), ('SibSp', '0'), ('Parch', '1'), ('Ticket', '230433'), ('Fare', '26.0'), ('Cabin', ''), ('Embarked', 'S')])\n",
            "OrderedDict([('PassengerId', '882'), ('Perished', '1'), ('Pclass', '3'), ('Name', 'Markun, Mr. Johann'), ('Sex', 'male'), ('Age', '33.0'), ('SibSp', '0'), ('Parch', '0'), ('Ticket', '349257'), ('Fare', '7.8958'), ('Cabin', ''), ('Embarked', 'S')])\n",
            "OrderedDict([('PassengerId', '883'), ('Perished', '1'), ('Pclass', '3'), ('Name', 'Dahlberg, Miss. Gerda Ulrika'), ('Sex', 'female'), ('Age', '22.0'), ('SibSp', '0'), ('Parch', '0'), ('Ticket', '7552'), ('Fare', '10.5167'), ('Cabin', ''), ('Embarked', 'S')])\n",
            "OrderedDict([('PassengerId', '884'), ('Perished', '1'), ('Pclass', '2'), ('Name', 'Banfield, Mr. Frederick James'), ('Sex', 'male'), ('Age', '28.0'), ('SibSp', '0'), ('Parch', '0'), ('Ticket', 'C.A./SOTON 34068'), ('Fare', '10.5'), ('Cabin', ''), ('Embarked', 'S')])\n",
            "OrderedDict([('PassengerId', '885'), ('Perished', '1'), ('Pclass', '3'), ('Name', 'Sutehall, Mr. Henry Jr'), ('Sex', 'male'), ('Age', '25.0'), ('SibSp', '0'), ('Parch', '0'), ('Ticket', 'SOTON/OQ 392076'), ('Fare', '7.05'), ('Cabin', ''), ('Embarked', 'S')])\n",
            "OrderedDict([('PassengerId', '886'), ('Perished', '1'), ('Pclass', '3'), ('Name', 'Rice, Mrs. William (Margaret Norton)'), ('Sex', 'female'), ('Age', '39.0'), ('SibSp', '0'), ('Parch', '5'), ('Ticket', '382652'), ('Fare', '29.125'), ('Cabin', ''), ('Embarked', 'Q')])\n",
            "OrderedDict([('PassengerId', '887'), ('Perished', '1'), ('Pclass', '2'), ('Name', 'Montvila, Rev. Juozas'), ('Sex', 'male'), ('Age', '27.0'), ('SibSp', '0'), ('Parch', '0'), ('Ticket', '211536'), ('Fare', '13.0'), ('Cabin', ''), ('Embarked', 'S')])\n",
            "OrderedDict([('PassengerId', '888'), ('Perished', '0'), ('Pclass', '1'), ('Name', 'Graham, Miss. Margaret Edith'), ('Sex', 'female'), ('Age', '19.0'), ('SibSp', '0'), ('Parch', '0'), ('Ticket', '112053'), ('Fare', '30.0'), ('Cabin', 'B42'), ('Embarked', 'S')])\n",
            "OrderedDict([('PassengerId', '889'), ('Perished', '1'), ('Pclass', '3'), ('Name', 'Johnston, Miss. Catherine Helen \"Carrie\"'), ('Sex', 'female'), ('Age', ''), ('SibSp', '1'), ('Parch', '2'), ('Ticket', 'W./C. 6607'), ('Fare', '23.45'), ('Cabin', ''), ('Embarked', 'S')])\n",
            "OrderedDict([('PassengerId', '890'), ('Perished', '0'), ('Pclass', '1'), ('Name', 'Behr, Mr. Karl Howell'), ('Sex', 'male'), ('Age', '26.0'), ('SibSp', '0'), ('Parch', '0'), ('Ticket', '111369'), ('Fare', '30.0'), ('Cabin', 'C148'), ('Embarked', 'C')])\n",
            "OrderedDict([('PassengerId', '891'), ('Perished', '1'), ('Pclass', '3'), ('Name', 'Dooley, Mr. Patrick'), ('Sex', 'male'), ('Age', '32.0'), ('SibSp', '0'), ('Parch', '0'), ('Ticket', '370376'), ('Fare', '7.75'), ('Cabin', ''), ('Embarked', 'Q')])\n"
          ],
          "name": "stdout"
        }
      ]
    },
    {
      "cell_type": "code",
      "metadata": {
        "id": "nyGPr5dFoo7r"
      },
      "source": [
        "import numpy as np\n",
        "import pandas as pd\n",
        "import matplotlib.pyplot as plt\n",
        "import seaborn as sns\n",
        "\n",
        "# データセットの読み込み\n",
        "train_data = pd.read_csv('/content/train.csv')\n",
        "test_data = pd.read_csv('/content/test.csv')\n"
      ],
      "execution_count": null,
      "outputs": []
    },
    {
      "cell_type": "code",
      "metadata": {
        "id": "snm4khWLou5D"
      },
      "source": [
        "# train_dataとtest_dataの連結\n",
        "test_data['Survived'] = np.nan\n",
        "df = pd.concat([train_data, test_data], ignore_index=True, sort=False)\n"
      ],
      "execution_count": null,
      "outputs": []
    },
    {
      "cell_type": "code",
      "metadata": {
        "id": "k3NpZt6hpDF6",
        "outputId": "cd7c55c8-966b-4040-819f-8913ee9a4a94",
        "colab": {
          "base_uri": "https://localhost:8080/",
          "height": 357
        }
      },
      "source": [
        "# dfの情報\n",
        "df.info()"
      ],
      "execution_count": null,
      "outputs": [
        {
          "output_type": "stream",
          "text": [
            "<class 'pandas.core.frame.DataFrame'>\n",
            "RangeIndex: 1309 entries, 0 to 1308\n",
            "Data columns (total 13 columns):\n",
            " #   Column       Non-Null Count  Dtype  \n",
            "---  ------       --------------  -----  \n",
            " 0   PassengerId  1309 non-null   int64  \n",
            " 1   Perished     891 non-null    float64\n",
            " 2   Pclass       1309 non-null   int64  \n",
            " 3   Name         1309 non-null   object \n",
            " 4   Sex          1309 non-null   object \n",
            " 5   Age          1046 non-null   float64\n",
            " 6   SibSp        1309 non-null   int64  \n",
            " 7   Parch        1309 non-null   int64  \n",
            " 8   Ticket       1309 non-null   object \n",
            " 9   Fare         1308 non-null   float64\n",
            " 10  Cabin        295 non-null    object \n",
            " 11  Embarked     1307 non-null   object \n",
            " 12  Survived     0 non-null      float64\n",
            "dtypes: float64(4), int64(4), object(5)\n",
            "memory usage: 133.1+ KB\n"
          ],
          "name": "stdout"
        }
      ]
    },
    {
      "cell_type": "code",
      "metadata": {
        "id": "NHnbNx0gpGp7",
        "outputId": "1c558057-866b-4eb6-9b30-25cd48378c7e",
        "colab": {
          "base_uri": "https://localhost:8080/",
          "height": 279
        }
      },
      "source": [
        "sns.barplot(x='Sex', y='Survived', data=df, palette='Set3')\n",
        "plt.show()"
      ],
      "execution_count": null,
      "outputs": [
        {
          "output_type": "display_data",
          "data": {
            "image/png": "[encoded data removed]",
            "text/plain": [
              "<Figure size 432x288 with 1 Axes>"
            ]
          },
          "metadata": {
            "tags": [],
            "needs_background": "light"
          }
        }
      ]
    },
    {
      "cell_type": "code",
      "metadata": {
        "id": "NTqkVtErpSE1",
        "outputId": "122a1e20-e534-46d9-f268-e3774a09b8f5",
        "colab": {
          "base_uri": "https://localhost:8080/",
          "height": 602
        }
      },
      "source": [
        "import numpy as np\n",
        "import pandas as pd\n",
        "import matplotlib.pyplot as plt\n",
        "import seaborn as sns\n",
        "\n",
        "# データセットの読み込み\n",
        "train_data = pd.read_csv('./train.csv')\n",
        "test_data = pd.read_csv('./test.csv')\n",
        "\n",
        "# train_dataとtest_dataの連結\n",
        "test_data['Perished'] = np.nan\n",
        "df = pd.concat([train_data, test_data], ignore_index=True, sort=False)\n",
        "\n",
        "# dfの情報\n",
        "df.info()\n",
        "\n",
        "# Sexと生存率の関係 \n",
        "sns.barplot(x='Sex', y='Perished', data=df, palette='Set3')\n",
        "plt.show()"
      ],
      "execution_count": null,
      "outputs": [
        {
          "output_type": "stream",
          "text": [
            "<class 'pandas.core.frame.DataFrame'>\n",
            "RangeIndex: 1309 entries, 0 to 1308\n",
            "Data columns (total 12 columns):\n",
            " #   Column       Non-Null Count  Dtype  \n",
            "---  ------       --------------  -----  \n",
            " 0   PassengerId  1309 non-null   int64  \n",
            " 1   Perished     891 non-null    float64\n",
            " 2   Pclass       1309 non-null   int64  \n",
            " 3   Name         1309 non-null   object \n",
            " 4   Sex          1309 non-null   object \n",
            " 5   Age          1046 non-null   float64\n",
            " 6   SibSp        1309 non-null   int64  \n",
            " 7   Parch        1309 non-null   int64  \n",
            " 8   Ticket       1309 non-null   object \n",
            " 9   Fare         1308 non-null   float64\n",
            " 10  Cabin        295 non-null    object \n",
            " 11  Embarked     1307 non-null   object \n",
            "dtypes: float64(3), int64(4), object(5)\n",
            "memory usage: 122.8+ KB\n"
          ],
          "name": "stdout"
        },
        {
          "output_type": "display_data",
          "data": {
            "image/png": "[encoded data removed]",
            "text/plain": [
              "<Figure size 432x288 with 1 Axes>"
            ]
          },
          "metadata": {
            "tags": [],
            "needs_background": "light"
          }
        }
      ]
    },
    {
      "cell_type": "code",
      "metadata": {
        "id": "2rpSJUR0pSL9"
      },
      "source": [
        "from sklearn.ensemble import RandomForestRegressor\n",
        "\n",
        "# 推定に使用する項目を指定\n",
        "age_df = df[['Age', 'Pclass','Sex','Parch','SibSp']]"
      ],
      "execution_count": null,
      "outputs": []
    },
    {
      "cell_type": "code",
      "metadata": {
        "id": "LMR6BJtzpSOS"
      },
      "source": [
        "\n",
        "# ラベル特徴量をワンホットエンコーディング\n",
        "age_df=pd.get_dummies(age_df)"
      ],
      "execution_count": null,
      "outputs": []
    },
    {
      "cell_type": "code",
      "metadata": {
        "id": "e1v5By4Wqnqp"
      },
      "source": [
        "# 学習データとテストデータに分離し、numpyに変換\n",
        "known_age = age_df[age_df.Age.notnull()].values  \n",
        "unknown_age = age_df[age_df.Age.isnull()].values"
      ],
      "execution_count": null,
      "outputs": []
    },
    {
      "cell_type": "code",
      "metadata": {
        "id": "4a5_lyEjqq6D"
      },
      "source": [
        "# 学習データをX, yに分離\n",
        "X = known_age[:, 1:]  \n",
        "y = known_age[:, 0]"
      ],
      "execution_count": null,
      "outputs": []
    },
    {
      "cell_type": "code",
      "metadata": {
        "id": "SmqgM-mqq0Ek",
        "outputId": "c21d3411-6f72-45fd-81b3-c79d576cabb9",
        "colab": {
          "base_uri": "https://localhost:8080/",
          "height": 136
        }
      },
      "source": [
        "# ランダムフォレストで推定モデルを構築\n",
        "rfr = RandomForestRegressor(random_state=0, n_estimators=100, n_jobs=-1)\n",
        "rfr.fit(X, y)"
      ],
      "execution_count": null,
      "outputs": [
        {
          "output_type": "execute_result",
          "data": {
            "text/plain": [
              "RandomForestRegressor(bootstrap=True, ccp_alpha=0.0, criterion='mse',\n",
              "                      max_depth=None, max_features='auto', max_leaf_nodes=None,\n",
              "                      max_samples=None, min_impurity_decrease=0.0,\n",
              "                      min_impurity_split=None, min_samples_leaf=1,\n",
              "                      min_samples_split=2, min_weight_fraction_leaf=0.0,\n",
              "                      n_estimators=100, n_jobs=-1, oob_score=False,\n",
              "                      random_state=0, verbose=0, warm_start=False)"
            ]
          },
          "metadata": {
            "tags": []
          },
          "execution_count": 14
        }
      ]
    },
    {
      "cell_type": "code",
      "metadata": {
        "id": "z86HRV4sq2LL"
      },
      "source": [
        "# 推定モデルを使って、テストデータのAgeを予測し、補完\n",
        "predictedAges = rfr.predict(unknown_age[:, 1::])\n",
        "df.loc[(df.Age.isnull()), 'Age'] = predictedAges \n"
      ],
      "execution_count": null,
      "outputs": []
    },
    {
      "cell_type": "code",
      "metadata": {
        "id": "jYKgB4utq46D",
        "outputId": "ddbfc7b4-58e9-4fde-cd7c-68819ec805d8",
        "colab": {
          "base_uri": "https://localhost:8080/",
          "height": 225
        }
      },
      "source": [
        "\n",
        "# 年齢別生存曲線と死亡曲線\n",
        "facet = sns.FacetGrid(df[0:890], hue=\"Perished\",aspect=2)\n",
        "facet.map(sns.kdeplot,'Age',shade= True)\n",
        "facet.set(xlim=(0, df.loc[0:890,'Age'].max()))\n",
        "facet.add_legend()\n",
        "plt.show()"
      ],
      "execution_count": null,
      "outputs": [
        {
          "output_type": "display_data",
          "data": {
            "image/png": "[encoded data removed]",
            "text/plain": [
              "<Figure size 483.875x216 with 1 Axes>"
            ]
          },
          "metadata": {
            "tags": [],
            "needs_background": "light"
          }
        }
      ]
    },
    {
      "cell_type": "code",
      "metadata": {
        "id": "yT5AHHUkq6_r",
        "outputId": "8c7f3d12-7a17-4016-9763-36775c7f08fd",
        "colab": {
          "base_uri": "https://localhost:8080/",
          "height": 296
        }
      },
      "source": [
        "# ------------ Name --------------\n",
        "# Nameから敬称(Title)を抽出し、グルーピング\n",
        "df['Title'] = df['Name'].map(lambda x: x.split(', ')[1].split('. ')[0])\n",
        "df['Title'].replace(['Capt', 'Col', 'Major', 'Dr', 'Rev'], 'Officer', inplace=True)\n",
        "df['Title'].replace(['Don', 'Sir',  'the Countess', 'Lady', 'Dona'], 'Royalty', inplace=True)\n",
        "df['Title'].replace(['Mme', 'Ms'], 'Mrs', inplace=True)\n",
        "df['Title'].replace(['Mlle'], 'Miss', inplace=True)\n",
        "df['Title'].replace(['Jonkheer'], 'Master', inplace=True)\n",
        "sns.barplot(x='Title', y='Perished', data=df, palette='Set3')\n"
      ],
      "execution_count": null,
      "outputs": [
        {
          "output_type": "execute_result",
          "data": {
            "text/plain": [
              "<matplotlib.axes._subplots.AxesSubplot at 0x7f69d08e9e48>"
            ]
          },
          "metadata": {
            "tags": []
          },
          "execution_count": 27
        },
        {
          "output_type": "display_data",
          "data": {
            "image/png": "[encoded data removed]",
            "text/plain": [
              "<Figure size 432x288 with 1 Axes>"
            ]
          },
          "metadata": {
            "tags": [],
            "needs_background": "light"
          }
        }
      ]
    },
    {
      "cell_type": "code",
      "metadata": {
        "id": "W9Qhk6YDwDaz"
      },
      "source": [
        "# ------------ Surname ------------\n",
        "# NameからSurname(苗字)を抽出\n",
        "df['Surname'] = df['Name'].map(lambda name:name.split(',')[0].strip())\n",
        "\n",
        "# 同じSurname(苗字)の出現頻度をカウント(出現回数が2以上なら家族)\n",
        "df['FamilyGroup'] = df['Surname'].map(df['Surname'].value_counts()) "
      ],
      "execution_count": null,
      "outputs": []
    },
    {
      "cell_type": "code",
      "metadata": {
        "id": "VYb-anxewhwL",
        "outputId": "e15a2017-8ac3-49ad-dc2b-adc61e39ec44",
        "colab": {
          "base_uri": "https://localhost:8080/",
          "height": 136
        }
      },
      "source": [
        "# 家族で16才以下または女性の生存率\n",
        "Female_Child_Group=df.loc[(df['FamilyGroup']>=2) & ((df['Age']<=16) | (df['Sex']=='female'))]\n",
        "Female_Child_Group=Female_Child_Group.groupby('Surname')['Perished'].mean()\n",
        "print(Female_Child_Group.value_counts())"
      ],
      "execution_count": null,
      "outputs": [
        {
          "output_type": "stream",
          "text": [
            "0.000000    113\n",
            "1.000000     32\n",
            "0.250000      2\n",
            "0.666667      1\n",
            "0.857143      1\n",
            "0.500000      1\n",
            "Name: Perished, dtype: int64\n"
          ],
          "name": "stdout"
        }
      ]
    },
    {
      "cell_type": "code",
      "metadata": {
        "id": "-XigN7X9wkv0",
        "outputId": "e06fde58-47b2-42b2-cdbb-9b2cb88ac394",
        "colab": {
          "base_uri": "https://localhost:8080/",
          "height": 119
        }
      },
      "source": [
        "# 家族で16才超えかつ男性の生存率\n",
        "Male_Adult_Group=df.loc[(df['FamilyGroup']>=2) & (df['Age']>16) & (df['Sex']=='male')]\n",
        "Male_Adult_List=Male_Adult_Group.groupby('Surname')['Perished'].mean()\n",
        "print(Male_Adult_List.value_counts())"
      ],
      "execution_count": null,
      "outputs": [
        {
          "output_type": "stream",
          "text": [
            "1.000000    115\n",
            "0.000000     21\n",
            "0.500000      6\n",
            "0.666667      2\n",
            "0.750000      1\n",
            "Name: Perished, dtype: int64\n"
          ],
          "name": "stdout"
        }
      ]
    },
    {
      "cell_type": "code",
      "metadata": {
        "id": "G8LrVsr4w8Id",
        "outputId": "9911acd4-1670-4b51-aaae-cabef75778a6",
        "colab": {
          "base_uri": "https://localhost:8080/",
          "height": 71
        }
      },
      "source": [
        "# デッドリストとサバイブリストの作成\n",
        "Dead_list=set(Female_Child_Group[Female_Child_Group.apply(lambda x:x==1)].index)\n",
        "Survived_list=set(Male_Adult_List[Male_Adult_List.apply(lambda x:x==0)].index)\n",
        "\n",
        "# デッドリストとサバイブリストの表示\n",
        "print('Dead_list = ', Dead_list)\n",
        "print('Survived_list = ', Survived_list)\n"
      ],
      "execution_count": null,
      "outputs": [
        {
          "output_type": "stream",
          "text": [
            "Dead_list =  {'Barbara', 'Ford', 'Zabour', 'Attalah', 'Cacic', 'Canavan', 'Vander Planke', 'Strom', 'Van Impe', 'Boulos', 'Caram', 'Palsson', 'Rice', 'Sage', 'Turpin', 'Lobb', 'Robins', 'Arnold-Franchi', 'Oreskovic', 'Bourke', 'Olsson', 'Ilmakangas', 'Panula', 'Elias', 'Lahtinen', 'Johnston', 'Jussila', 'Goodwin', 'Lefebre', 'Skoog', 'Rosblom', 'Danbom'}\n",
            "Survived_list =  {'Chambers', 'Moubarek', 'Dick', 'Taylor', 'Daly', 'Frolicher-Stehli', 'Bradley', 'Cardeza', 'Goldenberg', 'Duff Gordon', 'Nakid', 'Frauenthal', 'Jonsson', 'McCoy', 'Beane', 'Bishop', 'Kimball', 'Jussila', 'Harder', 'Greenfield', 'Beckwith'}\n"
          ],
          "name": "stdout"
        }
      ]
    },
    {
      "cell_type": "code",
      "metadata": {
        "id": "AYC24KTUxIM0"
      },
      "source": [
        "\n",
        "# デッドリストとサバイブリストをSex, Age, Title に反映させる\n",
        "df.loc[(df['Perished'].isnull()) & (df['Surname'].apply(lambda x:x in Dead_list)),\\\n",
        "             ['Sex','Age','Title']] = ['male',28.0,'Mr']\n",
        "df.loc[(df['Perished'].isnull()) & (df['Surname'].apply(lambda x:x in Survived_list)),\\\n",
        "             ['Sex','Age','Title']] = ['female',5.0,'Mrs']"
      ],
      "execution_count": null,
      "outputs": []
    },
    {
      "cell_type": "code",
      "metadata": {
        "id": "0-AWYWV5ytEb"
      },
      "source": [
        "# ----------- Fare -------------\n",
        "# 欠損値を Embarked='S', Pclass=3 の平均値で補完\n",
        "fare=df.loc[(df['Embarked'] == 'S') & (df['Pclass'] == 3), 'Fare'].median()\n",
        "df['Fare']=df['Fare'].fillna(fare)"
      ],
      "execution_count": null,
      "outputs": []
    },
    {
      "cell_type": "code",
      "metadata": {
        "id": "i56UJixuy3a0"
      },
      "source": [
        "# ----------- Family -------------\n",
        "# Family = SibSp + Parch + 1 を特徴量とし、グルーピング\n",
        "df['Family']=df['SibSp']+df['Parch']+1\n",
        "df.loc[(df['Family']>=2) & (df['Family']<=4), 'Family_label'] = 2\n",
        "df.loc[(df['Family']>=5) & (df['Family']<=7) | (df['Family']==1), 'Family_label'] = 1  # == に注意\n",
        "df.loc[(df['Family']>=8), 'Family_label'] = 0"
      ],
      "execution_count": null,
      "outputs": []
    },
    {
      "cell_type": "code",
      "metadata": {
        "id": "ZRvTy6SrzGN1",
        "outputId": "af9a5c60-bd9a-47b9-bb46-625403f36e55",
        "colab": {
          "base_uri": "https://localhost:8080/",
          "height": 279
        }
      },
      "source": [
        "# ----------- Ticket ----------------\n",
        "# 同一Ticketナンバーの人が何人いるかを特徴量として抽出\n",
        "Ticket_Count = dict(df['Ticket'].value_counts())\n",
        "df['TicketGroup'] = df['Ticket'].map(Ticket_Count)\n",
        "sns.barplot(x='TicketGroup', y='Perished', data=df, palette='Set3')\n",
        "plt.show()"
      ],
      "execution_count": null,
      "outputs": [
        {
          "output_type": "display_data",
          "data": {
            "image/png": "[encoded data removed]",
            "text/plain": [
              "<Figure size 432x288 with 1 Axes>"
            ]
          },
          "metadata": {
            "tags": [],
            "needs_background": "light"
          }
        }
      ]
    },
    {
      "cell_type": "code",
      "metadata": {
        "id": "0aN8t08hzOzt",
        "outputId": "47de7011-cc46-443a-cb1b-0cd703af8bd5",
        "colab": {
          "base_uri": "https://localhost:8080/",
          "height": 280
        }
      },
      "source": [
        "# 生存率で3つにグルーピング\n",
        "df.loc[(df['TicketGroup']>=2) & (df['TicketGroup']<=4), 'Ticket_label'] = 2\n",
        "df.loc[(df['TicketGroup']>=5) & (df['TicketGroup']<=8) | (df['TicketGroup']==1), 'Ticket_label'] = 1  \n",
        "df.loc[(df['TicketGroup']>=11), 'Ticket_label'] = 0\n",
        "sns.barplot(x='Ticket_label', y='Perished', data=df, palette='Set3')\n",
        "plt.show()"
      ],
      "execution_count": null,
      "outputs": [
        {
          "output_type": "display_data",
          "data": {
            "image/png": "[encoded data removed]",
            "text/plain": [
              "<Figure size 432x288 with 1 Axes>"
            ]
          },
          "metadata": {
            "tags": [],
            "needs_background": "light"
          }
        }
      ]
    },
    {
      "cell_type": "code",
      "metadata": {
        "id": "_NDV9A4ZzSwF",
        "outputId": "30dd3c38-96c7-4eb8-bbac-cc2bfc1ace3b",
        "colab": {
          "base_uri": "https://localhost:8080/",
          "height": 280
        }
      },
      "source": [
        "# ------------- Cabin ----------------\n",
        "# Cabinの先頭文字を特徴量とする(欠損値は U )\n",
        "df['Cabin'] = df['Cabin'].fillna('Unknown')\n",
        "df['Cabin_label']=df['Cabin'].str.get(0)\n",
        "sns.barplot(x='Cabin_label', y='Perished', data=df, palette='Set3')\n",
        "plt.show()"
      ],
      "execution_count": null,
      "outputs": [
        {
          "output_type": "display_data",
          "data": {
            "image/png": "[encoded data removed]",
            "text/plain": [
              "<Figure size 432x288 with 1 Axes>"
            ]
          },
          "metadata": {
            "tags": [],
            "needs_background": "light"
          }
        }
      ]
    },
    {
      "cell_type": "code",
      "metadata": {
        "id": "zSBItvFWzaR1"
      },
      "source": [
        "# ---------- Embarked ---------------\n",
        "# 欠損値をSで補完\n",
        "df['Embarked'] = df['Embarked'].fillna('S') "
      ],
      "execution_count": null,
      "outputs": []
    },
    {
      "cell_type": "code",
      "metadata": {
        "id": "JTR6lOTPzcq9"
      },
      "source": [
        "# ------------- 前処理 ---------------\n",
        "# 推定に使用する項目を指定\n",
        "df = df[['Perished','Pclass','Sex','Age','Fare','Embarked','Title','Family_label','Cabin_label','Ticket_label']]\n"
      ],
      "execution_count": null,
      "outputs": []
    },
    {
      "cell_type": "code",
      "metadata": {
        "id": "v8WO0-Dezm2l"
      },
      "source": [
        "# ラベル特徴量をワンホットエンコーディング\n",
        "df = pd.get_dummies(df)"
      ],
      "execution_count": null,
      "outputs": []
    },
    {
      "cell_type": "code",
      "metadata": {
        "id": "73WU5lbEzopV"
      },
      "source": [
        "# データセットを trainとtestに分割\n",
        "train = df[df['Perished'].notnull()]\n",
        "test = df[df['Perished'].isnull()].drop('Perished',axis=1)\n"
      ],
      "execution_count": null,
      "outputs": []
    },
    {
      "cell_type": "code",
      "metadata": {
        "id": "mTz1c94EzzW9"
      },
      "source": [
        "# データフレームをnumpyに変換\n",
        "X = train.values[:,1:]  \n",
        "y = train.values[:,0] \n",
        "test_x = test.values"
      ],
      "execution_count": null,
      "outputs": []
    },
    {
      "cell_type": "code",
      "metadata": {
        "id": "2YLO_zPBz3Wl"
      },
      "source": [
        "# ----------- 推定モデル構築 ---------------\n",
        "from sklearn.feature_selection import SelectKBest\n",
        "from sklearn.ensemble import RandomForestClassifier\n",
        "from sklearn.pipeline import make_pipeline\n",
        "from sklearn.model_selection import cross_validate"
      ],
      "execution_count": null,
      "outputs": []
    },
    {
      "cell_type": "code",
      "metadata": {
        "id": "D9qSHeMlz5OV"
      },
      "source": [
        "\n",
        "# 採用する特徴量を25個から20個に絞り込む\n",
        "select = SelectKBest(k = 20)"
      ],
      "execution_count": null,
      "outputs": []
    },
    {
      "cell_type": "code",
      "metadata": {
        "id": "kkSiWEFnz7MF",
        "outputId": "dcf0016a-77ad-4f9b-dc6c-609af1e74880",
        "colab": {
          "base_uri": "https://localhost:8080/",
          "height": 306
        }
      },
      "source": [
        "\n",
        "clf = RandomForestClassifier(random_state = 10, \n",
        "                             warm_start = True,  # 既にフィットしたモデルに学習を追加 \n",
        "                             n_estimators = 26,\n",
        "                             max_depth = 6, \n",
        "                             max_features = 'sqrt')\n",
        "pipeline = make_pipeline(select, clf)\n",
        "pipeline.fit(X, y)"
      ],
      "execution_count": null,
      "outputs": [
        {
          "output_type": "execute_result",
          "data": {
            "text/plain": [
              "Pipeline(memory=None,\n",
              "         steps=[('selectkbest',\n",
              "                 SelectKBest(k=20,\n",
              "                             score_func=<function f_classif at 0x7f69da0f8ae8>)),\n",
              "                ('randomforestclassifier',\n",
              "                 RandomForestClassifier(bootstrap=True, ccp_alpha=0.0,\n",
              "                                        class_weight=None, criterion='gini',\n",
              "                                        max_depth=6, max_features='sqrt',\n",
              "                                        max_leaf_nodes=None, max_samples=None,\n",
              "                                        min_impurity_decrease=0.0,\n",
              "                                        min_impurity_split=None,\n",
              "                                        min_samples_leaf=1, min_samples_split=2,\n",
              "                                        min_weight_fraction_leaf=0.0,\n",
              "                                        n_estimators=26, n_jobs=None,\n",
              "                                        oob_score=False, random_state=10,\n",
              "                                        verbose=0, warm_start=True))],\n",
              "         verbose=False)"
            ]
          },
          "metadata": {
            "tags": []
          },
          "execution_count": 75
        }
      ]
    },
    {
      "cell_type": "code",
      "metadata": {
        "id": "UKojdCF30BAp",
        "outputId": "3e91c882-93ab-4480-9d63-19b92901c5b3",
        "colab": {
          "base_uri": "https://localhost:8080/",
          "height": 139
        }
      },
      "source": [
        "\n",
        "# フィット結果の表示\n",
        "cv_result = cross_validate(pipeline, X, y, cv= 10)\n",
        "print('mean_score = ', np.mean(cv_result['test_score']))\n",
        "print('mean_std = ', np.std(cv_result['test_score']))"
      ],
      "execution_count": null,
      "outputs": [
        {
          "output_type": "stream",
          "text": [
            "/usr/local/lib/python3.6/dist-packages/sklearn/feature_selection/_univariate_selection.py:114: UserWarning: Features [23] are constant.\n",
            "  UserWarning)\n",
            "/usr/local/lib/python3.6/dist-packages/sklearn/feature_selection/_univariate_selection.py:115: RuntimeWarning: invalid value encountered in true_divide\n",
            "  f = msb / msw\n"
          ],
          "name": "stderr"
        },
        {
          "output_type": "stream",
          "text": [
            "mean_score =  0.8395006242197255\n",
            "mean_std =  0.049770983038016456\n"
          ],
          "name": "stdout"
        }
      ]
    },
    {
      "cell_type": "code",
      "metadata": {
        "id": "DORauO6_0IGc"
      },
      "source": [
        "# --------　採用した特徴量 ---------------\n",
        "# 採用の可否状況\n",
        "mask= select.get_support()"
      ],
      "execution_count": null,
      "outputs": []
    },
    {
      "cell_type": "code",
      "metadata": {
        "id": "xuoejggu0Io9"
      },
      "source": [
        "\n",
        "# 項目のリスト\n",
        "list_col = list(df.columns[1:])\n"
      ],
      "execution_count": null,
      "outputs": []
    },
    {
      "cell_type": "code",
      "metadata": {
        "id": "lb92i6KR0L4M",
        "outputId": "fa0450e3-b558-40fc-8f25-966f8c39f4cc",
        "colab": {
          "base_uri": "https://localhost:8080/",
          "height": 442
        }
      },
      "source": [
        "# 項目別の採用可否の一覧表\n",
        "for i, j in enumerate(list_col):\n",
        "    print('No'+str(i+1), j,'=',  mask[i])"
      ],
      "execution_count": null,
      "outputs": [
        {
          "output_type": "stream",
          "text": [
            "No1 Pclass = True\n",
            "No2 Age = True\n",
            "No3 Fare = True\n",
            "No4 Family_label = True\n",
            "No5 Ticket_label = True\n",
            "No6 Sex_female = True\n",
            "No7 Sex_male = True\n",
            "No8 Embarked_C = True\n",
            "No9 Embarked_Q = False\n",
            "No10 Embarked_S = True\n",
            "No11 Title_Master = True\n",
            "No12 Title_Miss = True\n",
            "No13 Title_Mr = True\n",
            "No14 Title_Mrs = True\n",
            "No15 Title_Officer = False\n",
            "No16 Title_Royalty = True\n",
            "No17 Cabin_label_A = False\n",
            "No18 Cabin_label_B = True\n",
            "No19 Cabin_label_C = True\n",
            "No20 Cabin_label_D = True\n",
            "No21 Cabin_label_E = True\n",
            "No22 Cabin_label_F = True\n",
            "No23 Cabin_label_G = False\n",
            "No24 Cabin_label_T = False\n",
            "No25 Cabin_label_U = True\n"
          ],
          "name": "stdout"
        }
      ]
    },
    {
      "cell_type": "code",
      "metadata": {
        "id": "Alkf4UVO0Mfu",
        "outputId": "6cc25e1e-db3a-4a48-e33d-c0182342c284",
        "colab": {
          "base_uri": "https://localhost:8080/",
          "height": 34
        }
      },
      "source": [
        "# シェイプの確認\n",
        "X_selected = select.transform(X)\n",
        "print('X.shape={}, X_selected.shape={}'.format(X.shape, X_selected.shape))"
      ],
      "execution_count": null,
      "outputs": [
        {
          "output_type": "stream",
          "text": [
            "X.shape=(891, 25), X_selected.shape=(891, 20)\n"
          ],
          "name": "stdout"
        }
      ]
    },
    {
      "cell_type": "code",
      "metadata": {
        "id": "CpX5FTy20RRe"
      },
      "source": [
        "# ----- Submit dataの作成　------- \n",
        "PassengerId=test_data['PassengerId']\n",
        "predictions = pipeline.predict(test_x)"
      ],
      "execution_count": null,
      "outputs": []
    },
    {
      "cell_type": "code",
      "metadata": {
        "id": "N0GrGvEI08m_"
      },
      "source": [
        "submission = pd.DataFrame({\"PassengerId\": PassengerId, \"Perished\": predictions.astype(np.int32)})\n",
        "submission.to_csv(\"submission.csv\", index=False)"
      ],
      "execution_count": null,
      "outputs": []
    },
    {
      "cell_type": "code",
      "metadata": {
        "id": "wTYMtEGr1YO-"
      },
      "source": [
        ""
      ],
      "execution_count": null,
      "outputs": []
    }
  ]
}